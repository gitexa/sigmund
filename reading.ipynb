{
 "metadata": {
  "language_info": {
   "codemirror_mode": {
    "name": "ipython",
    "version": 3
   },
   "file_extension": ".py",
   "mimetype": "text/x-python",
   "name": "python",
   "nbconvert_exporter": "python",
   "pygments_lexer": "ipython3",
   "version": "3.8.5-final"
  },
  "orig_nbformat": 2,
  "kernelspec": {
   "name": "python38564bitvenvvenv30852280aa994c9a85b4e785e689636a",
   "display_name": "Python 3.8.5 64-bit ('venv': venv)",
   "language": "python"
  }
 },
 "nbformat": 4,
 "nbformat_minor": 2,
 "cells": [
  {
   "cell_type": "code",
   "execution_count": 1,
   "metadata": {},
   "outputs": [],
   "source": [
    "%load_ext autoreload\n",
    "%autoreload 2"
   ]
  },
  {
   "cell_type": "code",
   "execution_count": 2,
   "metadata": {},
   "outputs": [],
   "source": [
    "import os\n",
    "from IPython.display import display \n",
    "\n",
    "import spacy"
   ]
  },
  {
   "cell_type": "code",
   "execution_count": 3,
   "metadata": {},
   "outputs": [],
   "source": [
    "folder = os.path.join(os.getcwd(), \"data\", \"transcripts\")\n",
    "files = [os.path.join(root, f) for root, _, files in os.walk(folder) for f in files if f.endswith(\".docx\")]\n",
    "        "
   ]
  },
  {
   "cell_type": "code",
   "execution_count": 4,
   "metadata": {
    "tags": []
   },
   "outputs": [
    {
     "output_type": "stream",
     "name": "stdout",
     "text": [
      "=== Parser: reading from /home/alexander/Projects/sigmund/data/transcripts/Paar 182_T1_IM_FW_corrected.docx ===\n",
      "=== Parser: reading from /home/alexander/Projects/sigmund/data/transcripts/Paar 27_T1_IM_FW_corrected.docx ===\n",
      "=== Parser: reading from /home/alexander/Projects/sigmund/data/transcripts/Paar 60_T1_IM_FW_corrected.docx ===\n",
      "=== Parser: reading from /home/alexander/Projects/sigmund/data/transcripts/Paar 47_T1_IM_FW_corrected.docx ===\n",
      "=== Parser: reading from /home/alexander/Projects/sigmund/data/transcripts/Paar 58_T1_IM_FW_corrected.docx ===\n",
      "=== Parser: reading from /home/alexander/Projects/sigmund/data/transcripts/Paar 29_T1_IM_FW_corrected.docx ===\n",
      "=== Parser: reading from /home/alexander/Projects/sigmund/data/transcripts/Paar 87_T1_IM_FW_corrected.docx ===\n",
      "=== Parser: reading from /home/alexander/Projects/sigmund/data/transcripts/Paar 81_T1_IM_FW_corrected.docx ===\n",
      "=== Parser: reading from /home/alexander/Projects/sigmund/data/transcripts/Paar 105_T1_IM_FW_corrected.docx ===\n",
      "=== Parser: reading from /home/alexander/Projects/sigmund/data/transcripts/Paar 138_T1_IM_FW_corrected.docx ===\n"
     ]
    }
   ],
   "source": [
    "from src.pipelinelib.querying import Parser, Queryable\n",
    "\n",
    "nlp = spacy.load(\"de_core_news_sm\", disable=[\"ner\", \"parser\"])\n",
    "parser = Parser(nlp=nlp, metadata_path=\"./data/transcripts/Kopie von Transkriptionspaare_Daten.xls\")\n",
    "\n",
    "parser.read_from_files(files)"
   ]
  },
  {
   "cell_type": "code",
   "execution_count": 5,
   "metadata": {},
   "outputs": [
    {
     "output_type": "display_data",
     "data": {
      "text/plain": "     document_id  paragraph_id  sentence_id  couple_id speaker gender  \\\n0              0             1            0        182       B      M   \n1              0             2            1        182       A      W   \n2              0             3            2        182       B      M   \n3              0             4            3        182       A      W   \n4              0             6            4        182       B      M   \n..           ...           ...          ...        ...     ...    ...   \n114            9            87          114        138       B      M   \n115            9            88          115        138       A      W   \n116            9            88          116        138       A      W   \n117            9            88          117        138       A      W   \n118            9            89          118        138       B      M   \n\n     is_depressed_group depressed_person  \\\n0                 False             None   \n1                 False             None   \n2                 False             None   \n3                 False             None   \n4                 False             None   \n..                  ...              ...   \n114                True                W   \n115                True                W   \n116                True                W   \n117                True                W   \n118                True                W   \n\n                                                  text  \n0                                                  Hm?  \n1                   Du solltest doch nicht nachgucken.  \n2    Sag nur ``Ich darf den schönen Mädchen nicht n...  \n3                                     Doch, darfst du.  \n4                                                Also.  \n..                                                 ...  \n114  Doch, das ist schon was Besonderes, ich hab je...  \n115                                               Hm .  \n116  Ja es gibt viele Erinnerungen die irgendwie di...  \n117                                Es ist interessant.  \n118  Ja, ich mein das war ja schon damals mit dem A...  \n\n[1152 rows x 9 columns]",
      "text/html": "<div>\n<style scoped>\n    .dataframe tbody tr th:only-of-type {\n        vertical-align: middle;\n    }\n\n    .dataframe tbody tr th {\n        vertical-align: top;\n    }\n\n    .dataframe thead th {\n        text-align: right;\n    }\n</style>\n<table border=\"1\" class=\"dataframe\">\n  <thead>\n    <tr style=\"text-align: right;\">\n      <th></th>\n      <th>document_id</th>\n      <th>paragraph_id</th>\n      <th>sentence_id</th>\n      <th>couple_id</th>\n      <th>speaker</th>\n      <th>gender</th>\n      <th>is_depressed_group</th>\n      <th>depressed_person</th>\n      <th>text</th>\n    </tr>\n  </thead>\n  <tbody>\n    <tr>\n      <th>0</th>\n      <td>0</td>\n      <td>1</td>\n      <td>0</td>\n      <td>182</td>\n      <td>B</td>\n      <td>M</td>\n      <td>False</td>\n      <td>None</td>\n      <td>Hm?</td>\n    </tr>\n    <tr>\n      <th>1</th>\n      <td>0</td>\n      <td>2</td>\n      <td>1</td>\n      <td>182</td>\n      <td>A</td>\n      <td>W</td>\n      <td>False</td>\n      <td>None</td>\n      <td>Du solltest doch nicht nachgucken.</td>\n    </tr>\n    <tr>\n      <th>2</th>\n      <td>0</td>\n      <td>3</td>\n      <td>2</td>\n      <td>182</td>\n      <td>B</td>\n      <td>M</td>\n      <td>False</td>\n      <td>None</td>\n      <td>Sag nur ``Ich darf den schönen Mädchen nicht n...</td>\n    </tr>\n    <tr>\n      <th>3</th>\n      <td>0</td>\n      <td>4</td>\n      <td>3</td>\n      <td>182</td>\n      <td>A</td>\n      <td>W</td>\n      <td>False</td>\n      <td>None</td>\n      <td>Doch, darfst du.</td>\n    </tr>\n    <tr>\n      <th>4</th>\n      <td>0</td>\n      <td>6</td>\n      <td>4</td>\n      <td>182</td>\n      <td>B</td>\n      <td>M</td>\n      <td>False</td>\n      <td>None</td>\n      <td>Also.</td>\n    </tr>\n    <tr>\n      <th>...</th>\n      <td>...</td>\n      <td>...</td>\n      <td>...</td>\n      <td>...</td>\n      <td>...</td>\n      <td>...</td>\n      <td>...</td>\n      <td>...</td>\n      <td>...</td>\n    </tr>\n    <tr>\n      <th>114</th>\n      <td>9</td>\n      <td>87</td>\n      <td>114</td>\n      <td>138</td>\n      <td>B</td>\n      <td>M</td>\n      <td>True</td>\n      <td>W</td>\n      <td>Doch, das ist schon was Besonderes, ich hab je...</td>\n    </tr>\n    <tr>\n      <th>115</th>\n      <td>9</td>\n      <td>88</td>\n      <td>115</td>\n      <td>138</td>\n      <td>A</td>\n      <td>W</td>\n      <td>True</td>\n      <td>W</td>\n      <td>Hm .</td>\n    </tr>\n    <tr>\n      <th>116</th>\n      <td>9</td>\n      <td>88</td>\n      <td>116</td>\n      <td>138</td>\n      <td>A</td>\n      <td>W</td>\n      <td>True</td>\n      <td>W</td>\n      <td>Ja es gibt viele Erinnerungen die irgendwie di...</td>\n    </tr>\n    <tr>\n      <th>117</th>\n      <td>9</td>\n      <td>88</td>\n      <td>117</td>\n      <td>138</td>\n      <td>A</td>\n      <td>W</td>\n      <td>True</td>\n      <td>W</td>\n      <td>Es ist interessant.</td>\n    </tr>\n    <tr>\n      <th>118</th>\n      <td>9</td>\n      <td>89</td>\n      <td>118</td>\n      <td>138</td>\n      <td>B</td>\n      <td>M</td>\n      <td>True</td>\n      <td>W</td>\n      <td>Ja, ich mein das war ja schon damals mit dem A...</td>\n    </tr>\n  </tbody>\n</table>\n<p>1152 rows × 9 columns</p>\n</div>"
     },
     "metadata": {}
    }
   ],
   "source": [
    "display(parser.frame)"
   ]
  },
  {
   "cell_type": "code",
   "execution_count": 6,
   "metadata": {},
   "outputs": [],
   "source": [
    "from src.pipelinelib.querying import Parser, Queryable\n",
    "from src.pipelinelib.text_body import TextBody\n",
    "\n",
    "queryable = Queryable.from_parser(parser)"
   ]
  },
  {
   "cell_type": "code",
   "execution_count": 7,
   "metadata": {},
   "outputs": [
    {
     "output_type": "stream",
     "name": "stdout",
     "text": [
      "=== Queryable is executing on Document level, query = '' ===\n"
     ]
    },
    {
     "output_type": "display_data",
     "data": {
      "text/plain": "   document_id  couple_id  is_depressed_group depressed_person  \\\n0            0        182               False             None   \n1            1         27                True                W   \n2            2         60                True                W   \n3            3         47                True                W   \n4            4         58               False             None   \n5            5         29               False             None   \n6            6         87               False             None   \n7            7         81               False             None   \n8            8        105                True                W   \n9            9        138                True                W   \n\n                                                text  \n0  Hm?. Du solltest doch nicht nachgucken.. Sag n...  \n1  Positive Gefühle.. Ja, positive Gefühle können...  \n2  Wenn´s positiv geht, dann wird es nicht laut, ...  \n3  Erzähl mir was.. Also wir müssen die Fragen je...  \n4  Soll ich anfangen?. Ich hab mir was überlegt.....  \n5  Gut, fangen wir mal an.. Ja, fang du mal an.. ...  \n6  Wie lang?. 10 Minuten. Okay, dann fang mal an....  \n7  Ich dachte wir reden darüber wie wir die erste...  \n8   Jetzt sollen wir uns unterhalten?. Genau.. Al...  \n9  Am Ammersee.. Dann machen wir es so.. Da, wo m...  ",
      "text/html": "<div>\n<style scoped>\n    .dataframe tbody tr th:only-of-type {\n        vertical-align: middle;\n    }\n\n    .dataframe tbody tr th {\n        vertical-align: top;\n    }\n\n    .dataframe thead th {\n        text-align: right;\n    }\n</style>\n<table border=\"1\" class=\"dataframe\">\n  <thead>\n    <tr style=\"text-align: right;\">\n      <th></th>\n      <th>document_id</th>\n      <th>couple_id</th>\n      <th>is_depressed_group</th>\n      <th>depressed_person</th>\n      <th>text</th>\n    </tr>\n  </thead>\n  <tbody>\n    <tr>\n      <th>0</th>\n      <td>0</td>\n      <td>182</td>\n      <td>False</td>\n      <td>None</td>\n      <td>Hm?. Du solltest doch nicht nachgucken.. Sag n...</td>\n    </tr>\n    <tr>\n      <th>1</th>\n      <td>1</td>\n      <td>27</td>\n      <td>True</td>\n      <td>W</td>\n      <td>Positive Gefühle.. Ja, positive Gefühle können...</td>\n    </tr>\n    <tr>\n      <th>2</th>\n      <td>2</td>\n      <td>60</td>\n      <td>True</td>\n      <td>W</td>\n      <td>Wenn´s positiv geht, dann wird es nicht laut, ...</td>\n    </tr>\n    <tr>\n      <th>3</th>\n      <td>3</td>\n      <td>47</td>\n      <td>True</td>\n      <td>W</td>\n      <td>Erzähl mir was.. Also wir müssen die Fragen je...</td>\n    </tr>\n    <tr>\n      <th>4</th>\n      <td>4</td>\n      <td>58</td>\n      <td>False</td>\n      <td>None</td>\n      <td>Soll ich anfangen?. Ich hab mir was überlegt.....</td>\n    </tr>\n    <tr>\n      <th>5</th>\n      <td>5</td>\n      <td>29</td>\n      <td>False</td>\n      <td>None</td>\n      <td>Gut, fangen wir mal an.. Ja, fang du mal an.. ...</td>\n    </tr>\n    <tr>\n      <th>6</th>\n      <td>6</td>\n      <td>87</td>\n      <td>False</td>\n      <td>None</td>\n      <td>Wie lang?. 10 Minuten. Okay, dann fang mal an....</td>\n    </tr>\n    <tr>\n      <th>7</th>\n      <td>7</td>\n      <td>81</td>\n      <td>False</td>\n      <td>None</td>\n      <td>Ich dachte wir reden darüber wie wir die erste...</td>\n    </tr>\n    <tr>\n      <th>8</th>\n      <td>8</td>\n      <td>105</td>\n      <td>True</td>\n      <td>W</td>\n      <td>Jetzt sollen wir uns unterhalten?. Genau.. Al...</td>\n    </tr>\n    <tr>\n      <th>9</th>\n      <td>9</td>\n      <td>138</td>\n      <td>True</td>\n      <td>W</td>\n      <td>Am Ammersee.. Dann machen wir es so.. Da, wo m...</td>\n    </tr>\n  </tbody>\n</table>\n</div>"
     },
     "metadata": {}
    }
   ],
   "source": [
    "document_df = queryable.execute(level=TextBody.DOCUMENT)\n",
    "display(document_df)"
   ]
  },
  {
   "cell_type": "code",
   "execution_count": 8,
   "metadata": {},
   "outputs": [
    {
     "output_type": "stream",
     "name": "stdout",
     "text": [
      "=== Queryable is executing on Paragraph level, query = '' ===\n"
     ]
    },
    {
     "output_type": "display_data",
     "data": {
      "text/plain": "     document_id  paragraph_id  couple_id speaker gender  is_depressed_group  \\\n0              0             1        182       B      M               False   \n1              0             2        182       A      W               False   \n2              0             3        182       B      M               False   \n3              0             4        182       A      W               False   \n4              0             6        182       B      M               False   \n..           ...           ...        ...     ...    ...                 ...   \n750            9            85        138       B      M                True   \n751            9            86        138       A      W                True   \n752            9            87        138       B      M                True   \n753            9            88        138       A      W                True   \n754            9            89        138       B      M                True   \n\n    depressed_person                                               text  \n0               None                                                Hm?  \n1               None                 Du solltest doch nicht nachgucken.  \n2               None  Sag nur ``Ich darf den schönen Mädchen nicht n...  \n3               None                                   Doch, darfst du.  \n4               None                                              Also.  \n..               ...                                                ...  \n750                W  Okay und das ist dann wenn du so ein Foto schi...  \n751                W                    Ja, empfindest du das nicht so?  \n752                W  Doch, das ist schon was Besonderes, ich hab je...  \n753                W  Hm .. Ja es gibt viele Erinnerungen die irgend...  \n754                W  Ja, ich mein das war ja schon damals mit dem A...  \n\n[755 rows x 8 columns]",
      "text/html": "<div>\n<style scoped>\n    .dataframe tbody tr th:only-of-type {\n        vertical-align: middle;\n    }\n\n    .dataframe tbody tr th {\n        vertical-align: top;\n    }\n\n    .dataframe thead th {\n        text-align: right;\n    }\n</style>\n<table border=\"1\" class=\"dataframe\">\n  <thead>\n    <tr style=\"text-align: right;\">\n      <th></th>\n      <th>document_id</th>\n      <th>paragraph_id</th>\n      <th>couple_id</th>\n      <th>speaker</th>\n      <th>gender</th>\n      <th>is_depressed_group</th>\n      <th>depressed_person</th>\n      <th>text</th>\n    </tr>\n  </thead>\n  <tbody>\n    <tr>\n      <th>0</th>\n      <td>0</td>\n      <td>1</td>\n      <td>182</td>\n      <td>B</td>\n      <td>M</td>\n      <td>False</td>\n      <td>None</td>\n      <td>Hm?</td>\n    </tr>\n    <tr>\n      <th>1</th>\n      <td>0</td>\n      <td>2</td>\n      <td>182</td>\n      <td>A</td>\n      <td>W</td>\n      <td>False</td>\n      <td>None</td>\n      <td>Du solltest doch nicht nachgucken.</td>\n    </tr>\n    <tr>\n      <th>2</th>\n      <td>0</td>\n      <td>3</td>\n      <td>182</td>\n      <td>B</td>\n      <td>M</td>\n      <td>False</td>\n      <td>None</td>\n      <td>Sag nur ``Ich darf den schönen Mädchen nicht n...</td>\n    </tr>\n    <tr>\n      <th>3</th>\n      <td>0</td>\n      <td>4</td>\n      <td>182</td>\n      <td>A</td>\n      <td>W</td>\n      <td>False</td>\n      <td>None</td>\n      <td>Doch, darfst du.</td>\n    </tr>\n    <tr>\n      <th>4</th>\n      <td>0</td>\n      <td>6</td>\n      <td>182</td>\n      <td>B</td>\n      <td>M</td>\n      <td>False</td>\n      <td>None</td>\n      <td>Also.</td>\n    </tr>\n    <tr>\n      <th>...</th>\n      <td>...</td>\n      <td>...</td>\n      <td>...</td>\n      <td>...</td>\n      <td>...</td>\n      <td>...</td>\n      <td>...</td>\n      <td>...</td>\n    </tr>\n    <tr>\n      <th>750</th>\n      <td>9</td>\n      <td>85</td>\n      <td>138</td>\n      <td>B</td>\n      <td>M</td>\n      <td>True</td>\n      <td>W</td>\n      <td>Okay und das ist dann wenn du so ein Foto schi...</td>\n    </tr>\n    <tr>\n      <th>751</th>\n      <td>9</td>\n      <td>86</td>\n      <td>138</td>\n      <td>A</td>\n      <td>W</td>\n      <td>True</td>\n      <td>W</td>\n      <td>Ja, empfindest du das nicht so?</td>\n    </tr>\n    <tr>\n      <th>752</th>\n      <td>9</td>\n      <td>87</td>\n      <td>138</td>\n      <td>B</td>\n      <td>M</td>\n      <td>True</td>\n      <td>W</td>\n      <td>Doch, das ist schon was Besonderes, ich hab je...</td>\n    </tr>\n    <tr>\n      <th>753</th>\n      <td>9</td>\n      <td>88</td>\n      <td>138</td>\n      <td>A</td>\n      <td>W</td>\n      <td>True</td>\n      <td>W</td>\n      <td>Hm .. Ja es gibt viele Erinnerungen die irgend...</td>\n    </tr>\n    <tr>\n      <th>754</th>\n      <td>9</td>\n      <td>89</td>\n      <td>138</td>\n      <td>B</td>\n      <td>M</td>\n      <td>True</td>\n      <td>W</td>\n      <td>Ja, ich mein das war ja schon damals mit dem A...</td>\n    </tr>\n  </tbody>\n</table>\n<p>755 rows × 8 columns</p>\n</div>"
     },
     "metadata": {}
    }
   ],
   "source": [
    "paragraph_df = queryable.execute(level=TextBody.PARAGRAPH)\n",
    "display(paragraph_df)"
   ]
  },
  {
   "cell_type": "code",
   "execution_count": 9,
   "metadata": {},
   "outputs": [
    {
     "output_type": "stream",
     "name": "stdout",
     "text": [
      "=== Queryable is executing on Sentence level, query = '' ===\n"
     ]
    },
    {
     "output_type": "display_data",
     "data": {
      "text/plain": "     document_id  paragraph_id  sentence_id  couple_id speaker gender  \\\n0              0             1            0        182       B      M   \n1              0             2            1        182       A      W   \n2              0             3            2        182       B      M   \n3              0             4            3        182       A      W   \n4              0             6            4        182       B      M   \n..           ...           ...          ...        ...     ...    ...   \n114            9            87          114        138       B      M   \n115            9            88          115        138       A      W   \n116            9            88          116        138       A      W   \n117            9            88          117        138       A      W   \n118            9            89          118        138       B      M   \n\n     is_depressed_group depressed_person  \\\n0                 False             None   \n1                 False             None   \n2                 False             None   \n3                 False             None   \n4                 False             None   \n..                  ...              ...   \n114                True                W   \n115                True                W   \n116                True                W   \n117                True                W   \n118                True                W   \n\n                                                  text  \n0                                                  Hm?  \n1                   Du solltest doch nicht nachgucken.  \n2    Sag nur ``Ich darf den schönen Mädchen nicht n...  \n3                                     Doch, darfst du.  \n4                                                Also.  \n..                                                 ...  \n114  Doch, das ist schon was Besonderes, ich hab je...  \n115                                               Hm .  \n116  Ja es gibt viele Erinnerungen die irgendwie di...  \n117                                Es ist interessant.  \n118  Ja, ich mein das war ja schon damals mit dem A...  \n\n[1152 rows x 9 columns]",
      "text/html": "<div>\n<style scoped>\n    .dataframe tbody tr th:only-of-type {\n        vertical-align: middle;\n    }\n\n    .dataframe tbody tr th {\n        vertical-align: top;\n    }\n\n    .dataframe thead th {\n        text-align: right;\n    }\n</style>\n<table border=\"1\" class=\"dataframe\">\n  <thead>\n    <tr style=\"text-align: right;\">\n      <th></th>\n      <th>document_id</th>\n      <th>paragraph_id</th>\n      <th>sentence_id</th>\n      <th>couple_id</th>\n      <th>speaker</th>\n      <th>gender</th>\n      <th>is_depressed_group</th>\n      <th>depressed_person</th>\n      <th>text</th>\n    </tr>\n  </thead>\n  <tbody>\n    <tr>\n      <th>0</th>\n      <td>0</td>\n      <td>1</td>\n      <td>0</td>\n      <td>182</td>\n      <td>B</td>\n      <td>M</td>\n      <td>False</td>\n      <td>None</td>\n      <td>Hm?</td>\n    </tr>\n    <tr>\n      <th>1</th>\n      <td>0</td>\n      <td>2</td>\n      <td>1</td>\n      <td>182</td>\n      <td>A</td>\n      <td>W</td>\n      <td>False</td>\n      <td>None</td>\n      <td>Du solltest doch nicht nachgucken.</td>\n    </tr>\n    <tr>\n      <th>2</th>\n      <td>0</td>\n      <td>3</td>\n      <td>2</td>\n      <td>182</td>\n      <td>B</td>\n      <td>M</td>\n      <td>False</td>\n      <td>None</td>\n      <td>Sag nur ``Ich darf den schönen Mädchen nicht n...</td>\n    </tr>\n    <tr>\n      <th>3</th>\n      <td>0</td>\n      <td>4</td>\n      <td>3</td>\n      <td>182</td>\n      <td>A</td>\n      <td>W</td>\n      <td>False</td>\n      <td>None</td>\n      <td>Doch, darfst du.</td>\n    </tr>\n    <tr>\n      <th>4</th>\n      <td>0</td>\n      <td>6</td>\n      <td>4</td>\n      <td>182</td>\n      <td>B</td>\n      <td>M</td>\n      <td>False</td>\n      <td>None</td>\n      <td>Also.</td>\n    </tr>\n    <tr>\n      <th>...</th>\n      <td>...</td>\n      <td>...</td>\n      <td>...</td>\n      <td>...</td>\n      <td>...</td>\n      <td>...</td>\n      <td>...</td>\n      <td>...</td>\n      <td>...</td>\n    </tr>\n    <tr>\n      <th>114</th>\n      <td>9</td>\n      <td>87</td>\n      <td>114</td>\n      <td>138</td>\n      <td>B</td>\n      <td>M</td>\n      <td>True</td>\n      <td>W</td>\n      <td>Doch, das ist schon was Besonderes, ich hab je...</td>\n    </tr>\n    <tr>\n      <th>115</th>\n      <td>9</td>\n      <td>88</td>\n      <td>115</td>\n      <td>138</td>\n      <td>A</td>\n      <td>W</td>\n      <td>True</td>\n      <td>W</td>\n      <td>Hm .</td>\n    </tr>\n    <tr>\n      <th>116</th>\n      <td>9</td>\n      <td>88</td>\n      <td>116</td>\n      <td>138</td>\n      <td>A</td>\n      <td>W</td>\n      <td>True</td>\n      <td>W</td>\n      <td>Ja es gibt viele Erinnerungen die irgendwie di...</td>\n    </tr>\n    <tr>\n      <th>117</th>\n      <td>9</td>\n      <td>88</td>\n      <td>117</td>\n      <td>138</td>\n      <td>A</td>\n      <td>W</td>\n      <td>True</td>\n      <td>W</td>\n      <td>Es ist interessant.</td>\n    </tr>\n    <tr>\n      <th>118</th>\n      <td>9</td>\n      <td>89</td>\n      <td>118</td>\n      <td>138</td>\n      <td>B</td>\n      <td>M</td>\n      <td>True</td>\n      <td>W</td>\n      <td>Ja, ich mein das war ja schon damals mit dem A...</td>\n    </tr>\n  </tbody>\n</table>\n<p>1152 rows × 9 columns</p>\n</div>"
     },
     "metadata": {}
    },
    {
     "output_type": "stream",
     "name": "stdout",
     "text": [
      "=== Queryable is executing on Sentence level, query = '' ===\n"
     ]
    },
    {
     "output_type": "execute_result",
     "data": {
      "text/plain": [
       "     document_id  paragraph_id  sentence_id  couple_id speaker gender  \\\n",
       "0              0             1            0        182       B      M   \n",
       "1              0             2            1        182       A      W   \n",
       "2              0             3            2        182       B      M   \n",
       "3              0             4            3        182       A      W   \n",
       "4              0             6            4        182       B      M   \n",
       "..           ...           ...          ...        ...     ...    ...   \n",
       "114            9            87          114        138       B      M   \n",
       "115            9            88          115        138       A      W   \n",
       "116            9            88          116        138       A      W   \n",
       "117            9            88          117        138       A      W   \n",
       "118            9            89          118        138       B      M   \n",
       "\n",
       "     is_depressed_group depressed_person  \\\n",
       "0                 False             None   \n",
       "1                 False             None   \n",
       "2                 False             None   \n",
       "3                 False             None   \n",
       "4                 False             None   \n",
       "..                  ...              ...   \n",
       "114                True                W   \n",
       "115                True                W   \n",
       "116                True                W   \n",
       "117                True                W   \n",
       "118                True                W   \n",
       "\n",
       "                                                  text  \n",
       "0                                                  Hm?  \n",
       "1                   Du solltest doch nicht nachgucken.  \n",
       "2    Sag nur ``Ich darf den schönen Mädchen nicht n...  \n",
       "3                                     Doch, darfst du.  \n",
       "4                                                Also.  \n",
       "..                                                 ...  \n",
       "114  Doch, das ist schon was Besonderes, ich hab je...  \n",
       "115                                               Hm .  \n",
       "116  Ja es gibt viele Erinnerungen die irgendwie di...  \n",
       "117                                Es ist interessant.  \n",
       "118  Ja, ich mein das war ja schon damals mit dem A...  \n",
       "\n",
       "[1152 rows x 9 columns]"
      ],
      "text/html": "<div>\n<style scoped>\n    .dataframe tbody tr th:only-of-type {\n        vertical-align: middle;\n    }\n\n    .dataframe tbody tr th {\n        vertical-align: top;\n    }\n\n    .dataframe thead th {\n        text-align: right;\n    }\n</style>\n<table border=\"1\" class=\"dataframe\">\n  <thead>\n    <tr style=\"text-align: right;\">\n      <th></th>\n      <th>document_id</th>\n      <th>paragraph_id</th>\n      <th>sentence_id</th>\n      <th>couple_id</th>\n      <th>speaker</th>\n      <th>gender</th>\n      <th>is_depressed_group</th>\n      <th>depressed_person</th>\n      <th>text</th>\n    </tr>\n  </thead>\n  <tbody>\n    <tr>\n      <th>0</th>\n      <td>0</td>\n      <td>1</td>\n      <td>0</td>\n      <td>182</td>\n      <td>B</td>\n      <td>M</td>\n      <td>False</td>\n      <td>None</td>\n      <td>Hm?</td>\n    </tr>\n    <tr>\n      <th>1</th>\n      <td>0</td>\n      <td>2</td>\n      <td>1</td>\n      <td>182</td>\n      <td>A</td>\n      <td>W</td>\n      <td>False</td>\n      <td>None</td>\n      <td>Du solltest doch nicht nachgucken.</td>\n    </tr>\n    <tr>\n      <th>2</th>\n      <td>0</td>\n      <td>3</td>\n      <td>2</td>\n      <td>182</td>\n      <td>B</td>\n      <td>M</td>\n      <td>False</td>\n      <td>None</td>\n      <td>Sag nur ``Ich darf den schönen Mädchen nicht n...</td>\n    </tr>\n    <tr>\n      <th>3</th>\n      <td>0</td>\n      <td>4</td>\n      <td>3</td>\n      <td>182</td>\n      <td>A</td>\n      <td>W</td>\n      <td>False</td>\n      <td>None</td>\n      <td>Doch, darfst du.</td>\n    </tr>\n    <tr>\n      <th>4</th>\n      <td>0</td>\n      <td>6</td>\n      <td>4</td>\n      <td>182</td>\n      <td>B</td>\n      <td>M</td>\n      <td>False</td>\n      <td>None</td>\n      <td>Also.</td>\n    </tr>\n    <tr>\n      <th>...</th>\n      <td>...</td>\n      <td>...</td>\n      <td>...</td>\n      <td>...</td>\n      <td>...</td>\n      <td>...</td>\n      <td>...</td>\n      <td>...</td>\n      <td>...</td>\n    </tr>\n    <tr>\n      <th>114</th>\n      <td>9</td>\n      <td>87</td>\n      <td>114</td>\n      <td>138</td>\n      <td>B</td>\n      <td>M</td>\n      <td>True</td>\n      <td>W</td>\n      <td>Doch, das ist schon was Besonderes, ich hab je...</td>\n    </tr>\n    <tr>\n      <th>115</th>\n      <td>9</td>\n      <td>88</td>\n      <td>115</td>\n      <td>138</td>\n      <td>A</td>\n      <td>W</td>\n      <td>True</td>\n      <td>W</td>\n      <td>Hm .</td>\n    </tr>\n    <tr>\n      <th>116</th>\n      <td>9</td>\n      <td>88</td>\n      <td>116</td>\n      <td>138</td>\n      <td>A</td>\n      <td>W</td>\n      <td>True</td>\n      <td>W</td>\n      <td>Ja es gibt viele Erinnerungen die irgendwie di...</td>\n    </tr>\n    <tr>\n      <th>117</th>\n      <td>9</td>\n      <td>88</td>\n      <td>117</td>\n      <td>138</td>\n      <td>A</td>\n      <td>W</td>\n      <td>True</td>\n      <td>W</td>\n      <td>Es ist interessant.</td>\n    </tr>\n    <tr>\n      <th>118</th>\n      <td>9</td>\n      <td>89</td>\n      <td>118</td>\n      <td>138</td>\n      <td>B</td>\n      <td>M</td>\n      <td>True</td>\n      <td>W</td>\n      <td>Ja, ich mein das war ja schon damals mit dem A...</td>\n    </tr>\n  </tbody>\n</table>\n<p>1152 rows × 9 columns</p>\n</div>"
     },
     "metadata": {},
     "execution_count": 9
    }
   ],
   "source": [
    "sentence_df = queryable.execute(level=TextBody.SENTENCE)\n",
    "display(sentence_df)\n",
    "\n",
    "queryable.execute(level=TextBody.SENTENCE)"
   ]
  },
  {
   "cell_type": "code",
   "execution_count": 10,
   "metadata": {},
   "outputs": [
    {
     "output_type": "stream",
     "name": "stdout",
     "text": [
      "=== Queryable is executing on Document level, query = '(couple_id == 27) and (is_depressed_group == False)' ===\n"
     ]
    },
    {
     "output_type": "display_data",
     "data": {
      "text/plain": "Empty DataFrame\nColumns: [document_id, couple_id, is_depressed_group, depressed_person, text]\nIndex: []",
      "text/html": "<div>\n<style scoped>\n    .dataframe tbody tr th:only-of-type {\n        vertical-align: middle;\n    }\n\n    .dataframe tbody tr th {\n        vertical-align: top;\n    }\n\n    .dataframe thead th {\n        text-align: right;\n    }\n</style>\n<table border=\"1\" class=\"dataframe\">\n  <thead>\n    <tr style=\"text-align: right;\">\n      <th></th>\n      <th>document_id</th>\n      <th>couple_id</th>\n      <th>is_depressed_group</th>\n      <th>depressed_person</th>\n      <th>text</th>\n    </tr>\n  </thead>\n  <tbody>\n  </tbody>\n</table>\n</div>"
     },
     "metadata": {}
    }
   ],
   "source": [
    "pgs = queryable.by_couple_id(couple_id=27) \\\n",
    "    .is_depressed(d=False) \\\n",
    "    .execute(level=TextBody.DOCUMENT)\n",
    "display(pgs)"
   ]
  },
  {
   "cell_type": "code",
   "execution_count": 11,
   "metadata": {},
   "outputs": [
    {
     "output_type": "execute_result",
     "data": {
      "text/plain": [
       "'\\npipeline  = Pipeline(queryable=queryable)\\npipeline.add_component(Tokenizer())\\ndisplay(pipeline.execute())\\n'"
      ]
     },
     "metadata": {},
     "execution_count": 11
    }
   ],
   "source": []
  },
  {
   "cell_type": "code",
   "execution_count": 11,
   "metadata": {
    "tags": []
   },
   "outputs": [
    {
     "output_type": "stream",
     "name": "stdout",
     "text": [
      "=== Starting pipeline with ['Tokenizer', 'Stemmer', 'Lemmatizer', 'FeatureTFIDF', 'LiwcOneHot', 'FeatureMerger', 'NaiveBayes'] ===\n",
      "Executing Tokenizer\n",
      "=== Queryable is executing on Document level, query = '' ===\n",
      "=== Queryable is executing on Paragraph level, query = '' ===\n",
      "=== Queryable is executing on Sentence level, query = '' ===\n",
      "Executing Stemmer\n",
      "Executing Lemmatizer\n",
      "Executing FeatureTFIDF\n",
      "Executing LiwcOneHot\n"
     ]
    },
    {
     "output_type": "error",
     "ename": "AttributeError",
     "evalue": "module 'liwc' has no attribute 'load_token_parser'",
     "traceback": [
      "\u001b[0;31m---------------------------------------------------------------------------\u001b[0m",
      "\u001b[0;31mAttributeError\u001b[0m                            Traceback (most recent call last)",
      "\u001b[0;32m<ipython-input-11-3feaf9403778>\u001b[0m in \u001b[0;36m<module>\u001b[0;34m\u001b[0m\n\u001b[1;32m     15\u001b[0m \u001b[0mpipeline\u001b[0m\u001b[0;34m.\u001b[0m\u001b[0madd_component\u001b[0m\u001b[0;34m(\u001b[0m\u001b[0mFeatureMerger\u001b[0m\u001b[0;34m(\u001b[0m\u001b[0;34m)\u001b[0m\u001b[0;34m)\u001b[0m \u001b[0;31m#[TFIDF_DOCUMENT]))\u001b[0m\u001b[0;34m\u001b[0m\u001b[0;34m\u001b[0m\u001b[0m\n\u001b[1;32m     16\u001b[0m \u001b[0mpipeline\u001b[0m\u001b[0;34m.\u001b[0m\u001b[0madd_component\u001b[0m\u001b[0;34m(\u001b[0m\u001b[0mNaiveBayes\u001b[0m\u001b[0;34m(\u001b[0m\u001b[0;34m)\u001b[0m\u001b[0;34m)\u001b[0m\u001b[0;34m\u001b[0m\u001b[0;34m\u001b[0m\u001b[0m\n\u001b[0;32m---> 17\u001b[0;31m \u001b[0mdisplay\u001b[0m\u001b[0;34m(\u001b[0m\u001b[0mpipeline\u001b[0m\u001b[0;34m.\u001b[0m\u001b[0mexecute\u001b[0m\u001b[0;34m(\u001b[0m\u001b[0;34m)\u001b[0m\u001b[0;34m)\u001b[0m\u001b[0;34m\u001b[0m\u001b[0;34m\u001b[0m\u001b[0m\n\u001b[0m",
      "\u001b[0;32m~/Projects/sigmund/src/pipelinelib/pipeline.py\u001b[0m in \u001b[0;36mexecute\u001b[0;34m(self, visualise)\u001b[0m\n\u001b[1;32m     64\u001b[0m         \u001b[0mcurr\u001b[0m\u001b[0;34m:\u001b[0m \u001b[0mDict\u001b[0m\u001b[0;34m[\u001b[0m\u001b[0mExtension\u001b[0m\u001b[0;34m,\u001b[0m \u001b[0mpd\u001b[0m\u001b[0;34m.\u001b[0m\u001b[0mDataFrame\u001b[0m\u001b[0;34m]\u001b[0m \u001b[0;34m=\u001b[0m \u001b[0mdict\u001b[0m\u001b[0;34m(\u001b[0m\u001b[0;34m)\u001b[0m\u001b[0;34m\u001b[0m\u001b[0;34m\u001b[0m\u001b[0m\n\u001b[1;32m     65\u001b[0m         \u001b[0;32mfor\u001b[0m \u001b[0mcomponent\u001b[0m \u001b[0;32min\u001b[0m \u001b[0mself\u001b[0m\u001b[0;34m.\u001b[0m\u001b[0m_components\u001b[0m\u001b[0;34m:\u001b[0m\u001b[0;34m\u001b[0m\u001b[0;34m\u001b[0m\u001b[0m\n\u001b[0;32m---> 66\u001b[0;31m             result = component._internal_apply(\n\u001b[0m\u001b[1;32m     67\u001b[0m                 storage=curr, queryable=self._queryable)\n\u001b[1;32m     68\u001b[0m \u001b[0;34m\u001b[0m\u001b[0m\n",
      "\u001b[0;32m~/Projects/sigmund/src/pipelinelib/component.py\u001b[0m in \u001b[0;36m_internal_apply\u001b[0;34m(self, storage, queryable)\u001b[0m\n\u001b[1;32m     38\u001b[0m         \"\"\"\n\u001b[1;32m     39\u001b[0m         \u001b[0mprint\u001b[0m\u001b[0;34m(\u001b[0m\u001b[0;34mf\"Executing {self.name}\"\u001b[0m\u001b[0;34m)\u001b[0m\u001b[0;34m\u001b[0m\u001b[0;34m\u001b[0m\u001b[0m\n\u001b[0;32m---> 40\u001b[0;31m         \u001b[0mresults\u001b[0m \u001b[0;34m=\u001b[0m \u001b[0mself\u001b[0m\u001b[0;34m.\u001b[0m\u001b[0mapply\u001b[0m\u001b[0;34m(\u001b[0m\u001b[0mstorage\u001b[0m\u001b[0;34m=\u001b[0m\u001b[0mstorage\u001b[0m\u001b[0;34m,\u001b[0m \u001b[0mqueryable\u001b[0m\u001b[0;34m=\u001b[0m\u001b[0mqueryable\u001b[0m\u001b[0;34m)\u001b[0m\u001b[0;34m\u001b[0m\u001b[0;34m\u001b[0m\u001b[0m\n\u001b[0m\u001b[1;32m     41\u001b[0m \u001b[0;34m\u001b[0m\u001b[0m\n\u001b[1;32m     42\u001b[0m         \u001b[0;32mreturn\u001b[0m \u001b[0mresults\u001b[0m\u001b[0;34m\u001b[0m\u001b[0;34m\u001b[0m\u001b[0m\n",
      "\u001b[0;32m~/Projects/sigmund/src/sigmund/features/liwc_one_hot.py\u001b[0m in \u001b[0;36mapply\u001b[0;34m(self, storage, queryable)\u001b[0m\n\u001b[1;32m     48\u001b[0m \u001b[0;34m\u001b[0m\u001b[0m\n\u001b[1;32m     49\u001b[0m         \u001b[0;31m# Get the liwc parser/categories\u001b[0m\u001b[0;34m\u001b[0m\u001b[0;34m\u001b[0m\u001b[0;34m\u001b[0m\u001b[0m\n\u001b[0;32m---> 50\u001b[0;31m         \u001b[0mparse\u001b[0m\u001b[0;34m,\u001b[0m \u001b[0mcategory_names\u001b[0m \u001b[0;34m=\u001b[0m \u001b[0mliwc\u001b[0m\u001b[0;34m.\u001b[0m\u001b[0mload_token_parser\u001b[0m\u001b[0;34m(\u001b[0m\u001b[0mself\u001b[0m\u001b[0;34m.\u001b[0m\u001b[0mtoken_parser_path\u001b[0m\u001b[0;34m)\u001b[0m\u001b[0;34m\u001b[0m\u001b[0;34m\u001b[0m\u001b[0m\n\u001b[0m\u001b[1;32m     51\u001b[0m \u001b[0;34m\u001b[0m\u001b[0m\n\u001b[1;32m     52\u001b[0m         \u001b[0;31m# Get LIWC for sentence, paragraph\u001b[0m\u001b[0;34m\u001b[0m\u001b[0;34m\u001b[0m\u001b[0;34m\u001b[0m\u001b[0m\n",
      "\u001b[0;31mAttributeError\u001b[0m: module 'liwc' has no attribute 'load_token_parser'"
     ]
    }
   ],
   "source": [
    "from src.sigmund.preprocessing.words import Tokenizer, Stemmer, Lemmatizer\n",
    "from src.sigmund.features.tfidf import FeatureTFIDF\n",
    "from src.pipelinelib.pipeline import Pipeline\n",
    "from src.sigmund.classification.naive_bayes import NaiveBayes\n",
    "from src.sigmund.classification.merger import FeatureMerger\n",
    "from src.sigmund.extensions import TFIDF_DOCUMENT\n",
    "from src.sigmund.features.liwc_one_hot import LiwcOneHot\n",
    "\n",
    "pipeline = Pipeline(queryable=queryable)\n",
    "pipeline.add_component(Tokenizer())\n",
    "pipeline.add_component(Stemmer())\n",
    "pipeline.add_component(Lemmatizer())\n",
    "pipeline.add_component(FeatureTFIDF())\n",
    "pipeline.add_component(LiwcOneHot())\n",
    "pipeline.add_component(FeatureMerger()) #[TFIDF_DOCUMENT]))\n",
    "pipeline.add_component(NaiveBayes())\n",
    "display(pipeline.execute())"
   ]
  }
 ]
}