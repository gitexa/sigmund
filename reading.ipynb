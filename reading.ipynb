{
 "metadata": {
  "language_info": {
   "codemirror_mode": {
    "name": "ipython",
    "version": 3
   },
   "file_extension": ".py",
   "mimetype": "text/x-python",
   "name": "python",
   "nbconvert_exporter": "python",
   "pygments_lexer": "ipython3",
   "version": "3.8.5-final"
  },
  "orig_nbformat": 2,
  "kernelspec": {
   "name": "python38564bitvenvvenv30852280aa994c9a85b4e785e689636a",
   "display_name": "Python 3.8.5 64-bit ('venv': venv)",
   "language": "python"
  }
 },
 "nbformat": 4,
 "nbformat_minor": 2,
 "cells": [
  {
   "cell_type": "code",
   "execution_count": 2,
   "metadata": {},
   "outputs": [
    {
     "output_type": "stream",
     "name": "stdout",
     "text": [
      "The autoreload extension is already loaded. To reload it, use:\n  %reload_ext autoreload\n"
     ]
    }
   ],
   "source": [
    "%load_ext autoreload\n",
    "%autoreload 2"
   ]
  },
  {
   "cell_type": "code",
   "execution_count": 3,
   "metadata": {},
   "outputs": [],
   "source": [
    "import os\n",
    "from IPython.display import display \n",
    "\n",
    "import spacy"
   ]
  },
  {
   "cell_type": "code",
   "execution_count": 4,
   "metadata": {},
   "outputs": [],
   "source": [
    "folder = os.path.join(os.getcwd(), \"data\", \"transcripts\")\n",
    "files = [os.path.join(root, f) for root, _, files in os.walk(folder) for f in files if f.endswith(\".docx\")]\n",
    "        "
   ]
  },
  {
   "cell_type": "code",
   "execution_count": 5,
   "metadata": {
    "tags": []
   },
   "outputs": [
    {
     "output_type": "stream",
     "name": "stdout",
     "text": [
      "=== Parser: reading from /home/alexander/Projects/sigmund/data/transcripts/Paar 182_T1_IM_FW_corrected.docx ===\n",
      "=== Parser: reading from /home/alexander/Projects/sigmund/data/transcripts/Paar 27_T1_IM_FW_corrected.docx ===\n",
      "=== Parser: reading from /home/alexander/Projects/sigmund/data/transcripts/Paar 60_T1_IM_FW_corrected.docx ===\n",
      "=== Parser: reading from /home/alexander/Projects/sigmund/data/transcripts/Paar 47_T1_IM_FW_corrected.docx ===\n",
      "=== Parser: reading from /home/alexander/Projects/sigmund/data/transcripts/Paar 58_T1_IM_FW_corrected.docx ===\n",
      "=== Parser: reading from /home/alexander/Projects/sigmund/data/transcripts/Paar 29_T1_IM_FW_corrected.docx ===\n",
      "=== Parser: reading from /home/alexander/Projects/sigmund/data/transcripts/Paar 87_T1_IM_FW_corrected.docx ===\n",
      "=== Parser: reading from /home/alexander/Projects/sigmund/data/transcripts/Paar 81_T1_IM_FW_corrected.docx ===\n",
      "=== Parser: reading from /home/alexander/Projects/sigmund/data/transcripts/Paar 105_T1_IM_FW_corrected.docx ===\n",
      "=== Parser: reading from /home/alexander/Projects/sigmund/data/transcripts/Paar 138_T1_IM_FW_corrected.docx ===\n"
     ]
    }
   ],
   "source": [
    "from src.pipelinelib.querying import Parser, Queryable\n",
    "\n",
    "nlp = spacy.load(\"de_core_news_sm\", disable=[\"ner\", \"parser\"])\n",
    "parser = Parser(nlp=nlp, metadata_path=\"./data/transcripts/Kopie von Transkriptionspaare_Daten.xls\")\n",
    "\n",
    "parser.read_from_files(files)"
   ]
  },
  {
   "cell_type": "code",
   "execution_count": 6,
   "metadata": {},
   "outputs": [
    {
     "output_type": "display_data",
     "data": {
      "text/plain": "     document_id  paragraph_id  sentence_id  couple_id speaker gender  \\\n0              0             1            0        182       B      M   \n1              0             2            1        182       A      W   \n2              0             3            2        182       B      M   \n3              0             4            3        182       A      W   \n4              0             6            4        182       B      M   \n..           ...           ...          ...        ...     ...    ...   \n114            9            87          114        138       B      M   \n115            9            88          115        138       A      W   \n116            9            88          116        138       A      W   \n117            9            88          117        138       A      W   \n118            9            89          118        138       B      M   \n\n     is_depressed_group depressed_person  \\\n0                 False             None   \n1                 False             None   \n2                 False             None   \n3                 False             None   \n4                 False             None   \n..                  ...              ...   \n114                True                W   \n115                True                W   \n116                True                W   \n117                True                W   \n118                True                W   \n\n                                                  text  \n0                                                  Hm?  \n1                   Du solltest doch nicht nachgucken.  \n2    Sag nur ``Ich darf den schönen Mädchen nicht n...  \n3                                     Doch, darfst du.  \n4                                                Also.  \n..                                                 ...  \n114  Doch, das ist schon was Besonderes, ich hab je...  \n115                                               Hm .  \n116  Ja es gibt viele Erinnerungen die irgendwie di...  \n117                                Es ist interessant.  \n118  Ja, ich mein das war ja schon damals mit dem A...  \n\n[1152 rows x 9 columns]",
      "text/html": "<div>\n<style scoped>\n    .dataframe tbody tr th:only-of-type {\n        vertical-align: middle;\n    }\n\n    .dataframe tbody tr th {\n        vertical-align: top;\n    }\n\n    .dataframe thead th {\n        text-align: right;\n    }\n</style>\n<table border=\"1\" class=\"dataframe\">\n  <thead>\n    <tr style=\"text-align: right;\">\n      <th></th>\n      <th>document_id</th>\n      <th>paragraph_id</th>\n      <th>sentence_id</th>\n      <th>couple_id</th>\n      <th>speaker</th>\n      <th>gender</th>\n      <th>is_depressed_group</th>\n      <th>depressed_person</th>\n      <th>text</th>\n    </tr>\n  </thead>\n  <tbody>\n    <tr>\n      <th>0</th>\n      <td>0</td>\n      <td>1</td>\n      <td>0</td>\n      <td>182</td>\n      <td>B</td>\n      <td>M</td>\n      <td>False</td>\n      <td>None</td>\n      <td>Hm?</td>\n    </tr>\n    <tr>\n      <th>1</th>\n      <td>0</td>\n      <td>2</td>\n      <td>1</td>\n      <td>182</td>\n      <td>A</td>\n      <td>W</td>\n      <td>False</td>\n      <td>None</td>\n      <td>Du solltest doch nicht nachgucken.</td>\n    </tr>\n    <tr>\n      <th>2</th>\n      <td>0</td>\n      <td>3</td>\n      <td>2</td>\n      <td>182</td>\n      <td>B</td>\n      <td>M</td>\n      <td>False</td>\n      <td>None</td>\n      <td>Sag nur ``Ich darf den schönen Mädchen nicht n...</td>\n    </tr>\n    <tr>\n      <th>3</th>\n      <td>0</td>\n      <td>4</td>\n      <td>3</td>\n      <td>182</td>\n      <td>A</td>\n      <td>W</td>\n      <td>False</td>\n      <td>None</td>\n      <td>Doch, darfst du.</td>\n    </tr>\n    <tr>\n      <th>4</th>\n      <td>0</td>\n      <td>6</td>\n      <td>4</td>\n      <td>182</td>\n      <td>B</td>\n      <td>M</td>\n      <td>False</td>\n      <td>None</td>\n      <td>Also.</td>\n    </tr>\n    <tr>\n      <th>...</th>\n      <td>...</td>\n      <td>...</td>\n      <td>...</td>\n      <td>...</td>\n      <td>...</td>\n      <td>...</td>\n      <td>...</td>\n      <td>...</td>\n      <td>...</td>\n    </tr>\n    <tr>\n      <th>114</th>\n      <td>9</td>\n      <td>87</td>\n      <td>114</td>\n      <td>138</td>\n      <td>B</td>\n      <td>M</td>\n      <td>True</td>\n      <td>W</td>\n      <td>Doch, das ist schon was Besonderes, ich hab je...</td>\n    </tr>\n    <tr>\n      <th>115</th>\n      <td>9</td>\n      <td>88</td>\n      <td>115</td>\n      <td>138</td>\n      <td>A</td>\n      <td>W</td>\n      <td>True</td>\n      <td>W</td>\n      <td>Hm .</td>\n    </tr>\n    <tr>\n      <th>116</th>\n      <td>9</td>\n      <td>88</td>\n      <td>116</td>\n      <td>138</td>\n      <td>A</td>\n      <td>W</td>\n      <td>True</td>\n      <td>W</td>\n      <td>Ja es gibt viele Erinnerungen die irgendwie di...</td>\n    </tr>\n    <tr>\n      <th>117</th>\n      <td>9</td>\n      <td>88</td>\n      <td>117</td>\n      <td>138</td>\n      <td>A</td>\n      <td>W</td>\n      <td>True</td>\n      <td>W</td>\n      <td>Es ist interessant.</td>\n    </tr>\n    <tr>\n      <th>118</th>\n      <td>9</td>\n      <td>89</td>\n      <td>118</td>\n      <td>138</td>\n      <td>B</td>\n      <td>M</td>\n      <td>True</td>\n      <td>W</td>\n      <td>Ja, ich mein das war ja schon damals mit dem A...</td>\n    </tr>\n  </tbody>\n</table>\n<p>1152 rows × 9 columns</p>\n</div>"
     },
     "metadata": {}
    }
   ],
   "source": [
    "display(parser.frame)"
   ]
  },
  {
   "cell_type": "code",
   "execution_count": 7,
   "metadata": {},
   "outputs": [],
   "source": [
    "from src.pipelinelib.querying import Parser, Queryable\n",
    "from src.pipelinelib.text_body import TextBody\n",
    "\n",
    "queryable = Queryable.from_parser(parser)"
   ]
  },
  {
   "cell_type": "code",
   "execution_count": 8,
   "metadata": {},
   "outputs": [
    {
     "output_type": "stream",
     "name": "stdout",
     "text": [
      "=== Queryable is executing on Document level, query = '' ===\n"
     ]
    },
    {
     "output_type": "display_data",
     "data": {
      "text/plain": "   document_id  couple_id  is_depressed_group depressed_person  \\\n0            0        182               False             None   \n1            1         27                True                W   \n2            2         60                True                W   \n3            3         47                True                W   \n4            4         58               False             None   \n5            5         29               False             None   \n6            6         87               False             None   \n7            7         81               False             None   \n8            8        105                True                W   \n9            9        138                True                W   \n\n                                                text  \n0  Hm?. Du solltest doch nicht nachgucken.. Sag n...  \n1  Positive Gefühle.. Ja, positive Gefühle können...  \n2  Wenn´s positiv geht, dann wird es nicht laut, ...  \n3  Erzähl mir was.. Also wir müssen die Fragen je...  \n4  Soll ich anfangen?. Ich hab mir was überlegt.....  \n5  Gut, fangen wir mal an.. Ja, fang du mal an.. ...  \n6  Wie lang?. 10 Minuten. Okay, dann fang mal an....  \n7  Ich dachte wir reden darüber wie wir die erste...  \n8   Jetzt sollen wir uns unterhalten?. Genau.. Al...  \n9  Am Ammersee.. Dann machen wir es so.. Da, wo m...  ",
      "text/html": "<div>\n<style scoped>\n    .dataframe tbody tr th:only-of-type {\n        vertical-align: middle;\n    }\n\n    .dataframe tbody tr th {\n        vertical-align: top;\n    }\n\n    .dataframe thead th {\n        text-align: right;\n    }\n</style>\n<table border=\"1\" class=\"dataframe\">\n  <thead>\n    <tr style=\"text-align: right;\">\n      <th></th>\n      <th>document_id</th>\n      <th>couple_id</th>\n      <th>is_depressed_group</th>\n      <th>depressed_person</th>\n      <th>text</th>\n    </tr>\n  </thead>\n  <tbody>\n    <tr>\n      <th>0</th>\n      <td>0</td>\n      <td>182</td>\n      <td>False</td>\n      <td>None</td>\n      <td>Hm?. Du solltest doch nicht nachgucken.. Sag n...</td>\n    </tr>\n    <tr>\n      <th>1</th>\n      <td>1</td>\n      <td>27</td>\n      <td>True</td>\n      <td>W</td>\n      <td>Positive Gefühle.. Ja, positive Gefühle können...</td>\n    </tr>\n    <tr>\n      <th>2</th>\n      <td>2</td>\n      <td>60</td>\n      <td>True</td>\n      <td>W</td>\n      <td>Wenn´s positiv geht, dann wird es nicht laut, ...</td>\n    </tr>\n    <tr>\n      <th>3</th>\n      <td>3</td>\n      <td>47</td>\n      <td>True</td>\n      <td>W</td>\n      <td>Erzähl mir was.. Also wir müssen die Fragen je...</td>\n    </tr>\n    <tr>\n      <th>4</th>\n      <td>4</td>\n      <td>58</td>\n      <td>False</td>\n      <td>None</td>\n      <td>Soll ich anfangen?. Ich hab mir was überlegt.....</td>\n    </tr>\n    <tr>\n      <th>5</th>\n      <td>5</td>\n      <td>29</td>\n      <td>False</td>\n      <td>None</td>\n      <td>Gut, fangen wir mal an.. Ja, fang du mal an.. ...</td>\n    </tr>\n    <tr>\n      <th>6</th>\n      <td>6</td>\n      <td>87</td>\n      <td>False</td>\n      <td>None</td>\n      <td>Wie lang?. 10 Minuten. Okay, dann fang mal an....</td>\n    </tr>\n    <tr>\n      <th>7</th>\n      <td>7</td>\n      <td>81</td>\n      <td>False</td>\n      <td>None</td>\n      <td>Ich dachte wir reden darüber wie wir die erste...</td>\n    </tr>\n    <tr>\n      <th>8</th>\n      <td>8</td>\n      <td>105</td>\n      <td>True</td>\n      <td>W</td>\n      <td>Jetzt sollen wir uns unterhalten?. Genau.. Al...</td>\n    </tr>\n    <tr>\n      <th>9</th>\n      <td>9</td>\n      <td>138</td>\n      <td>True</td>\n      <td>W</td>\n      <td>Am Ammersee.. Dann machen wir es so.. Da, wo m...</td>\n    </tr>\n  </tbody>\n</table>\n</div>"
     },
     "metadata": {}
    }
   ],
   "source": [
    "document_df = queryable.execute(level=TextBody.DOCUMENT)\n",
    "display(document_df)"
   ]
  },
  {
   "cell_type": "code",
   "execution_count": 9,
   "metadata": {},
   "outputs": [
    {
     "output_type": "stream",
     "name": "stdout",
     "text": [
      "=== Queryable is executing on Paragraph level, query = '' ===\n"
     ]
    },
    {
     "output_type": "display_data",
     "data": {
      "text/plain": "     document_id  paragraph_id  couple_id speaker gender  is_depressed_group  \\\n0              0             1        182       B      M               False   \n1              0             2        182       A      W               False   \n2              0             3        182       B      M               False   \n3              0             4        182       A      W               False   \n4              0             6        182       B      M               False   \n..           ...           ...        ...     ...    ...                 ...   \n750            9            85        138       B      M                True   \n751            9            86        138       A      W                True   \n752            9            87        138       B      M                True   \n753            9            88        138       A      W                True   \n754            9            89        138       B      M                True   \n\n    depressed_person                                               text  \n0               None                                                Hm?  \n1               None                 Du solltest doch nicht nachgucken.  \n2               None  Sag nur ``Ich darf den schönen Mädchen nicht n...  \n3               None                                   Doch, darfst du.  \n4               None                                              Also.  \n..               ...                                                ...  \n750                W  Okay und das ist dann wenn du so ein Foto schi...  \n751                W                    Ja, empfindest du das nicht so?  \n752                W  Doch, das ist schon was Besonderes, ich hab je...  \n753                W  Hm .. Ja es gibt viele Erinnerungen die irgend...  \n754                W  Ja, ich mein das war ja schon damals mit dem A...  \n\n[755 rows x 8 columns]",
      "text/html": "<div>\n<style scoped>\n    .dataframe tbody tr th:only-of-type {\n        vertical-align: middle;\n    }\n\n    .dataframe tbody tr th {\n        vertical-align: top;\n    }\n\n    .dataframe thead th {\n        text-align: right;\n    }\n</style>\n<table border=\"1\" class=\"dataframe\">\n  <thead>\n    <tr style=\"text-align: right;\">\n      <th></th>\n      <th>document_id</th>\n      <th>paragraph_id</th>\n      <th>couple_id</th>\n      <th>speaker</th>\n      <th>gender</th>\n      <th>is_depressed_group</th>\n      <th>depressed_person</th>\n      <th>text</th>\n    </tr>\n  </thead>\n  <tbody>\n    <tr>\n      <th>0</th>\n      <td>0</td>\n      <td>1</td>\n      <td>182</td>\n      <td>B</td>\n      <td>M</td>\n      <td>False</td>\n      <td>None</td>\n      <td>Hm?</td>\n    </tr>\n    <tr>\n      <th>1</th>\n      <td>0</td>\n      <td>2</td>\n      <td>182</td>\n      <td>A</td>\n      <td>W</td>\n      <td>False</td>\n      <td>None</td>\n      <td>Du solltest doch nicht nachgucken.</td>\n    </tr>\n    <tr>\n      <th>2</th>\n      <td>0</td>\n      <td>3</td>\n      <td>182</td>\n      <td>B</td>\n      <td>M</td>\n      <td>False</td>\n      <td>None</td>\n      <td>Sag nur ``Ich darf den schönen Mädchen nicht n...</td>\n    </tr>\n    <tr>\n      <th>3</th>\n      <td>0</td>\n      <td>4</td>\n      <td>182</td>\n      <td>A</td>\n      <td>W</td>\n      <td>False</td>\n      <td>None</td>\n      <td>Doch, darfst du.</td>\n    </tr>\n    <tr>\n      <th>4</th>\n      <td>0</td>\n      <td>6</td>\n      <td>182</td>\n      <td>B</td>\n      <td>M</td>\n      <td>False</td>\n      <td>None</td>\n      <td>Also.</td>\n    </tr>\n    <tr>\n      <th>...</th>\n      <td>...</td>\n      <td>...</td>\n      <td>...</td>\n      <td>...</td>\n      <td>...</td>\n      <td>...</td>\n      <td>...</td>\n      <td>...</td>\n    </tr>\n    <tr>\n      <th>750</th>\n      <td>9</td>\n      <td>85</td>\n      <td>138</td>\n      <td>B</td>\n      <td>M</td>\n      <td>True</td>\n      <td>W</td>\n      <td>Okay und das ist dann wenn du so ein Foto schi...</td>\n    </tr>\n    <tr>\n      <th>751</th>\n      <td>9</td>\n      <td>86</td>\n      <td>138</td>\n      <td>A</td>\n      <td>W</td>\n      <td>True</td>\n      <td>W</td>\n      <td>Ja, empfindest du das nicht so?</td>\n    </tr>\n    <tr>\n      <th>752</th>\n      <td>9</td>\n      <td>87</td>\n      <td>138</td>\n      <td>B</td>\n      <td>M</td>\n      <td>True</td>\n      <td>W</td>\n      <td>Doch, das ist schon was Besonderes, ich hab je...</td>\n    </tr>\n    <tr>\n      <th>753</th>\n      <td>9</td>\n      <td>88</td>\n      <td>138</td>\n      <td>A</td>\n      <td>W</td>\n      <td>True</td>\n      <td>W</td>\n      <td>Hm .. Ja es gibt viele Erinnerungen die irgend...</td>\n    </tr>\n    <tr>\n      <th>754</th>\n      <td>9</td>\n      <td>89</td>\n      <td>138</td>\n      <td>B</td>\n      <td>M</td>\n      <td>True</td>\n      <td>W</td>\n      <td>Ja, ich mein das war ja schon damals mit dem A...</td>\n    </tr>\n  </tbody>\n</table>\n<p>755 rows × 8 columns</p>\n</div>"
     },
     "metadata": {}
    }
   ],
   "source": [
    "paragraph_df = queryable.execute(level=TextBody.PARAGRAPH)\n",
    "display(paragraph_df)"
   ]
  },
  {
   "cell_type": "code",
   "execution_count": 10,
   "metadata": {},
   "outputs": [
    {
     "output_type": "stream",
     "name": "stdout",
     "text": [
      "=== Queryable is executing on Sentence level, query = '' ===\n"
     ]
    },
    {
     "output_type": "display_data",
     "data": {
      "text/plain": "     document_id  paragraph_id  sentence_id  couple_id speaker gender  \\\n0              0             1            0        182       B      M   \n1              0             2            1        182       A      W   \n2              0             3            2        182       B      M   \n3              0             4            3        182       A      W   \n4              0             6            4        182       B      M   \n..           ...           ...          ...        ...     ...    ...   \n114            9            87          114        138       B      M   \n115            9            88          115        138       A      W   \n116            9            88          116        138       A      W   \n117            9            88          117        138       A      W   \n118            9            89          118        138       B      M   \n\n     is_depressed_group depressed_person  \\\n0                 False             None   \n1                 False             None   \n2                 False             None   \n3                 False             None   \n4                 False             None   \n..                  ...              ...   \n114                True                W   \n115                True                W   \n116                True                W   \n117                True                W   \n118                True                W   \n\n                                                  text  \n0                                                  Hm?  \n1                   Du solltest doch nicht nachgucken.  \n2    Sag nur ``Ich darf den schönen Mädchen nicht n...  \n3                                     Doch, darfst du.  \n4                                                Also.  \n..                                                 ...  \n114  Doch, das ist schon was Besonderes, ich hab je...  \n115                                               Hm .  \n116  Ja es gibt viele Erinnerungen die irgendwie di...  \n117                                Es ist interessant.  \n118  Ja, ich mein das war ja schon damals mit dem A...  \n\n[1152 rows x 9 columns]",
      "text/html": "<div>\n<style scoped>\n    .dataframe tbody tr th:only-of-type {\n        vertical-align: middle;\n    }\n\n    .dataframe tbody tr th {\n        vertical-align: top;\n    }\n\n    .dataframe thead th {\n        text-align: right;\n    }\n</style>\n<table border=\"1\" class=\"dataframe\">\n  <thead>\n    <tr style=\"text-align: right;\">\n      <th></th>\n      <th>document_id</th>\n      <th>paragraph_id</th>\n      <th>sentence_id</th>\n      <th>couple_id</th>\n      <th>speaker</th>\n      <th>gender</th>\n      <th>is_depressed_group</th>\n      <th>depressed_person</th>\n      <th>text</th>\n    </tr>\n  </thead>\n  <tbody>\n    <tr>\n      <th>0</th>\n      <td>0</td>\n      <td>1</td>\n      <td>0</td>\n      <td>182</td>\n      <td>B</td>\n      <td>M</td>\n      <td>False</td>\n      <td>None</td>\n      <td>Hm?</td>\n    </tr>\n    <tr>\n      <th>1</th>\n      <td>0</td>\n      <td>2</td>\n      <td>1</td>\n      <td>182</td>\n      <td>A</td>\n      <td>W</td>\n      <td>False</td>\n      <td>None</td>\n      <td>Du solltest doch nicht nachgucken.</td>\n    </tr>\n    <tr>\n      <th>2</th>\n      <td>0</td>\n      <td>3</td>\n      <td>2</td>\n      <td>182</td>\n      <td>B</td>\n      <td>M</td>\n      <td>False</td>\n      <td>None</td>\n      <td>Sag nur ``Ich darf den schönen Mädchen nicht n...</td>\n    </tr>\n    <tr>\n      <th>3</th>\n      <td>0</td>\n      <td>4</td>\n      <td>3</td>\n      <td>182</td>\n      <td>A</td>\n      <td>W</td>\n      <td>False</td>\n      <td>None</td>\n      <td>Doch, darfst du.</td>\n    </tr>\n    <tr>\n      <th>4</th>\n      <td>0</td>\n      <td>6</td>\n      <td>4</td>\n      <td>182</td>\n      <td>B</td>\n      <td>M</td>\n      <td>False</td>\n      <td>None</td>\n      <td>Also.</td>\n    </tr>\n    <tr>\n      <th>...</th>\n      <td>...</td>\n      <td>...</td>\n      <td>...</td>\n      <td>...</td>\n      <td>...</td>\n      <td>...</td>\n      <td>...</td>\n      <td>...</td>\n      <td>...</td>\n    </tr>\n    <tr>\n      <th>114</th>\n      <td>9</td>\n      <td>87</td>\n      <td>114</td>\n      <td>138</td>\n      <td>B</td>\n      <td>M</td>\n      <td>True</td>\n      <td>W</td>\n      <td>Doch, das ist schon was Besonderes, ich hab je...</td>\n    </tr>\n    <tr>\n      <th>115</th>\n      <td>9</td>\n      <td>88</td>\n      <td>115</td>\n      <td>138</td>\n      <td>A</td>\n      <td>W</td>\n      <td>True</td>\n      <td>W</td>\n      <td>Hm .</td>\n    </tr>\n    <tr>\n      <th>116</th>\n      <td>9</td>\n      <td>88</td>\n      <td>116</td>\n      <td>138</td>\n      <td>A</td>\n      <td>W</td>\n      <td>True</td>\n      <td>W</td>\n      <td>Ja es gibt viele Erinnerungen die irgendwie di...</td>\n    </tr>\n    <tr>\n      <th>117</th>\n      <td>9</td>\n      <td>88</td>\n      <td>117</td>\n      <td>138</td>\n      <td>A</td>\n      <td>W</td>\n      <td>True</td>\n      <td>W</td>\n      <td>Es ist interessant.</td>\n    </tr>\n    <tr>\n      <th>118</th>\n      <td>9</td>\n      <td>89</td>\n      <td>118</td>\n      <td>138</td>\n      <td>B</td>\n      <td>M</td>\n      <td>True</td>\n      <td>W</td>\n      <td>Ja, ich mein das war ja schon damals mit dem A...</td>\n    </tr>\n  </tbody>\n</table>\n<p>1152 rows × 9 columns</p>\n</div>"
     },
     "metadata": {}
    },
    {
     "output_type": "stream",
     "name": "stdout",
     "text": [
      "=== Queryable is executing on Sentence level, query = '' ===\n"
     ]
    },
    {
     "output_type": "execute_result",
     "data": {
      "text/plain": [
       "     document_id  paragraph_id  sentence_id  couple_id speaker gender  \\\n",
       "0              0             1            0        182       B      M   \n",
       "1              0             2            1        182       A      W   \n",
       "2              0             3            2        182       B      M   \n",
       "3              0             4            3        182       A      W   \n",
       "4              0             6            4        182       B      M   \n",
       "..           ...           ...          ...        ...     ...    ...   \n",
       "114            9            87          114        138       B      M   \n",
       "115            9            88          115        138       A      W   \n",
       "116            9            88          116        138       A      W   \n",
       "117            9            88          117        138       A      W   \n",
       "118            9            89          118        138       B      M   \n",
       "\n",
       "     is_depressed_group depressed_person  \\\n",
       "0                 False             None   \n",
       "1                 False             None   \n",
       "2                 False             None   \n",
       "3                 False             None   \n",
       "4                 False             None   \n",
       "..                  ...              ...   \n",
       "114                True                W   \n",
       "115                True                W   \n",
       "116                True                W   \n",
       "117                True                W   \n",
       "118                True                W   \n",
       "\n",
       "                                                  text  \n",
       "0                                                  Hm?  \n",
       "1                   Du solltest doch nicht nachgucken.  \n",
       "2    Sag nur ``Ich darf den schönen Mädchen nicht n...  \n",
       "3                                     Doch, darfst du.  \n",
       "4                                                Also.  \n",
       "..                                                 ...  \n",
       "114  Doch, das ist schon was Besonderes, ich hab je...  \n",
       "115                                               Hm .  \n",
       "116  Ja es gibt viele Erinnerungen die irgendwie di...  \n",
       "117                                Es ist interessant.  \n",
       "118  Ja, ich mein das war ja schon damals mit dem A...  \n",
       "\n",
       "[1152 rows x 9 columns]"
      ],
      "text/html": "<div>\n<style scoped>\n    .dataframe tbody tr th:only-of-type {\n        vertical-align: middle;\n    }\n\n    .dataframe tbody tr th {\n        vertical-align: top;\n    }\n\n    .dataframe thead th {\n        text-align: right;\n    }\n</style>\n<table border=\"1\" class=\"dataframe\">\n  <thead>\n    <tr style=\"text-align: right;\">\n      <th></th>\n      <th>document_id</th>\n      <th>paragraph_id</th>\n      <th>sentence_id</th>\n      <th>couple_id</th>\n      <th>speaker</th>\n      <th>gender</th>\n      <th>is_depressed_group</th>\n      <th>depressed_person</th>\n      <th>text</th>\n    </tr>\n  </thead>\n  <tbody>\n    <tr>\n      <th>0</th>\n      <td>0</td>\n      <td>1</td>\n      <td>0</td>\n      <td>182</td>\n      <td>B</td>\n      <td>M</td>\n      <td>False</td>\n      <td>None</td>\n      <td>Hm?</td>\n    </tr>\n    <tr>\n      <th>1</th>\n      <td>0</td>\n      <td>2</td>\n      <td>1</td>\n      <td>182</td>\n      <td>A</td>\n      <td>W</td>\n      <td>False</td>\n      <td>None</td>\n      <td>Du solltest doch nicht nachgucken.</td>\n    </tr>\n    <tr>\n      <th>2</th>\n      <td>0</td>\n      <td>3</td>\n      <td>2</td>\n      <td>182</td>\n      <td>B</td>\n      <td>M</td>\n      <td>False</td>\n      <td>None</td>\n      <td>Sag nur ``Ich darf den schönen Mädchen nicht n...</td>\n    </tr>\n    <tr>\n      <th>3</th>\n      <td>0</td>\n      <td>4</td>\n      <td>3</td>\n      <td>182</td>\n      <td>A</td>\n      <td>W</td>\n      <td>False</td>\n      <td>None</td>\n      <td>Doch, darfst du.</td>\n    </tr>\n    <tr>\n      <th>4</th>\n      <td>0</td>\n      <td>6</td>\n      <td>4</td>\n      <td>182</td>\n      <td>B</td>\n      <td>M</td>\n      <td>False</td>\n      <td>None</td>\n      <td>Also.</td>\n    </tr>\n    <tr>\n      <th>...</th>\n      <td>...</td>\n      <td>...</td>\n      <td>...</td>\n      <td>...</td>\n      <td>...</td>\n      <td>...</td>\n      <td>...</td>\n      <td>...</td>\n      <td>...</td>\n    </tr>\n    <tr>\n      <th>114</th>\n      <td>9</td>\n      <td>87</td>\n      <td>114</td>\n      <td>138</td>\n      <td>B</td>\n      <td>M</td>\n      <td>True</td>\n      <td>W</td>\n      <td>Doch, das ist schon was Besonderes, ich hab je...</td>\n    </tr>\n    <tr>\n      <th>115</th>\n      <td>9</td>\n      <td>88</td>\n      <td>115</td>\n      <td>138</td>\n      <td>A</td>\n      <td>W</td>\n      <td>True</td>\n      <td>W</td>\n      <td>Hm .</td>\n    </tr>\n    <tr>\n      <th>116</th>\n      <td>9</td>\n      <td>88</td>\n      <td>116</td>\n      <td>138</td>\n      <td>A</td>\n      <td>W</td>\n      <td>True</td>\n      <td>W</td>\n      <td>Ja es gibt viele Erinnerungen die irgendwie di...</td>\n    </tr>\n    <tr>\n      <th>117</th>\n      <td>9</td>\n      <td>88</td>\n      <td>117</td>\n      <td>138</td>\n      <td>A</td>\n      <td>W</td>\n      <td>True</td>\n      <td>W</td>\n      <td>Es ist interessant.</td>\n    </tr>\n    <tr>\n      <th>118</th>\n      <td>9</td>\n      <td>89</td>\n      <td>118</td>\n      <td>138</td>\n      <td>B</td>\n      <td>M</td>\n      <td>True</td>\n      <td>W</td>\n      <td>Ja, ich mein das war ja schon damals mit dem A...</td>\n    </tr>\n  </tbody>\n</table>\n<p>1152 rows × 9 columns</p>\n</div>"
     },
     "metadata": {},
     "execution_count": 10
    }
   ],
   "source": [
    "sentence_df = queryable.execute(level=TextBody.SENTENCE)\n",
    "display(sentence_df)\n",
    "\n",
    "queryable.execute(level=TextBody.SENTENCE)"
   ]
  },
  {
   "cell_type": "code",
   "execution_count": 11,
   "metadata": {},
   "outputs": [
    {
     "output_type": "stream",
     "name": "stdout",
     "text": [
      "=== Queryable is executing on Document level, query = '(couple_id == 27) and (is_depressed_group == False)' ===\n"
     ]
    },
    {
     "output_type": "display_data",
     "data": {
      "text/plain": "Empty DataFrame\nColumns: [document_id, couple_id, is_depressed_group, depressed_person, text]\nIndex: []",
      "text/html": "<div>\n<style scoped>\n    .dataframe tbody tr th:only-of-type {\n        vertical-align: middle;\n    }\n\n    .dataframe tbody tr th {\n        vertical-align: top;\n    }\n\n    .dataframe thead th {\n        text-align: right;\n    }\n</style>\n<table border=\"1\" class=\"dataframe\">\n  <thead>\n    <tr style=\"text-align: right;\">\n      <th></th>\n      <th>document_id</th>\n      <th>couple_id</th>\n      <th>is_depressed_group</th>\n      <th>depressed_person</th>\n      <th>text</th>\n    </tr>\n  </thead>\n  <tbody>\n  </tbody>\n</table>\n</div>"
     },
     "metadata": {}
    }
   ],
   "source": [
    "pgs = queryable.by_couple_id(couple_id=27) \\\n",
    "    .is_depressed(d=False) \\\n",
    "    .execute(level=TextBody.DOCUMENT)\n",
    "display(pgs)"
   ]
  },
  {
   "cell_type": "code",
   "execution_count": 11,
   "metadata": {},
   "outputs": [
    {
     "output_type": "execute_result",
     "data": {
      "text/plain": [
       "'\\npipeline  = Pipeline(queryable=queryable)\\npipeline.add_component(Tokenizer())\\ndisplay(pipeline.execute())\\n'"
      ]
     },
     "metadata": {},
     "execution_count": 11
    }
   ],
   "source": []
  },
  {
   "cell_type": "code",
   "execution_count": 12,
   "metadata": {
    "tags": []
   },
   "outputs": [
    {
     "output_type": "stream",
     "name": "stdout",
     "text": [
      "=== Starting pipeline with ['Tokenizer', 'Stemmer', 'Lemmatizer', 'FeatureTFIDF'] ===\n",
      "Executing Tokenizer\n",
      "=== Queryable is executing on Document level, query = '' ===\n",
      "=== Queryable is executing on Paragraph level, query = '' ===\n",
      "=== Queryable is executing on Sentence level, query = '' ===\n",
      "Executing Stemmer\n",
      "Executing Lemmatizer\n",
      "Executing FeatureTFIDF\n",
      "=== Finished pipeline execution ===\n"
     ]
    },
    {
     "output_type": "display_data",
     "data": {
      "text/plain": "{<src.pipelinelib.extension.Extension at 0x7fbd3662baf0>:      couple_id speaker gender  is_depressed_group  document_id  paragraph_id  \\\n 0          182       B      M               False            0             1   \n 1          182       A      W               False            0             2   \n 2          182       B      M               False            0             3   \n 3          182       A      W               False            0             4   \n 4          182       B      M               False            0             6   \n ..         ...     ...    ...                 ...          ...           ...   \n 114        138       B      M                True            9            87   \n 115        138       A      W                True            9            88   \n 116        138       A      W                True            9            88   \n 117        138       A      W                True            9            88   \n 118        138       B      M                True            9            89   \n \n      sentence_id                                               text  \n 0              0                                               [hm]  \n 1              1            [du, solltest, doch, nicht, nachgucken]  \n 2              2  [sag, nur, ich, darf, den, schönen, mädchen, n...  \n 3              3                                 [doch, darfst, du]  \n 4              4                                             [also]  \n ..           ...                                                ...  \n 114          114  [doch, das, ist, schon, was, besonderes, ich, ...  \n 115          115                                               [hm]  \n 116          116  [ja, es, gibt, viele, erinnerungen, die, irgen...  \n 117          117                             [es, ist, interessant]  \n 118          118  [ja, ich, mein, das, war, ja, schon, damals, m...  \n \n [1152 rows x 8 columns],\n <src.pipelinelib.extension.Extension at 0x7fbd3662bb50>:      couple_id speaker gender  is_depressed_group  document_id  paragraph_id  \\\n 0          182       B      M               False            0             1   \n 1          182       A      W               False            0             2   \n 2          182       B      M               False            0             3   \n 3          182       A      W               False            0             4   \n 4          182       B      M               False            0             6   \n ..         ...     ...    ...                 ...          ...           ...   \n 750        138       B      M                True            9            85   \n 751        138       A      W                True            9            86   \n 752        138       B      M                True            9            87   \n 753        138       A      W                True            9            88   \n 754        138       B      M                True            9            89   \n \n                                                   text  \n 0                                                 [hm]  \n 1              [du, solltest, doch, nicht, nachgucken]  \n 2    [sag, nur, ich, darf, den, schönen, mädchen, n...  \n 3                                   [doch, darfst, du]  \n 4                                               [also]  \n ..                                                 ...  \n 750  [okay, und, das, ist, dann, wenn, du, so, ein,...  \n 751               [ja, empfindest, du, das, nicht, so]  \n 752  [doch, das, ist, schon, was, besonderes, ich, ...  \n 753  [hm, ja, es, gibt, viele, erinnerungen, die, i...  \n 754  [ja, ich, mein, das, war, ja, schon, damals, m...  \n \n [755 rows x 7 columns],\n <src.pipelinelib.extension.Extension at 0x7fbd3662bbb0>:    couple_id  is_depressed_group  document_id  \\\n 0        182               False            0   \n 1         27                True            1   \n 2         60                True            2   \n 3         47                True            3   \n 4         58               False            4   \n 5         29               False            5   \n 6         87               False            6   \n 7         81               False            7   \n 8        105                True            8   \n 9        138                True            9   \n \n                                                 text  \n 0  [hm, du, solltest, doch, nicht, nachgucken, sa...  \n 1  [positive, gefühle, ja, positive, gefühle, kön...  \n 2  [wenn, positiv, geht, dann, wird, es, nicht, l...  \n 3  [erzähl, mir, was, also, wir, müssen, die, fra...  \n 4  [soll, ich, anfangen, ich, hab, mir, was, über...  \n 5  [gut, fangen, wir, mal, an, ja, fang, du, mal,...  \n 6  [wie, lang, 10, minuten, okay, dann, fang, mal...  \n 7  [ich, dachte, wir, reden, darüber, wie, wir, d...  \n 8  [jetzt, sollen, wir, uns, unterhalten, genau, ...  \n 9  [am, ammersee, dann, machen, wir, es, so, da, ...  ,\n <src.pipelinelib.extension.Extension at 0x7fbd3662bc10>:      couple_id speaker gender  is_depressed_group  document_id  paragraph_id  \\\n 0          182       B      M               False            0             1   \n 1          182       A      W               False            0             2   \n 2          182       B      M               False            0             3   \n 3          182       A      W               False            0             4   \n 4          182       B      M               False            0             6   \n ..         ...     ...    ...                 ...          ...           ...   \n 114        138       B      M                True            9            87   \n 115        138       A      W                True            9            88   \n 116        138       A      W                True            9            88   \n 117        138       A      W                True            9            88   \n 118        138       B      M                True            9            89   \n \n      sentence_id                                               text  \n 0              0                                               [hm]  \n 1              1                 [du, sollt, doch, nicht, nachguck]  \n 2              2  [sag, nur, ich, darf, den, schon, madch, nicht...  \n 3              3                                   [doch, darf, du]  \n 4              4                                             [also]  \n ..           ...                                                ...  \n 114          114  [doch, das, ist, schon, was, besond, ich, hab,...  \n 115          115                                               [hm]  \n 116          116  [ja, es, gibt, viel, erinner, die, irgendwi, d...  \n 117          117                             [es, ist, interessant]  \n 118          118  [ja, ich, mein, das, war, ja, schon, damal, mi...  \n \n [1152 rows x 8 columns],\n <src.pipelinelib.extension.Extension at 0x7fbd3662bc70>:      couple_id speaker gender  is_depressed_group  document_id  paragraph_id  \\\n 0          182       B      M               False            0             1   \n 1          182       A      W               False            0             2   \n 2          182       B      M               False            0             3   \n 3          182       A      W               False            0             4   \n 4          182       B      M               False            0             6   \n ..         ...     ...    ...                 ...          ...           ...   \n 750        138       B      M                True            9            85   \n 751        138       A      W                True            9            86   \n 752        138       B      M                True            9            87   \n 753        138       A      W                True            9            88   \n 754        138       B      M                True            9            89   \n \n                                                   text  \n 0                                                 [hm]  \n 1                   [du, sollt, doch, nicht, nachguck]  \n 2    [sag, nur, ich, darf, den, schon, madch, nicht...  \n 3                                     [doch, darf, du]  \n 4                                               [also]  \n ..                                                 ...  \n 750  [okay, und, das, ist, dann, wenn, du, so, ein,...  \n 751                  [ja, empfind, du, das, nicht, so]  \n 752  [doch, das, ist, schon, was, besond, ich, hab,...  \n 753  [hm, ja, es, gibt, viel, erinner, die, irgendw...  \n 754  [ja, ich, mein, das, war, ja, schon, damal, mi...  \n \n [755 rows x 7 columns],\n <src.pipelinelib.extension.Extension at 0x7fbd3662bcd0>:    couple_id  is_depressed_group  document_id  \\\n 0        182               False            0   \n 1         27                True            1   \n 2         60                True            2   \n 3         47                True            3   \n 4         58               False            4   \n 5         29               False            5   \n 6         87               False            6   \n 7         81               False            7   \n 8        105                True            8   \n 9        138                True            9   \n \n                                                 text  \n 0  [hm, du, sollt, doch, nicht, nachguck, sag, nu...  \n 1  [positiv, gefuhl, ja, positiv, gefuhl, konn, b...  \n 2  [wenn, positiv, geht, dann, wird, es, nicht, l...  \n 3  [erzahl, mir, was, also, wir, muss, die, frag,...  \n 4  [soll, ich, anfang, ich, hab, mir, was, uberle...  \n 5  [gut, fang, wir, mal, an, ja, fang, du, mal, a...  \n 6  [wie, lang, 10, minut, okay, dann, fang, mal, ...  \n 7  [ich, dacht, wir, red, darub, wie, wir, die, e...  \n 8  [jetzt, soll, wir, uns, unterhalt, genau, also...  \n 9  [am, ammerse, dann, mach, wir, es, so, da, wo,...  ,\n <src.pipelinelib.extension.Extension at 0x7fbd3662bd30>:      couple_id speaker gender  is_depressed_group  document_id  paragraph_id  \\\n 0          182       B      M               False            0             1   \n 1          182       A      W               False            0             2   \n 2          182       B      M               False            0             3   \n 3          182       A      W               False            0             4   \n 4          182       B      M               False            0             6   \n ..         ...     ...    ...                 ...          ...           ...   \n 114        138       B      M                True            9            87   \n 115        138       A      W                True            9            88   \n 116        138       A      W                True            9            88   \n 117        138       A      W                True            9            88   \n 118        138       B      M                True            9            89   \n \n      sentence_id                                               text  \n 0              0                                               [hm]  \n 1              1              [du, sollen, doch, nicht, nachgucken]  \n 2              2  [sag, nur, ich, dürfen, der, schön, mädchen, n...  \n 3              3                                 [doch, dürfen, du]  \n 4              4                                             [also]  \n ..           ...                                                ...  \n 114          114  [doch, das, sein, schon, was, besonder, ich, h...  \n 115          115                                               [hm]  \n 116          116  [ja, es, geben, viel, erinnerungen, der, irgen...  \n 117          117                            [es, sein, interessant]  \n 118          118  [ja, ich, mein, das, sein, ja, schon, damals, ...  \n \n [1152 rows x 8 columns],\n <src.pipelinelib.extension.Extension at 0x7fbd3662bd90>:      couple_id speaker gender  is_depressed_group  document_id  paragraph_id  \\\n 0          182       B      M               False            0             1   \n 1          182       A      W               False            0             2   \n 2          182       B      M               False            0             3   \n 3          182       A      W               False            0             4   \n 4          182       B      M               False            0             6   \n ..         ...     ...    ...                 ...          ...           ...   \n 750        138       B      M                True            9            85   \n 751        138       A      W                True            9            86   \n 752        138       B      M                True            9            87   \n 753        138       A      W                True            9            88   \n 754        138       B      M                True            9            89   \n \n                                                   text  \n 0                                                 [hm]  \n 1                [du, sollen, doch, nicht, nachgucken]  \n 2    [sag, nur, ich, dürfen, der, schön, mädchen, n...  \n 3                                   [doch, dürfen, du]  \n 4                                               [also]  \n ..                                                 ...  \n 750  [okay, und, das, sein, dann, wenn, du, so, ein...  \n 751                [ja, empfinden, du, das, nicht, so]  \n 752  [doch, das, sein, schon, was, besonder, ich, h...  \n 753  [hm, ja, es, geben, viel, erinnerungen, der, i...  \n 754  [ja, ich, mein, das, sein, ja, schon, damals, ...  \n \n [755 rows x 7 columns],\n <src.pipelinelib.extension.Extension at 0x7fbd3662bdf0>:    couple_id  is_depressed_group  document_id  \\\n 0        182               False            0   \n 1         27                True            1   \n 2         60                True            2   \n 3         47                True            3   \n 4         58               False            4   \n 5         29               False            5   \n 6         87               False            6   \n 7         81               False            7   \n 8        105                True            8   \n 9        138                True            9   \n \n                                                 text  \n 0  [hm, du, sollen, doch, nicht, nachgucken, sag,...  \n 1  [positiv, gefühle, ja, positiv, gefühle, könne...  \n 2  [wenn, positiv, gehen, dann, werden, es, nicht...  \n 3  [erzähl, mir, was, also, wir, müssen, der, fra...  \n 4  [soll, ich, anfangen, ich, hab, mir, was, über...  \n 5  [gut, fangen, wir, mal, an, ja, fang, du, mal,...  \n 6  [wie, langen, 10, minuten, okay, dann, fang, m...  \n 7  [ich, denken, wir, reden, darüber, wie, wir, d...  \n 8  [jetzt, sollen, wir, uns, unterhalten, genau, ...  \n 9  [am, ammersee, dann, machen, wir, es, so, da, ...  ,\n <src.pipelinelib.extension.Extension at 0x7fbd36633130>:    couple_id        ab      aber      alle     allem     alles       als  \\\n 0        182  0.011403  0.120693  0.000000  0.010309  0.031105  0.000000   \n 1         27  0.000000  0.016386  0.023792  0.000000  0.044869  0.009837   \n 2         60  0.011500  0.136041  0.000000  0.000000  0.015685  0.034387   \n 3         47  0.013348  0.041554  0.048269  0.000000  0.036412  0.000000   \n 4         58  0.010916  0.067966  0.009869  0.009869  0.007444  0.057123   \n 5         29  0.010506  0.058868  0.009497  0.009497  0.028657  0.015707   \n 6         87  0.000000  0.060894  0.000000  0.000000  0.018190  0.039880   \n 7         81  0.000000  0.038511  0.006213  0.012426  0.009374  0.035963   \n 8        105  0.000000  0.095470  0.031989  0.010663  0.000000  0.017635   \n 9        138  0.000000  0.072566  0.000000  0.008105  0.012228  0.020106   \n \n        also        am        an  ...     woche    wollen      zeit        zu  \\\n 0  0.021299  0.000000  0.046658  ...  0.011403  0.021299  0.000000  0.078096   \n 1  0.024579  0.000000  0.035895  ...  0.000000  0.016386  0.000000  0.081929   \n 2  0.028640  0.041585  0.015685  ...  0.011500  0.035800  0.017194  0.071600   \n 3  0.074797  0.000000  0.036412  ...  0.000000  0.016622  0.009979  0.066486   \n 4  0.006797  0.029606  0.014889  ...  0.000000  0.006797  0.065284  0.054373   \n 5  0.078491  0.028492  0.050151  ...  0.021011  0.019623  0.007854  0.058868   \n 6  0.033215  0.008038  0.018190  ...  0.008891  0.022143  0.006647  0.049822   \n 7  0.004279  0.012426  0.032808  ...  0.000000  0.038511  0.010275  0.042790   \n 8  0.066094  0.000000  0.000000  ...  0.000000  0.029375  0.017635  0.051407   \n 9  0.050238  0.024315  0.018342  ...  0.008965  0.005582  0.006702  0.039074   \n \n         zum  zusammen      zwar      über  überhaupt  überlegen  \n 0  0.007100  0.014199  0.000000  0.018721   0.034209   0.022806  \n 1  0.016386  0.008193  0.000000  0.032406   0.000000   0.000000  \n 2  0.014320  0.014320  0.023000  0.000000   0.011500   0.000000  \n 3  0.008311  0.016622  0.000000  0.010957   0.040045   0.013348  \n 4  0.027186  0.033983  0.010916  0.017922   0.000000   0.010916  \n 5  0.006541  0.006541  0.010506  0.000000   0.000000   0.000000  \n 6  0.038750  0.011072  0.000000  0.021896   0.000000   0.000000  \n 7  0.012837  0.029953  0.000000  0.000000   0.006873   0.013745  \n 8  0.007344  0.007344  0.011795  0.038730   0.035385   0.000000  \n 9  0.011164  0.005582  0.008965  0.007360   0.000000   0.008965  \n \n [10 rows x 198 columns]}"
     },
     "metadata": {}
    }
   ],
   "source": [
    "from src.sigmund.preprocessing.words import Tokenizer, Stemmer, Lemmatizer\n",
    "from src.sigmund.features.tfidf import FeatureTFIDF\n",
    "from src.pipelinelib.pipeline import Pipeline\n",
    "\n",
    "pipeline = Pipeline(queryable=queryable)\n",
    "pipeline.add_component(Tokenizer())\n",
    "pipeline.add_component(Stemmer())\n",
    "pipeline.add_component(Lemmatizer())\n",
    "pipeline.add_component(FeatureTFIDF())\n",
    "display(pipeline.execute())"
   ]
  }
 ]
}