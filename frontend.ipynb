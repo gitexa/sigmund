{
 "cells": [
  {
   "cell_type": "code",
   "execution_count": 61,
   "metadata": {},
   "outputs": [],
   "source": [
    "import ipywidgets as widgets\n",
    "from io import BytesIO\n",
    "import pandas as pd\n",
    "import docx\n",
    "import matplotlib.pyplot as plt\n",
    "from IPython.display import HTML, display"
   ]
  },
  {
   "cell_type": "code",
   "execution_count": 46,
   "metadata": {},
   "outputs": [],
   "source": [
    "file = widgets.FileUpload(\n",
    "    accept='.docx', # widgets Accepted file extension e.g. '.txt', '.pdf', 'image/*', 'image/*,.pdf'\n",
    "    multiple=False  # True to accept multiple files upload else False\n",
    ")"
   ]
  },
  {
   "cell_type": "code",
   "execution_count": 43,
   "metadata": {},
   "outputs": [
    {
     "data": {
      "application/vnd.jupyter.widget-view+json": {
       "model_id": "571818f3cabc48c3a02f0ca5a33adaed",
       "version_major": 2,
       "version_minor": 0
      },
      "text/plain": [
       "FileUpload(value={}, accept='.docx', description='Upload')"
      ]
     },
     "metadata": {},
     "output_type": "display_data"
    }
   ],
   "source": [
    "file"
   ]
  },
  {
   "cell_type": "code",
   "execution_count": 47,
   "metadata": {},
   "outputs": [
    {
     "ename": "KeyError",
     "evalue": "'Paar 27_T1_IM_FW.docx'",
     "output_type": "error",
     "traceback": [
      "\u001b[1;31m---------------------------------------------------------------------------\u001b[0m",
      "\u001b[1;31mKeyError\u001b[0m                                  Traceback (most recent call last)",
      "\u001b[1;32m<ipython-input-47-e8cfaf9deedf>\u001b[0m in \u001b[0;36m<module>\u001b[1;34m\u001b[0m\n\u001b[1;32m----> 1\u001b[1;33m \u001b[0mparagraphs\u001b[0m \u001b[1;33m=\u001b[0m \u001b[0mdocx\u001b[0m\u001b[1;33m.\u001b[0m\u001b[0mDocument\u001b[0m\u001b[1;33m(\u001b[0m\u001b[0mBytesIO\u001b[0m\u001b[1;33m(\u001b[0m\u001b[0mfile\u001b[0m\u001b[1;33m.\u001b[0m\u001b[0mvalue\u001b[0m\u001b[1;33m[\u001b[0m\u001b[1;34m'Paar 27_T1_IM_FW.docx'\u001b[0m\u001b[1;33m]\u001b[0m\u001b[1;33m[\u001b[0m\u001b[1;34m'content'\u001b[0m\u001b[1;33m]\u001b[0m\u001b[1;33m)\u001b[0m\u001b[1;33m)\u001b[0m\u001b[1;33m.\u001b[0m\u001b[0mparagraphs\u001b[0m\u001b[1;33m\u001b[0m\u001b[1;33m\u001b[0m\u001b[0m\n\u001b[0m",
      "\u001b[1;31mKeyError\u001b[0m: 'Paar 27_T1_IM_FW.docx'"
     ]
    }
   ],
   "source": [
    "paragraphs = docx.Document(BytesIO(file.value['Paar 27_T1_IM_FW.docx']['content'])).paragraphs"
   ]
  },
  {
   "cell_type": "code",
   "execution_count": 48,
   "metadata": {},
   "outputs": [
    {
     "data": {
      "text/plain": [
       "['Paar 27',\n",
       " 'A: Er',\n",
       " 'B: Sie',\n",
       " 'A: Positive Gefühle.',\n",
       " 'B; Ja, positive Gefühle können bei mir auslösen wenn du mich gut behandelst, fühle ich mich echt toll, wenn du zärtlich mit mir umgehst, zärtlich redest.',\n",
       " 'A: (A zieht seine Brille auf) Zuwendung, das ist ja, Zuwendung, wir beide, wenn du dich mir zuwendest dann fühle ich mich wohl, das tut mir gut. Verteilung der Haushaltsaufgaben, das machen wir sowieso, ich glaub da brauchen wir, da fühlen wir uns beide wohl, da muss man nichts sagen, dazu. Gleiche Vorstellung bei der Kindererziehung, ich glaub, dass wir da auch nie uns streiten würden, dass wir da sehr ähnliche Auffassungen haben, wie Kinder zu behandeln sind.',\n",
       " 'B: Wir lieben beide Kinder, [A: Ja] und die lieben uns. Von da ist nichts gemacht. Es ist schön wie du meine Kinder, mein Kinder behandelst, wie deine eigenen, schön.',\n",
       " 'A: Es tut gut, und mir tut´s auch gut sie zu behandeln (unv. 2 s.).',\n",
       " 'B: Auch, wie ich dich liebe, dann liebe ich auch deine Verwandtschaft, und die sind bei mir immer willkommen. ',\n",
       " 'A: So viel hab ich ja nicht (lacht) ja außer Rainer mit seiner Schwester hab ich ja keine nähere Verwandtschaft, kennengelernt hast du. Freunde und Bekannte, da sind wir uns nicht ganz einig.  ',\n",
       " 'B: Was heißt das wir, also Freunde und Bekannte (…) man soll ja nur positiv reden. ',\n",
       " 'A: Ja. Attraktivität, dass ich dich gut finde, das sage ich dir ja immer wieder, dass ich deine Figur gut finde, dein Aussehen gut finde, (unv. 3 s.).',\n",
       " 'B: Findest du das immer gut oder nur wenn ich dich reize und du mit mir ins Bett gehen möchtest (lacht)[A. unv. 2s].',\n",
       " 'A: Die Frage ist überflüssig. Das habe ich nicht nötig, irgendwas vorzuspielen, nur damit ich irgendwas erreiche. Finanzielle Unbesorgtheit: ich will, dass du dir keine Sorgen machen musst über finanzielle (unv. 3s).',\n",
       " 'B: Ich hab das auch so schön, ich hab kein Bedürfnis, ich hab keine großen Wünsche, ich möchte nur meine Gesundheit und glücklich mit dir sein. Ich hab eigentlich gar keine großen Wünsche mehr. Ich bin zufrieden mit dem was ich hab.',\n",
       " 'A: (unv. 5 s.) soweit sie erfüllbar sind, macht es mir Spaß (A klatscht in die Hände) sie zu erfüllen.',\n",
       " 'B: Wenn ich mit dir glücklich bin, dann kommt mir alles andere auch nicht so schwer. Es ist alles leichter zu bewältigen wenn wir einfach glücklich sind zusammen, es ist schön. Es gibt dann für mich dann auch keine Schwierigkeiten und keine Hürden. Ich weiß dann alles wird so wie wir es wollen. Ja?',\n",
       " 'A: Vertrauen? Gegenseitiges. Also ich vertraue dir voll, das weißt du, dass ich da nie irgendwelche Bedenken habe. ',\n",
       " 'B: Es ist schön auch zu spüren, dass du mir vertraust, und ja das gibt mir auch einfach ein gutes Gefühl, würde ich auch nie missbrauchen ja.',\n",
       " 'A: Mein Vertrauen, wie ist es mit deinem Vertrauen? ',\n",
       " 'B: Ich vertraue dir auch ganz arg. Aber ich möchte trotzdem alles sagen was ich denke. Ich vertraue dir ganz arg und es ist schön einfach zu spüren da ist jemand da, der dich so nimmt wie du bist, mit dem man sagt es ist schön zu vertrauen.   ',\n",
       " 'A: Ehrlich, Ehrlichkeit,',\n",
       " 'B: Es ist schön, dass du Vertrauen und Ehrlichkeit hat mir was Gemeinsames zu tun und (…)',\n",
       " 'A: Ehrlichkeit heißt dass wir nicht muffelig sind, weil man über alles redet wichtiges.',\n",
       " 'B: Ja. Ja. Ja. Schön.',\n",
       " 'A: Ich denke dass du ehrlich bist und das finde ich auch gut, ist auch wichtig, [B: Mmh, Mmh] als Baustelle einer Partnerschaft, ganz wichtig. Verbundenheit, ja gut, verbunden sind wir uns ja, danke ich. [B: Mmh, Mmh]',\n",
       " 'B: Ja, und wenn wir fort sind.',\n",
       " 'A: Ich bin dir verbunden.',\n",
       " 'B: Ja? Verbunden mit viel Humor wenn wir ausgehen.',\n",
       " 'A: Ist ja egal.',\n",
       " 'B; Ja? Ist doch schön wenn wir (unv. 3 s.)',\n",
       " 'A: Gewährung persönlicher Freiheiten. Das ist auch gut.',\n",
       " 'B: Das ist auch gut.',\n",
       " 'A: Dass du mir meinen Freiraum lässt, dass du mich das machen lässt was ich gerne tue. Und ich ja vielleicht auch (…)',\n",
       " 'B: Positiv, ja? Positiv. ',\n",
       " 'A: Ja, aber, Ja, loben, Ja. Besonders schön finde ich, wenn (…).',\n",
       " 'B: Was würdest du jetzt erzählen wenn ich nicht bei dir wäre? Die Erinnerungen, positive. Wenn du jetzt über die Susanne deinem Freund erzählen würdest, oder Bekannten. ',\n",
       " 'A: Viele positive, viele.',\n",
       " 'B: Ja? Was wär das?',\n",
       " 'A: Zum Beispiel, wenn Du mir Freiheit lässt. Zum Beispiel dass du mich auch gut findest, in deinen Erzählungen zumindest. Ja gut, wir hatten ja schöne Momente, wir hatten schöne Urlaube, wir hatten schöne Erlebnisse ja auch zuhause, man muss ja nirgendwohin. Spazieren gehen, oder essen gehen, und (unv. 4 s.) war doch schön auch an sich. Das sind schöne Momente für mich. Müssen jetzt gar nicht so großartig sein, oder Geld kosten oder was, irgendwas.',\n",
       " 'B: Die Momente, nicht die Länge, sondern das intensive, ist sehr wichtig von mir, äh, für mich. Schön, ja? Und das machen wir ja. Dass man, wenn wir was machen, das intensiv genießen, das ist schön, oder wir lassen es ganz bleiben.',\n",
       " 'A: Sexualität, ist auch ein Thema. ',\n",
       " 'B: Ja (…).',\n",
       " 'A: Das würde ich natürlich nicht Freunden erzählen, auch genießen, diese Sexualität mit dir. ',\n",
       " 'B: Ja? ',\n",
       " 'A: Weil du mich immer anmachst. Du machst mich einfach immer an. Gestern Abend auch. Wenn ich das merke vor allen Dingen, wenn du mir das zeigst, dass ich dich anmache.',\n",
       " 'B: Also, wenn du lieb zu mir bist, und der Umgang so schön ist, dann machst du mich immer an, dann hast du keine Probleme. Frauen ticken anders wie Männer (lacht), ja? der Umgang. Ja',\n",
       " 'A: Das macht mich an, wenn (unv. 3 s) Wenn du mich verwöhnst mit deinem Mund, das ist was Schönes. Die Wärme, die Nähe. So nah zu sein, das ist schön mit Dir. ',\n",
       " 'B: Mit dir ebenso, [A: Treue]. ich brauche die Wärme, die Liebe. Es sind für mich Grundbedürfnisse für´s Leben. Was nützt mir das schönste Haus wenn die Liebe nicht wäre, und die Liebe, das bereichert mich, wärmt mich, gibt mir Energie und macht mich glücklich. Die Liebe, deine Liebe strahlt unheimlich viel aus, in mir. Lässt mich alles Negative vergessen, meine Vergangenheit, meine Ängste, deine Liebe bereichert mich unheimlich, und ich bin dann froh, dass ich dich hab.',\n",
       " 'A: Und ich bin froh, dass ich dich hab, möchte dich nicht missen. Treue, drum, bin ich auch froh, dass ich mir da keine Sorgen machen muss, dass du mir treu bist, das ist auch wichtig.',\n",
       " 'B: Ich hab mich entschieden wieder reinzuwagen.']"
      ]
     },
     "execution_count": 48,
     "metadata": {},
     "output_type": "execute_result"
    }
   ],
   "source": [
    "[paragraph.text for paragraph in paragraphs]"
   ]
  },
  {
   "cell_type": "code",
   "execution_count": 49,
   "metadata": {},
   "outputs": [],
   "source": [
    "import spacy"
   ]
  },
  {
   "cell_type": "code",
   "execution_count": 50,
   "metadata": {},
   "outputs": [],
   "source": [
    "nlp = spacy.load(\"de_core_news_md\")"
   ]
  },
  {
   "cell_type": "code",
   "execution_count": 51,
   "metadata": {},
   "outputs": [],
   "source": [
    "doc = nlp([paragraph.text for paragraph in paragraphs][14])"
   ]
  },
  {
   "cell_type": "code",
   "execution_count": 79,
   "metadata": {},
   "outputs": [],
   "source": [
    "from collections import defaultdict\n",
    "def visualize(doc):\n",
    "    df = pd.DataFrame()\n",
    "    pos_counts = defaultdict(int)\n",
    "    for token in doc:\n",
    "        if not token.is_punct:\n",
    "            pos_counts[token.pos_]+=1\n",
    "    plt.bar(pos_counts.keys(), pos_counts.values())\n",
    "    return doc"
   ]
  },
  {
   "cell_type": "code",
   "execution_count": 80,
   "metadata": {},
   "outputs": [
    {
     "data": {
      "text/plain": [
       "B: Ich hab das auch so schön, ich hab kein Bedürfnis, ich hab keine großen Wünsche, ich möchte nur meine Gesundheit und glücklich mit dir sein. Ich hab eigentlich gar keine großen Wünsche mehr. Ich bin zufrieden mit dem was ich hab."
      ]
     },
     "execution_count": 80,
     "metadata": {},
     "output_type": "execute_result"
    },
    {
     "data": {
      "image/png": "[encoded data removed]",
      "text/plain": [
       "<Figure size 432x288 with 1 Axes>"
      ]
     },
     "metadata": {
      "needs_background": "light"
     },
     "output_type": "display_data"
    }
   ],
   "source": [
    "visualize(doc)"
   ]
  },
  {
   "cell_type": "code",
   "execution_count": null,
   "metadata": {},
   "outputs": [],
   "source": []
  },
  {
   "cell_type": "code",
   "execution_count": null,
   "metadata": {},
   "outputs": [],
   "source": []
  }
 ],
 "metadata": {
  "kernelspec": {
   "display_name": "Python 3",
   "language": "python",
   "name": "python3"
  },
  "language_info": {
   "codemirror_mode": {
    "name": "ipython",
    "version": 3
   },
   "file_extension": ".py",
   "mimetype": "text/x-python",
   "name": "python",
   "nbconvert_exporter": "python",
   "pygments_lexer": "ipython3",
   "version": "3.9.1"
  }
 },
 "nbformat": 4,
 "nbformat_minor": 4
}
