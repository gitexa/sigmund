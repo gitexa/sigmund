{
 "metadata": {
  "language_info": {
   "codemirror_mode": {
    "name": "ipython",
    "version": 3
   },
   "file_extension": ".py",
   "mimetype": "text/x-python",
   "name": "python",
   "nbconvert_exporter": "python",
   "pygments_lexer": "ipython3",
   "version": "3.8.5-final"
  },
  "orig_nbformat": 2,
  "kernelspec": {
   "name": "python38564bitvenv17709eee459a47d28b6d69124b4b87be",
   "display_name": "Python 3.8.5 64-bit ('venv')",
   "language": "python"
  }
 },
 "nbformat": 4,
 "nbformat_minor": 2,
 "cells": [
  {
   "cell_type": "code",
   "execution_count": 1,
   "metadata": {},
   "outputs": [],
   "source": [
    "%load_ext autoreload\n",
    "%autoreload 2"
   ]
  },
  {
   "cell_type": "code",
   "execution_count": 2,
   "metadata": {},
   "outputs": [],
   "source": [
    "import os\n",
    "from IPython.display import display \n",
    "\n",
    "import spacy"
   ]
  },
  {
   "cell_type": "code",
   "execution_count": 3,
   "metadata": {},
   "outputs": [],
   "source": [
    "folder = os.path.join(os.getcwd(), \"data\", \"transcripts\")\n",
    "files = [os.path.join(root, f) for root, _, files in os.walk(folder) for f in files if f.endswith(\".docx\")]\n",
    "        "
   ]
  },
  {
   "cell_type": "code",
   "execution_count": 4,
   "metadata": {
    "tags": []
   },
   "outputs": [
    {
     "output_type": "stream",
     "name": "stdout",
     "text": [
      "=== Parser: reading from /home/alexander/Projects/sigmund/data/transcripts/Paar 182_T1_IM_FW_corrected.docx ===\n",
      "=== Parser: reading from /home/alexander/Projects/sigmund/data/transcripts/Paar 27_T1_IM_FW_corrected.docx ===\n",
      "=== Parser: reading from /home/alexander/Projects/sigmund/data/transcripts/Paar 60_T1_IM_FW_corrected.docx ===\n",
      "=== Parser: reading from /home/alexander/Projects/sigmund/data/transcripts/Paar 47_T1_IM_FW_corrected.docx ===\n",
      "=== Parser: reading from /home/alexander/Projects/sigmund/data/transcripts/Paar 58_T1_IM_FW_corrected.docx ===\n",
      "=== Parser: reading from /home/alexander/Projects/sigmund/data/transcripts/Paar 29_T1_IM_FW_corrected.docx ===\n",
      "=== Parser: reading from /home/alexander/Projects/sigmund/data/transcripts/Paar 87_T1_IM_FW_corrected.docx ===\n",
      "=== Parser: reading from /home/alexander/Projects/sigmund/data/transcripts/Paar 81_T1_IM_FW_corrected.docx ===\n",
      "=== Parser: reading from /home/alexander/Projects/sigmund/data/transcripts/Paar 105_T1_IM_FW_corrected.docx ===\n",
      "=== Parser: reading from /home/alexander/Projects/sigmund/data/transcripts/Paar 138_T1_IM_FW_corrected.docx ===\n"
     ]
    }
   ],
   "source": [
    "from src.pipelinelib.querying import Parser, Queryable\n",
    "\n",
    "nlp = spacy.load(\"de_core_news_sm\", disable=[\"ner\", \"parser\"])\n",
    "parser = Parser(nlp=nlp, metadata_path=\"./data/transcripts/Kopie von Transkriptionspaare_Daten.xls\")\n",
    "\n",
    "parser.read_from_files(files)"
   ]
  },
  {
   "cell_type": "code",
   "execution_count": 5,
   "metadata": {},
   "outputs": [
    {
     "output_type": "display_data",
     "data": {
      "text/plain": "     document_id  paragraph_id  sentence_id  couple_id speaker gender  \\\n0              0             1            0        182       B      M   \n1              0             2            1        182       A      W   \n2              0             3            2        182       B      M   \n3              0             4            3        182       A      W   \n4              0             6            4        182       B      M   \n..           ...           ...          ...        ...     ...    ...   \n114            9            87          114        138       B      M   \n115            9            88          115        138       A      W   \n116            9            88          116        138       A      W   \n117            9            88          117        138       A      W   \n118            9            89          118        138       B      M   \n\n     is_depressed_group depressed_person  \\\n0                 False             None   \n1                 False             None   \n2                 False             None   \n3                 False             None   \n4                 False             None   \n..                  ...              ...   \n114                True                W   \n115                True                W   \n116                True                W   \n117                True                W   \n118                True                W   \n\n                                                  text  \n0                                                  Hm?  \n1                   Du solltest doch nicht nachgucken.  \n2    Sag nur ``Ich darf den schönen Mädchen nicht n...  \n3                                     Doch, darfst du.  \n4                                                Also.  \n..                                                 ...  \n114  Doch, das ist schon was Besonderes, ich hab je...  \n115                                               Hm .  \n116  Ja es gibt viele Erinnerungen die irgendwie di...  \n117                                Es ist interessant.  \n118  Ja, ich mein das war ja schon damals mit dem A...  \n\n[1152 rows x 9 columns]",
      "text/html": "<div>\n<style scoped>\n    .dataframe tbody tr th:only-of-type {\n        vertical-align: middle;\n    }\n\n    .dataframe tbody tr th {\n        vertical-align: top;\n    }\n\n    .dataframe thead th {\n        text-align: right;\n    }\n</style>\n<table border=\"1\" class=\"dataframe\">\n  <thead>\n    <tr style=\"text-align: right;\">\n      <th></th>\n      <th>document_id</th>\n      <th>paragraph_id</th>\n      <th>sentence_id</th>\n      <th>couple_id</th>\n      <th>speaker</th>\n      <th>gender</th>\n      <th>is_depressed_group</th>\n      <th>depressed_person</th>\n      <th>text</th>\n    </tr>\n  </thead>\n  <tbody>\n    <tr>\n      <th>0</th>\n      <td>0</td>\n      <td>1</td>\n      <td>0</td>\n      <td>182</td>\n      <td>B</td>\n      <td>M</td>\n      <td>False</td>\n      <td>None</td>\n      <td>Hm?</td>\n    </tr>\n    <tr>\n      <th>1</th>\n      <td>0</td>\n      <td>2</td>\n      <td>1</td>\n      <td>182</td>\n      <td>A</td>\n      <td>W</td>\n      <td>False</td>\n      <td>None</td>\n      <td>Du solltest doch nicht nachgucken.</td>\n    </tr>\n    <tr>\n      <th>2</th>\n      <td>0</td>\n      <td>3</td>\n      <td>2</td>\n      <td>182</td>\n      <td>B</td>\n      <td>M</td>\n      <td>False</td>\n      <td>None</td>\n      <td>Sag nur ``Ich darf den schönen Mädchen nicht n...</td>\n    </tr>\n    <tr>\n      <th>3</th>\n      <td>0</td>\n      <td>4</td>\n      <td>3</td>\n      <td>182</td>\n      <td>A</td>\n      <td>W</td>\n      <td>False</td>\n      <td>None</td>\n      <td>Doch, darfst du.</td>\n    </tr>\n    <tr>\n      <th>4</th>\n      <td>0</td>\n      <td>6</td>\n      <td>4</td>\n      <td>182</td>\n      <td>B</td>\n      <td>M</td>\n      <td>False</td>\n      <td>None</td>\n      <td>Also.</td>\n    </tr>\n    <tr>\n      <th>...</th>\n      <td>...</td>\n      <td>...</td>\n      <td>...</td>\n      <td>...</td>\n      <td>...</td>\n      <td>...</td>\n      <td>...</td>\n      <td>...</td>\n      <td>...</td>\n    </tr>\n    <tr>\n      <th>114</th>\n      <td>9</td>\n      <td>87</td>\n      <td>114</td>\n      <td>138</td>\n      <td>B</td>\n      <td>M</td>\n      <td>True</td>\n      <td>W</td>\n      <td>Doch, das ist schon was Besonderes, ich hab je...</td>\n    </tr>\n    <tr>\n      <th>115</th>\n      <td>9</td>\n      <td>88</td>\n      <td>115</td>\n      <td>138</td>\n      <td>A</td>\n      <td>W</td>\n      <td>True</td>\n      <td>W</td>\n      <td>Hm .</td>\n    </tr>\n    <tr>\n      <th>116</th>\n      <td>9</td>\n      <td>88</td>\n      <td>116</td>\n      <td>138</td>\n      <td>A</td>\n      <td>W</td>\n      <td>True</td>\n      <td>W</td>\n      <td>Ja es gibt viele Erinnerungen die irgendwie di...</td>\n    </tr>\n    <tr>\n      <th>117</th>\n      <td>9</td>\n      <td>88</td>\n      <td>117</td>\n      <td>138</td>\n      <td>A</td>\n      <td>W</td>\n      <td>True</td>\n      <td>W</td>\n      <td>Es ist interessant.</td>\n    </tr>\n    <tr>\n      <th>118</th>\n      <td>9</td>\n      <td>89</td>\n      <td>118</td>\n      <td>138</td>\n      <td>B</td>\n      <td>M</td>\n      <td>True</td>\n      <td>W</td>\n      <td>Ja, ich mein das war ja schon damals mit dem A...</td>\n    </tr>\n  </tbody>\n</table>\n<p>1152 rows × 9 columns</p>\n</div>"
     },
     "metadata": {}
    }
   ],
   "source": [
    "display(parser.frame)"
   ]
  },
  {
   "cell_type": "code",
   "execution_count": 6,
   "metadata": {},
   "outputs": [],
   "source": [
    "from src.pipelinelib.querying import Parser, Queryable\n",
    "from src.pipelinelib.text_body import TextBody\n",
    "\n",
    "queryable = Queryable.from_parser(parser)"
   ]
  },
  {
   "cell_type": "code",
   "execution_count": 7,
   "metadata": {},
   "outputs": [
    {
     "output_type": "display_data",
     "data": {
      "text/plain": "   document_id  couple_id  is_depressed_group depressed_person  \\\n0            0        182               False             None   \n1            1         27                True                W   \n2            2         60                True                W   \n3            3         47                True                W   \n4            4         58               False             None   \n5            5         29               False             None   \n6            6         87               False             None   \n7            7         81               False             None   \n8            8        105                True                W   \n9            9        138                True                W   \n\n                                                text  \n0  Hm?. Du solltest doch nicht nachgucken.. Sag n...  \n1  Positive Gefühle.. Ja, positive Gefühle können...  \n2  Wenn´s positiv geht, dann wird es nicht laut, ...  \n3  Erzähl mir was.. Also wir müssen die Fragen je...  \n4  Soll ich anfangen?. Ich hab mir was überlegt.....  \n5  Gut, fangen wir mal an.. Ja, fang du mal an.. ...  \n6  Wie lang?. 10 Minuten. Okay, dann fang mal an....  \n7  Ich dachte wir reden darüber wie wir die erste...  \n8   Jetzt sollen wir uns unterhalten?. Genau.. Al...  \n9  Am Ammersee.. Dann machen wir es so.. Da, wo m...  ",
      "text/html": "<div>\n<style scoped>\n    .dataframe tbody tr th:only-of-type {\n        vertical-align: middle;\n    }\n\n    .dataframe tbody tr th {\n        vertical-align: top;\n    }\n\n    .dataframe thead th {\n        text-align: right;\n    }\n</style>\n<table border=\"1\" class=\"dataframe\">\n  <thead>\n    <tr style=\"text-align: right;\">\n      <th></th>\n      <th>document_id</th>\n      <th>couple_id</th>\n      <th>is_depressed_group</th>\n      <th>depressed_person</th>\n      <th>text</th>\n    </tr>\n  </thead>\n  <tbody>\n    <tr>\n      <th>0</th>\n      <td>0</td>\n      <td>182</td>\n      <td>False</td>\n      <td>None</td>\n      <td>Hm?. Du solltest doch nicht nachgucken.. Sag n...</td>\n    </tr>\n    <tr>\n      <th>1</th>\n      <td>1</td>\n      <td>27</td>\n      <td>True</td>\n      <td>W</td>\n      <td>Positive Gefühle.. Ja, positive Gefühle können...</td>\n    </tr>\n    <tr>\n      <th>2</th>\n      <td>2</td>\n      <td>60</td>\n      <td>True</td>\n      <td>W</td>\n      <td>Wenn´s positiv geht, dann wird es nicht laut, ...</td>\n    </tr>\n    <tr>\n      <th>3</th>\n      <td>3</td>\n      <td>47</td>\n      <td>True</td>\n      <td>W</td>\n      <td>Erzähl mir was.. Also wir müssen die Fragen je...</td>\n    </tr>\n    <tr>\n      <th>4</th>\n      <td>4</td>\n      <td>58</td>\n      <td>False</td>\n      <td>None</td>\n      <td>Soll ich anfangen?. Ich hab mir was überlegt.....</td>\n    </tr>\n    <tr>\n      <th>5</th>\n      <td>5</td>\n      <td>29</td>\n      <td>False</td>\n      <td>None</td>\n      <td>Gut, fangen wir mal an.. Ja, fang du mal an.. ...</td>\n    </tr>\n    <tr>\n      <th>6</th>\n      <td>6</td>\n      <td>87</td>\n      <td>False</td>\n      <td>None</td>\n      <td>Wie lang?. 10 Minuten. Okay, dann fang mal an....</td>\n    </tr>\n    <tr>\n      <th>7</th>\n      <td>7</td>\n      <td>81</td>\n      <td>False</td>\n      <td>None</td>\n      <td>Ich dachte wir reden darüber wie wir die erste...</td>\n    </tr>\n    <tr>\n      <th>8</th>\n      <td>8</td>\n      <td>105</td>\n      <td>True</td>\n      <td>W</td>\n      <td>Jetzt sollen wir uns unterhalten?. Genau.. Al...</td>\n    </tr>\n    <tr>\n      <th>9</th>\n      <td>9</td>\n      <td>138</td>\n      <td>True</td>\n      <td>W</td>\n      <td>Am Ammersee.. Dann machen wir es so.. Da, wo m...</td>\n    </tr>\n  </tbody>\n</table>\n</div>"
     },
     "metadata": {}
    }
   ],
   "source": [
    "document_df = queryable.execute(level=TextBody.DOCUMENT)\n",
    "display(document_df)"
   ]
  },
  {
   "cell_type": "code",
   "execution_count": 8,
   "metadata": {},
   "outputs": [
    {
     "output_type": "display_data",
     "data": {
      "text/plain": "     document_id  paragraph_id  couple_id speaker gender  is_depressed_group  \\\n0              0             1        182       B      M               False   \n1              0             2        182       A      W               False   \n2              0             3        182       B      M               False   \n3              0             4        182       A      W               False   \n4              0             6        182       B      M               False   \n..           ...           ...        ...     ...    ...                 ...   \n750            9            85        138       B      M                True   \n751            9            86        138       A      W                True   \n752            9            87        138       B      M                True   \n753            9            88        138       A      W                True   \n754            9            89        138       B      M                True   \n\n    depressed_person                                               text  \n0               None                                                Hm?  \n1               None                 Du solltest doch nicht nachgucken.  \n2               None  Sag nur ``Ich darf den schönen Mädchen nicht n...  \n3               None                                   Doch, darfst du.  \n4               None                                              Also.  \n..               ...                                                ...  \n750                W  Okay und das ist dann wenn du so ein Foto schi...  \n751                W                    Ja, empfindest du das nicht so?  \n752                W  Doch, das ist schon was Besonderes, ich hab je...  \n753                W  Hm .. Ja es gibt viele Erinnerungen die irgend...  \n754                W  Ja, ich mein das war ja schon damals mit dem A...  \n\n[755 rows x 8 columns]",
      "text/html": "<div>\n<style scoped>\n    .dataframe tbody tr th:only-of-type {\n        vertical-align: middle;\n    }\n\n    .dataframe tbody tr th {\n        vertical-align: top;\n    }\n\n    .dataframe thead th {\n        text-align: right;\n    }\n</style>\n<table border=\"1\" class=\"dataframe\">\n  <thead>\n    <tr style=\"text-align: right;\">\n      <th></th>\n      <th>document_id</th>\n      <th>paragraph_id</th>\n      <th>couple_id</th>\n      <th>speaker</th>\n      <th>gender</th>\n      <th>is_depressed_group</th>\n      <th>depressed_person</th>\n      <th>text</th>\n    </tr>\n  </thead>\n  <tbody>\n    <tr>\n      <th>0</th>\n      <td>0</td>\n      <td>1</td>\n      <td>182</td>\n      <td>B</td>\n      <td>M</td>\n      <td>False</td>\n      <td>None</td>\n      <td>Hm?</td>\n    </tr>\n    <tr>\n      <th>1</th>\n      <td>0</td>\n      <td>2</td>\n      <td>182</td>\n      <td>A</td>\n      <td>W</td>\n      <td>False</td>\n      <td>None</td>\n      <td>Du solltest doch nicht nachgucken.</td>\n    </tr>\n    <tr>\n      <th>2</th>\n      <td>0</td>\n      <td>3</td>\n      <td>182</td>\n      <td>B</td>\n      <td>M</td>\n      <td>False</td>\n      <td>None</td>\n      <td>Sag nur ``Ich darf den schönen Mädchen nicht n...</td>\n    </tr>\n    <tr>\n      <th>3</th>\n      <td>0</td>\n      <td>4</td>\n      <td>182</td>\n      <td>A</td>\n      <td>W</td>\n      <td>False</td>\n      <td>None</td>\n      <td>Doch, darfst du.</td>\n    </tr>\n    <tr>\n      <th>4</th>\n      <td>0</td>\n      <td>6</td>\n      <td>182</td>\n      <td>B</td>\n      <td>M</td>\n      <td>False</td>\n      <td>None</td>\n      <td>Also.</td>\n    </tr>\n    <tr>\n      <th>...</th>\n      <td>...</td>\n      <td>...</td>\n      <td>...</td>\n      <td>...</td>\n      <td>...</td>\n      <td>...</td>\n      <td>...</td>\n      <td>...</td>\n    </tr>\n    <tr>\n      <th>750</th>\n      <td>9</td>\n      <td>85</td>\n      <td>138</td>\n      <td>B</td>\n      <td>M</td>\n      <td>True</td>\n      <td>W</td>\n      <td>Okay und das ist dann wenn du so ein Foto schi...</td>\n    </tr>\n    <tr>\n      <th>751</th>\n      <td>9</td>\n      <td>86</td>\n      <td>138</td>\n      <td>A</td>\n      <td>W</td>\n      <td>True</td>\n      <td>W</td>\n      <td>Ja, empfindest du das nicht so?</td>\n    </tr>\n    <tr>\n      <th>752</th>\n      <td>9</td>\n      <td>87</td>\n      <td>138</td>\n      <td>B</td>\n      <td>M</td>\n      <td>True</td>\n      <td>W</td>\n      <td>Doch, das ist schon was Besonderes, ich hab je...</td>\n    </tr>\n    <tr>\n      <th>753</th>\n      <td>9</td>\n      <td>88</td>\n      <td>138</td>\n      <td>A</td>\n      <td>W</td>\n      <td>True</td>\n      <td>W</td>\n      <td>Hm .. Ja es gibt viele Erinnerungen die irgend...</td>\n    </tr>\n    <tr>\n      <th>754</th>\n      <td>9</td>\n      <td>89</td>\n      <td>138</td>\n      <td>B</td>\n      <td>M</td>\n      <td>True</td>\n      <td>W</td>\n      <td>Ja, ich mein das war ja schon damals mit dem A...</td>\n    </tr>\n  </tbody>\n</table>\n<p>755 rows × 8 columns</p>\n</div>"
     },
     "metadata": {}
    }
   ],
   "source": [
    "paragraph_df = queryable.execute(level=TextBody.PARAGRAPH)\n",
    "display(paragraph_df)"
   ]
  },
  {
   "cell_type": "code",
   "execution_count": 9,
   "metadata": {},
   "outputs": [
    {
     "output_type": "display_data",
     "data": {
      "text/plain": "     document_id  paragraph_id  sentence_id  couple_id speaker gender  \\\n0              0             1            0        182       B      M   \n1              0             2            1        182       A      W   \n2              0             3            2        182       B      M   \n3              0             4            3        182       A      W   \n4              0             6            4        182       B      M   \n..           ...           ...          ...        ...     ...    ...   \n114            9            87          114        138       B      M   \n115            9            88          115        138       A      W   \n116            9            88          116        138       A      W   \n117            9            88          117        138       A      W   \n118            9            89          118        138       B      M   \n\n     is_depressed_group depressed_person  \\\n0                 False             None   \n1                 False             None   \n2                 False             None   \n3                 False             None   \n4                 False             None   \n..                  ...              ...   \n114                True                W   \n115                True                W   \n116                True                W   \n117                True                W   \n118                True                W   \n\n                                                  text  \n0                                                  Hm?  \n1                   Du solltest doch nicht nachgucken.  \n2    Sag nur ``Ich darf den schönen Mädchen nicht n...  \n3                                     Doch, darfst du.  \n4                                                Also.  \n..                                                 ...  \n114  Doch, das ist schon was Besonderes, ich hab je...  \n115                                               Hm .  \n116  Ja es gibt viele Erinnerungen die irgendwie di...  \n117                                Es ist interessant.  \n118  Ja, ich mein das war ja schon damals mit dem A...  \n\n[1152 rows x 9 columns]",
      "text/html": "<div>\n<style scoped>\n    .dataframe tbody tr th:only-of-type {\n        vertical-align: middle;\n    }\n\n    .dataframe tbody tr th {\n        vertical-align: top;\n    }\n\n    .dataframe thead th {\n        text-align: right;\n    }\n</style>\n<table border=\"1\" class=\"dataframe\">\n  <thead>\n    <tr style=\"text-align: right;\">\n      <th></th>\n      <th>document_id</th>\n      <th>paragraph_id</th>\n      <th>sentence_id</th>\n      <th>couple_id</th>\n      <th>speaker</th>\n      <th>gender</th>\n      <th>is_depressed_group</th>\n      <th>depressed_person</th>\n      <th>text</th>\n    </tr>\n  </thead>\n  <tbody>\n    <tr>\n      <th>0</th>\n      <td>0</td>\n      <td>1</td>\n      <td>0</td>\n      <td>182</td>\n      <td>B</td>\n      <td>M</td>\n      <td>False</td>\n      <td>None</td>\n      <td>Hm?</td>\n    </tr>\n    <tr>\n      <th>1</th>\n      <td>0</td>\n      <td>2</td>\n      <td>1</td>\n      <td>182</td>\n      <td>A</td>\n      <td>W</td>\n      <td>False</td>\n      <td>None</td>\n      <td>Du solltest doch nicht nachgucken.</td>\n    </tr>\n    <tr>\n      <th>2</th>\n      <td>0</td>\n      <td>3</td>\n      <td>2</td>\n      <td>182</td>\n      <td>B</td>\n      <td>M</td>\n      <td>False</td>\n      <td>None</td>\n      <td>Sag nur ``Ich darf den schönen Mädchen nicht n...</td>\n    </tr>\n    <tr>\n      <th>3</th>\n      <td>0</td>\n      <td>4</td>\n      <td>3</td>\n      <td>182</td>\n      <td>A</td>\n      <td>W</td>\n      <td>False</td>\n      <td>None</td>\n      <td>Doch, darfst du.</td>\n    </tr>\n    <tr>\n      <th>4</th>\n      <td>0</td>\n      <td>6</td>\n      <td>4</td>\n      <td>182</td>\n      <td>B</td>\n      <td>M</td>\n      <td>False</td>\n      <td>None</td>\n      <td>Also.</td>\n    </tr>\n    <tr>\n      <th>...</th>\n      <td>...</td>\n      <td>...</td>\n      <td>...</td>\n      <td>...</td>\n      <td>...</td>\n      <td>...</td>\n      <td>...</td>\n      <td>...</td>\n      <td>...</td>\n    </tr>\n    <tr>\n      <th>114</th>\n      <td>9</td>\n      <td>87</td>\n      <td>114</td>\n      <td>138</td>\n      <td>B</td>\n      <td>M</td>\n      <td>True</td>\n      <td>W</td>\n      <td>Doch, das ist schon was Besonderes, ich hab je...</td>\n    </tr>\n    <tr>\n      <th>115</th>\n      <td>9</td>\n      <td>88</td>\n      <td>115</td>\n      <td>138</td>\n      <td>A</td>\n      <td>W</td>\n      <td>True</td>\n      <td>W</td>\n      <td>Hm .</td>\n    </tr>\n    <tr>\n      <th>116</th>\n      <td>9</td>\n      <td>88</td>\n      <td>116</td>\n      <td>138</td>\n      <td>A</td>\n      <td>W</td>\n      <td>True</td>\n      <td>W</td>\n      <td>Ja es gibt viele Erinnerungen die irgendwie di...</td>\n    </tr>\n    <tr>\n      <th>117</th>\n      <td>9</td>\n      <td>88</td>\n      <td>117</td>\n      <td>138</td>\n      <td>A</td>\n      <td>W</td>\n      <td>True</td>\n      <td>W</td>\n      <td>Es ist interessant.</td>\n    </tr>\n    <tr>\n      <th>118</th>\n      <td>9</td>\n      <td>89</td>\n      <td>118</td>\n      <td>138</td>\n      <td>B</td>\n      <td>M</td>\n      <td>True</td>\n      <td>W</td>\n      <td>Ja, ich mein das war ja schon damals mit dem A...</td>\n    </tr>\n  </tbody>\n</table>\n<p>1152 rows × 9 columns</p>\n</div>"
     },
     "metadata": {}
    },
    {
     "output_type": "execute_result",
     "data": {
      "text/plain": [
       "     document_id  paragraph_id  sentence_id  couple_id speaker gender  \\\n",
       "0              0             1            0        182       B      M   \n",
       "1              0             2            1        182       A      W   \n",
       "2              0             3            2        182       B      M   \n",
       "3              0             4            3        182       A      W   \n",
       "4              0             6            4        182       B      M   \n",
       "..           ...           ...          ...        ...     ...    ...   \n",
       "114            9            87          114        138       B      M   \n",
       "115            9            88          115        138       A      W   \n",
       "116            9            88          116        138       A      W   \n",
       "117            9            88          117        138       A      W   \n",
       "118            9            89          118        138       B      M   \n",
       "\n",
       "     is_depressed_group depressed_person  \\\n",
       "0                 False             None   \n",
       "1                 False             None   \n",
       "2                 False             None   \n",
       "3                 False             None   \n",
       "4                 False             None   \n",
       "..                  ...              ...   \n",
       "114                True                W   \n",
       "115                True                W   \n",
       "116                True                W   \n",
       "117                True                W   \n",
       "118                True                W   \n",
       "\n",
       "                                                  text  \n",
       "0                                                  Hm?  \n",
       "1                   Du solltest doch nicht nachgucken.  \n",
       "2    Sag nur ``Ich darf den schönen Mädchen nicht n...  \n",
       "3                                     Doch, darfst du.  \n",
       "4                                                Also.  \n",
       "..                                                 ...  \n",
       "114  Doch, das ist schon was Besonderes, ich hab je...  \n",
       "115                                               Hm .  \n",
       "116  Ja es gibt viele Erinnerungen die irgendwie di...  \n",
       "117                                Es ist interessant.  \n",
       "118  Ja, ich mein das war ja schon damals mit dem A...  \n",
       "\n",
       "[1152 rows x 9 columns]"
      ],
      "text/html": "<div>\n<style scoped>\n    .dataframe tbody tr th:only-of-type {\n        vertical-align: middle;\n    }\n\n    .dataframe tbody tr th {\n        vertical-align: top;\n    }\n\n    .dataframe thead th {\n        text-align: right;\n    }\n</style>\n<table border=\"1\" class=\"dataframe\">\n  <thead>\n    <tr style=\"text-align: right;\">\n      <th></th>\n      <th>document_id</th>\n      <th>paragraph_id</th>\n      <th>sentence_id</th>\n      <th>couple_id</th>\n      <th>speaker</th>\n      <th>gender</th>\n      <th>is_depressed_group</th>\n      <th>depressed_person</th>\n      <th>text</th>\n    </tr>\n  </thead>\n  <tbody>\n    <tr>\n      <th>0</th>\n      <td>0</td>\n      <td>1</td>\n      <td>0</td>\n      <td>182</td>\n      <td>B</td>\n      <td>M</td>\n      <td>False</td>\n      <td>None</td>\n      <td>Hm?</td>\n    </tr>\n    <tr>\n      <th>1</th>\n      <td>0</td>\n      <td>2</td>\n      <td>1</td>\n      <td>182</td>\n      <td>A</td>\n      <td>W</td>\n      <td>False</td>\n      <td>None</td>\n      <td>Du solltest doch nicht nachgucken.</td>\n    </tr>\n    <tr>\n      <th>2</th>\n      <td>0</td>\n      <td>3</td>\n      <td>2</td>\n      <td>182</td>\n      <td>B</td>\n      <td>M</td>\n      <td>False</td>\n      <td>None</td>\n      <td>Sag nur ``Ich darf den schönen Mädchen nicht n...</td>\n    </tr>\n    <tr>\n      <th>3</th>\n      <td>0</td>\n      <td>4</td>\n      <td>3</td>\n      <td>182</td>\n      <td>A</td>\n      <td>W</td>\n      <td>False</td>\n      <td>None</td>\n      <td>Doch, darfst du.</td>\n    </tr>\n    <tr>\n      <th>4</th>\n      <td>0</td>\n      <td>6</td>\n      <td>4</td>\n      <td>182</td>\n      <td>B</td>\n      <td>M</td>\n      <td>False</td>\n      <td>None</td>\n      <td>Also.</td>\n    </tr>\n    <tr>\n      <th>...</th>\n      <td>...</td>\n      <td>...</td>\n      <td>...</td>\n      <td>...</td>\n      <td>...</td>\n      <td>...</td>\n      <td>...</td>\n      <td>...</td>\n      <td>...</td>\n    </tr>\n    <tr>\n      <th>114</th>\n      <td>9</td>\n      <td>87</td>\n      <td>114</td>\n      <td>138</td>\n      <td>B</td>\n      <td>M</td>\n      <td>True</td>\n      <td>W</td>\n      <td>Doch, das ist schon was Besonderes, ich hab je...</td>\n    </tr>\n    <tr>\n      <th>115</th>\n      <td>9</td>\n      <td>88</td>\n      <td>115</td>\n      <td>138</td>\n      <td>A</td>\n      <td>W</td>\n      <td>True</td>\n      <td>W</td>\n      <td>Hm .</td>\n    </tr>\n    <tr>\n      <th>116</th>\n      <td>9</td>\n      <td>88</td>\n      <td>116</td>\n      <td>138</td>\n      <td>A</td>\n      <td>W</td>\n      <td>True</td>\n      <td>W</td>\n      <td>Ja es gibt viele Erinnerungen die irgendwie di...</td>\n    </tr>\n    <tr>\n      <th>117</th>\n      <td>9</td>\n      <td>88</td>\n      <td>117</td>\n      <td>138</td>\n      <td>A</td>\n      <td>W</td>\n      <td>True</td>\n      <td>W</td>\n      <td>Es ist interessant.</td>\n    </tr>\n    <tr>\n      <th>118</th>\n      <td>9</td>\n      <td>89</td>\n      <td>118</td>\n      <td>138</td>\n      <td>B</td>\n      <td>M</td>\n      <td>True</td>\n      <td>W</td>\n      <td>Ja, ich mein das war ja schon damals mit dem A...</td>\n    </tr>\n  </tbody>\n</table>\n<p>1152 rows × 9 columns</p>\n</div>"
     },
     "metadata": {},
     "execution_count": 9
    }
   ],
   "source": [
    "sentence_df = queryable.execute(level=TextBody.SENTENCE)\n",
    "display(sentence_df)\n",
    "\n",
    "queryable.execute(level=TextBody.SENTENCE)"
   ]
  },
  {
   "cell_type": "code",
   "execution_count": 10,
   "metadata": {},
   "outputs": [
    {
     "output_type": "display_data",
     "data": {
      "text/plain": "Empty DataFrame\nColumns: [document_id, couple_id, is_depressed_group, depressed_person, text]\nIndex: []",
      "text/html": "<div>\n<style scoped>\n    .dataframe tbody tr th:only-of-type {\n        vertical-align: middle;\n    }\n\n    .dataframe tbody tr th {\n        vertical-align: top;\n    }\n\n    .dataframe thead th {\n        text-align: right;\n    }\n</style>\n<table border=\"1\" class=\"dataframe\">\n  <thead>\n    <tr style=\"text-align: right;\">\n      <th></th>\n      <th>document_id</th>\n      <th>couple_id</th>\n      <th>is_depressed_group</th>\n      <th>depressed_person</th>\n      <th>text</th>\n    </tr>\n  </thead>\n  <tbody>\n  </tbody>\n</table>\n</div>"
     },
     "metadata": {}
    }
   ],
   "source": [
    "pgs = queryable.by_couple_id(couple_id=27) \\\n",
    "    .is_depressed(d=False) \\\n",
    "    .execute(level=TextBody.DOCUMENT)\n",
    "display(pgs)"
   ]
  },
  {
   "cell_type": "code",
   "execution_count": 11,
   "metadata": {},
   "outputs": [
    {
     "output_type": "execute_result",
     "data": {
      "text/plain": [
       "'\\npipeline  = Pipeline(queryable=queryable)\\npipeline.add_component(Tokenizer())\\ndisplay(pipeline.execute())\\n'"
      ]
     },
     "metadata": {},
     "execution_count": 11
    }
   ],
   "source": []
  },
  {
   "cell_type": "code",
   "execution_count": 35,
   "metadata": {
    "tags": []
   },
   "outputs": [
    {
     "output_type": "stream",
     "name": "stdout",
     "text": [
      "=== Starting pipeline with ['Tokenizer', 'Stemmer', 'Lemmatizer', 'FeatureTFIDF', 'Liwc', 'NaiveBayes', 'NaiveBayes', 'NaiveBayes'] ===\n",
      "Executing Tokenizer\n",
      "Executing Stemmer\n",
      "Executing Lemmatizer\n",
      "Executing FeatureTFIDF\n",
      "Executing Liwc\n",
      "Executing NaiveBayes\n"
     ]
    },
    {
     "output_type": "display_data",
     "data": {
      "text/plain": "   couple_id  is_depressed_group        ja      auch      wenn      also  \\\n0        182               False  0.298184  0.156191  0.063896  0.021299   \n1         27                True  0.294945  0.196630  0.163858  0.024579   \n2         60                True  0.257762  0.171841  0.121721  0.028640   \n3         47                True  0.357365  0.299189  0.116351  0.074797   \n4         58               False  0.108745  0.163118  0.027186  0.006797   \n5         29               False  0.261638  0.098114  0.039246  0.078491   \n6         87               False  0.387505  0.182681  0.155002  0.033215   \n7         81               False  0.141206  0.111253  0.077021  0.004279   \n8        105                True  0.249690  0.168908  0.102813  0.066094   \n9        138                True  0.446558  0.195369  0.055820  0.050238   \n\n     werden     schon       wir       und     haben        du      sehr  \n0  0.014199  0.023329  0.092295  0.198789  0.106494  0.191689  0.042621  \n1  0.049157  0.000000  0.180244  0.180244  0.057350  0.221209  0.019674  \n2  0.093081  0.164692  0.085921  0.157521  0.078760  0.264922  0.008597  \n3  0.041554  0.027309  0.157905  0.199459  0.058176  0.132973  0.029936  \n4  0.040780  0.029777  0.156321  0.244677  0.142728  0.224287  0.146888  \n5  0.032705  0.071644  0.045787  0.235474  0.143901  0.215851  0.054975  \n6  0.033215  0.036380  0.105180  0.132859  0.121787  0.359826  0.046527  \n7  0.021395  0.018747  0.179716  0.308085  0.201111  0.209669  0.000000  \n8  0.066094  0.032175  0.124845  0.139532  0.176252  0.330472  0.000000  \n9  0.016746  0.091710  0.150713  0.167459  0.044656  0.061402  0.053617  ",
      "text/html": "<div>\n<style scoped>\n    .dataframe tbody tr th:only-of-type {\n        vertical-align: middle;\n    }\n\n    .dataframe tbody tr th {\n        vertical-align: top;\n    }\n\n    .dataframe thead th {\n        text-align: right;\n    }\n</style>\n<table border=\"1\" class=\"dataframe\">\n  <thead>\n    <tr style=\"text-align: right;\">\n      <th></th>\n      <th>couple_id</th>\n      <th>is_depressed_group</th>\n      <th>ja</th>\n      <th>auch</th>\n      <th>wenn</th>\n      <th>also</th>\n      <th>werden</th>\n      <th>schon</th>\n      <th>wir</th>\n      <th>und</th>\n      <th>haben</th>\n      <th>du</th>\n      <th>sehr</th>\n    </tr>\n  </thead>\n  <tbody>\n    <tr>\n      <th>0</th>\n      <td>182</td>\n      <td>False</td>\n      <td>0.298184</td>\n      <td>0.156191</td>\n      <td>0.063896</td>\n      <td>0.021299</td>\n      <td>0.014199</td>\n      <td>0.023329</td>\n      <td>0.092295</td>\n      <td>0.198789</td>\n      <td>0.106494</td>\n      <td>0.191689</td>\n      <td>0.042621</td>\n    </tr>\n    <tr>\n      <th>1</th>\n      <td>27</td>\n      <td>True</td>\n      <td>0.294945</td>\n      <td>0.196630</td>\n      <td>0.163858</td>\n      <td>0.024579</td>\n      <td>0.049157</td>\n      <td>0.000000</td>\n      <td>0.180244</td>\n      <td>0.180244</td>\n      <td>0.057350</td>\n      <td>0.221209</td>\n      <td>0.019674</td>\n    </tr>\n    <tr>\n      <th>2</th>\n      <td>60</td>\n      <td>True</td>\n      <td>0.257762</td>\n      <td>0.171841</td>\n      <td>0.121721</td>\n      <td>0.028640</td>\n      <td>0.093081</td>\n      <td>0.164692</td>\n      <td>0.085921</td>\n      <td>0.157521</td>\n      <td>0.078760</td>\n      <td>0.264922</td>\n      <td>0.008597</td>\n    </tr>\n    <tr>\n      <th>3</th>\n      <td>47</td>\n      <td>True</td>\n      <td>0.357365</td>\n      <td>0.299189</td>\n      <td>0.116351</td>\n      <td>0.074797</td>\n      <td>0.041554</td>\n      <td>0.027309</td>\n      <td>0.157905</td>\n      <td>0.199459</td>\n      <td>0.058176</td>\n      <td>0.132973</td>\n      <td>0.029936</td>\n    </tr>\n    <tr>\n      <th>4</th>\n      <td>58</td>\n      <td>False</td>\n      <td>0.108745</td>\n      <td>0.163118</td>\n      <td>0.027186</td>\n      <td>0.006797</td>\n      <td>0.040780</td>\n      <td>0.029777</td>\n      <td>0.156321</td>\n      <td>0.244677</td>\n      <td>0.142728</td>\n      <td>0.224287</td>\n      <td>0.146888</td>\n    </tr>\n    <tr>\n      <th>5</th>\n      <td>29</td>\n      <td>False</td>\n      <td>0.261638</td>\n      <td>0.098114</td>\n      <td>0.039246</td>\n      <td>0.078491</td>\n      <td>0.032705</td>\n      <td>0.071644</td>\n      <td>0.045787</td>\n      <td>0.235474</td>\n      <td>0.143901</td>\n      <td>0.215851</td>\n      <td>0.054975</td>\n    </tr>\n    <tr>\n      <th>6</th>\n      <td>87</td>\n      <td>False</td>\n      <td>0.387505</td>\n      <td>0.182681</td>\n      <td>0.155002</td>\n      <td>0.033215</td>\n      <td>0.033215</td>\n      <td>0.036380</td>\n      <td>0.105180</td>\n      <td>0.132859</td>\n      <td>0.121787</td>\n      <td>0.359826</td>\n      <td>0.046527</td>\n    </tr>\n    <tr>\n      <th>7</th>\n      <td>81</td>\n      <td>False</td>\n      <td>0.141206</td>\n      <td>0.111253</td>\n      <td>0.077021</td>\n      <td>0.004279</td>\n      <td>0.021395</td>\n      <td>0.018747</td>\n      <td>0.179716</td>\n      <td>0.308085</td>\n      <td>0.201111</td>\n      <td>0.209669</td>\n      <td>0.000000</td>\n    </tr>\n    <tr>\n      <th>8</th>\n      <td>105</td>\n      <td>True</td>\n      <td>0.249690</td>\n      <td>0.168908</td>\n      <td>0.102813</td>\n      <td>0.066094</td>\n      <td>0.066094</td>\n      <td>0.032175</td>\n      <td>0.124845</td>\n      <td>0.139532</td>\n      <td>0.176252</td>\n      <td>0.330472</td>\n      <td>0.000000</td>\n    </tr>\n    <tr>\n      <th>9</th>\n      <td>138</td>\n      <td>True</td>\n      <td>0.446558</td>\n      <td>0.195369</td>\n      <td>0.055820</td>\n      <td>0.050238</td>\n      <td>0.016746</td>\n      <td>0.091710</td>\n      <td>0.150713</td>\n      <td>0.167459</td>\n      <td>0.044656</td>\n      <td>0.061402</td>\n      <td>0.053617</td>\n    </tr>\n  </tbody>\n</table>\n</div>"
     },
     "metadata": {}
    },
    {
     "output_type": "display_data",
     "data": {
      "text/plain": "'Predictions on the test set'"
     },
     "metadata": {}
    },
    {
     "output_type": "display_data",
     "data": {
      "text/plain": "   couple_id  is_depressed_group  predicted\n8        105                   1          1\n1         27                   1          1\n5         29                   0          1\n0        182                   0          1\n7         81                   0          1",
      "text/html": "<div>\n<style scoped>\n    .dataframe tbody tr th:only-of-type {\n        vertical-align: middle;\n    }\n\n    .dataframe tbody tr th {\n        vertical-align: top;\n    }\n\n    .dataframe thead th {\n        text-align: right;\n    }\n</style>\n<table border=\"1\" class=\"dataframe\">\n  <thead>\n    <tr style=\"text-align: right;\">\n      <th></th>\n      <th>couple_id</th>\n      <th>is_depressed_group</th>\n      <th>predicted</th>\n    </tr>\n  </thead>\n  <tbody>\n    <tr>\n      <th>8</th>\n      <td>105</td>\n      <td>1</td>\n      <td>1</td>\n    </tr>\n    <tr>\n      <th>1</th>\n      <td>27</td>\n      <td>1</td>\n      <td>1</td>\n    </tr>\n    <tr>\n      <th>5</th>\n      <td>29</td>\n      <td>0</td>\n      <td>1</td>\n    </tr>\n    <tr>\n      <th>0</th>\n      <td>182</td>\n      <td>0</td>\n      <td>1</td>\n    </tr>\n    <tr>\n      <th>7</th>\n      <td>81</td>\n      <td>0</td>\n      <td>1</td>\n    </tr>\n  </tbody>\n</table>\n</div>"
     },
     "metadata": {}
    },
    {
     "output_type": "display_data",
     "data": {
      "text/plain": "'Cross-valiation'"
     },
     "metadata": {}
    },
    {
     "output_type": "display_data",
     "data": {
      "text/plain": "   couple_id  is_depressed_group  is_depressed_group  predicted\n0        182               False                   0          1\n1         27                True                   1          1\n2         60                True                   1          0\n3         47                True                   1          1\n4         58               False                   0          0\n5         29               False                   0          0\n6         87               False                   0          1\n7         81               False                   0          0\n8        105                True                   1          0\n9        138                True                   1          1",
      "text/html": "<div>\n<style scoped>\n    .dataframe tbody tr th:only-of-type {\n        vertical-align: middle;\n    }\n\n    .dataframe tbody tr th {\n        vertical-align: top;\n    }\n\n    .dataframe thead th {\n        text-align: right;\n    }\n</style>\n<table border=\"1\" class=\"dataframe\">\n  <thead>\n    <tr style=\"text-align: right;\">\n      <th></th>\n      <th>couple_id</th>\n      <th>is_depressed_group</th>\n      <th>is_depressed_group</th>\n      <th>predicted</th>\n    </tr>\n  </thead>\n  <tbody>\n    <tr>\n      <th>0</th>\n      <td>182</td>\n      <td>False</td>\n      <td>0</td>\n      <td>1</td>\n    </tr>\n    <tr>\n      <th>1</th>\n      <td>27</td>\n      <td>True</td>\n      <td>1</td>\n      <td>1</td>\n    </tr>\n    <tr>\n      <th>2</th>\n      <td>60</td>\n      <td>True</td>\n      <td>1</td>\n      <td>0</td>\n    </tr>\n    <tr>\n      <th>3</th>\n      <td>47</td>\n      <td>True</td>\n      <td>1</td>\n      <td>1</td>\n    </tr>\n    <tr>\n      <th>4</th>\n      <td>58</td>\n      <td>False</td>\n      <td>0</td>\n      <td>0</td>\n    </tr>\n    <tr>\n      <th>5</th>\n      <td>29</td>\n      <td>False</td>\n      <td>0</td>\n      <td>0</td>\n    </tr>\n    <tr>\n      <th>6</th>\n      <td>87</td>\n      <td>False</td>\n      <td>0</td>\n      <td>1</td>\n    </tr>\n    <tr>\n      <th>7</th>\n      <td>81</td>\n      <td>False</td>\n      <td>0</td>\n      <td>0</td>\n    </tr>\n    <tr>\n      <th>8</th>\n      <td>105</td>\n      <td>True</td>\n      <td>1</td>\n      <td>0</td>\n    </tr>\n    <tr>\n      <th>9</th>\n      <td>138</td>\n      <td>True</td>\n      <td>1</td>\n      <td>1</td>\n    </tr>\n  </tbody>\n</table>\n</div>"
     },
     "metadata": {}
    },
    {
     "output_type": "display_data",
     "data": {
      "text/plain": "'Accuracy on test set: 0.4'"
     },
     "metadata": {}
    },
    {
     "output_type": "display_data",
     "data": {
      "text/plain": "'Accuracy with cross-valiation: [0.5 0.5 1.  0.  1. ] | mean = 0.6'"
     },
     "metadata": {}
    },
    {
     "output_type": "stream",
     "name": "stdout",
     "text": [
      "Executing NaiveBayes\n"
     ]
    },
    {
     "output_type": "display_data",
     "data": {
      "text/plain": "   couple_id  is_depressed_group  document_id  Achieve  Affect  Anger  Anx  \\\n0        182               False            0     28.0    78.0    7.0  6.0   \n1         27                True            1     34.0   120.0    0.0  3.0   \n2         60                True            2     42.0    71.0    0.0  5.0   \n3         47                True            3     30.0    84.0    2.0  3.0   \n4         58               False            4     34.0    99.0    4.0  5.0   \n5         29               False            5     26.0    72.0    5.0  1.0   \n6         87               False            6     31.0    79.0    0.0  2.0   \n7         81               False            7     37.0   115.0    3.0  2.0   \n8        105                True            8     30.0    86.0    2.0  1.0   \n9        138                True            9     33.0    68.0    1.0  0.0   \n\n   Article  Assent  Body  ...  Social  Space  Sports  Swear   TV  Tentat  \\\n0     74.0    44.0   4.0  ...   120.0   67.0     3.0    0.0  1.0    20.0   \n1     53.0    36.0   1.0  ...   134.0   41.0     0.0    0.0  1.0    17.0   \n2     94.0    41.0   7.0  ...   133.0   65.0     6.0    1.0  1.0     7.0   \n3     54.0    46.0   3.0  ...   101.0   55.0     2.0    2.0  1.0    16.0   \n4     91.0    19.0   4.0  ...   124.0   59.0     5.0    1.0  1.0    13.0   \n5    120.0    44.0   3.0  ...   122.0   65.0     1.0    3.0  1.0    12.0   \n6     84.0    76.0   7.0  ...   180.0   71.0     4.0    2.0  2.0    26.0   \n7    140.0    55.0  13.0  ...   206.0   80.0     8.0    3.0  6.0    27.0   \n8     81.0    38.0   7.0  ...   149.0   48.0     0.0    0.0  1.0    14.0   \n9    126.0    94.0   3.0  ...   109.0  101.0     5.0    0.0  1.0    37.0   \n\n   Time    Up    We   You  \n0  35.0   5.0  17.0  48.0  \n1  22.0   4.0  27.0  58.0  \n2  68.0   7.0  21.0  71.0  \n3  46.0   8.0  24.0  33.0  \n4  73.0  11.0  31.0  50.0  \n5  68.0   4.0  11.0  48.0  \n6  60.0  12.0  24.0  82.0  \n7  84.0  11.0  51.0  83.0  \n8  39.0  11.0  23.0  63.0  \n9  59.0  16.0  36.0  22.0  \n\n[10 rows x 71 columns]",
      "text/html": "<div>\n<style scoped>\n    .dataframe tbody tr th:only-of-type {\n        vertical-align: middle;\n    }\n\n    .dataframe tbody tr th {\n        vertical-align: top;\n    }\n\n    .dataframe thead th {\n        text-align: right;\n    }\n</style>\n<table border=\"1\" class=\"dataframe\">\n  <thead>\n    <tr style=\"text-align: right;\">\n      <th></th>\n      <th>couple_id</th>\n      <th>is_depressed_group</th>\n      <th>document_id</th>\n      <th>Achieve</th>\n      <th>Affect</th>\n      <th>Anger</th>\n      <th>Anx</th>\n      <th>Article</th>\n      <th>Assent</th>\n      <th>Body</th>\n      <th>...</th>\n      <th>Social</th>\n      <th>Space</th>\n      <th>Sports</th>\n      <th>Swear</th>\n      <th>TV</th>\n      <th>Tentat</th>\n      <th>Time</th>\n      <th>Up</th>\n      <th>We</th>\n      <th>You</th>\n    </tr>\n  </thead>\n  <tbody>\n    <tr>\n      <th>0</th>\n      <td>182</td>\n      <td>False</td>\n      <td>0</td>\n      <td>28.0</td>\n      <td>78.0</td>\n      <td>7.0</td>\n      <td>6.0</td>\n      <td>74.0</td>\n      <td>44.0</td>\n      <td>4.0</td>\n      <td>...</td>\n      <td>120.0</td>\n      <td>67.0</td>\n      <td>3.0</td>\n      <td>0.0</td>\n      <td>1.0</td>\n      <td>20.0</td>\n      <td>35.0</td>\n      <td>5.0</td>\n      <td>17.0</td>\n      <td>48.0</td>\n    </tr>\n    <tr>\n      <th>1</th>\n      <td>27</td>\n      <td>True</td>\n      <td>1</td>\n      <td>34.0</td>\n      <td>120.0</td>\n      <td>0.0</td>\n      <td>3.0</td>\n      <td>53.0</td>\n      <td>36.0</td>\n      <td>1.0</td>\n      <td>...</td>\n      <td>134.0</td>\n      <td>41.0</td>\n      <td>0.0</td>\n      <td>0.0</td>\n      <td>1.0</td>\n      <td>17.0</td>\n      <td>22.0</td>\n      <td>4.0</td>\n      <td>27.0</td>\n      <td>58.0</td>\n    </tr>\n    <tr>\n      <th>2</th>\n      <td>60</td>\n      <td>True</td>\n      <td>2</td>\n      <td>42.0</td>\n      <td>71.0</td>\n      <td>0.0</td>\n      <td>5.0</td>\n      <td>94.0</td>\n      <td>41.0</td>\n      <td>7.0</td>\n      <td>...</td>\n      <td>133.0</td>\n      <td>65.0</td>\n      <td>6.0</td>\n      <td>1.0</td>\n      <td>1.0</td>\n      <td>7.0</td>\n      <td>68.0</td>\n      <td>7.0</td>\n      <td>21.0</td>\n      <td>71.0</td>\n    </tr>\n    <tr>\n      <th>3</th>\n      <td>47</td>\n      <td>True</td>\n      <td>3</td>\n      <td>30.0</td>\n      <td>84.0</td>\n      <td>2.0</td>\n      <td>3.0</td>\n      <td>54.0</td>\n      <td>46.0</td>\n      <td>3.0</td>\n      <td>...</td>\n      <td>101.0</td>\n      <td>55.0</td>\n      <td>2.0</td>\n      <td>2.0</td>\n      <td>1.0</td>\n      <td>16.0</td>\n      <td>46.0</td>\n      <td>8.0</td>\n      <td>24.0</td>\n      <td>33.0</td>\n    </tr>\n    <tr>\n      <th>4</th>\n      <td>58</td>\n      <td>False</td>\n      <td>4</td>\n      <td>34.0</td>\n      <td>99.0</td>\n      <td>4.0</td>\n      <td>5.0</td>\n      <td>91.0</td>\n      <td>19.0</td>\n      <td>4.0</td>\n      <td>...</td>\n      <td>124.0</td>\n      <td>59.0</td>\n      <td>5.0</td>\n      <td>1.0</td>\n      <td>1.0</td>\n      <td>13.0</td>\n      <td>73.0</td>\n      <td>11.0</td>\n      <td>31.0</td>\n      <td>50.0</td>\n    </tr>\n    <tr>\n      <th>5</th>\n      <td>29</td>\n      <td>False</td>\n      <td>5</td>\n      <td>26.0</td>\n      <td>72.0</td>\n      <td>5.0</td>\n      <td>1.0</td>\n      <td>120.0</td>\n      <td>44.0</td>\n      <td>3.0</td>\n      <td>...</td>\n      <td>122.0</td>\n      <td>65.0</td>\n      <td>1.0</td>\n      <td>3.0</td>\n      <td>1.0</td>\n      <td>12.0</td>\n      <td>68.0</td>\n      <td>4.0</td>\n      <td>11.0</td>\n      <td>48.0</td>\n    </tr>\n    <tr>\n      <th>6</th>\n      <td>87</td>\n      <td>False</td>\n      <td>6</td>\n      <td>31.0</td>\n      <td>79.0</td>\n      <td>0.0</td>\n      <td>2.0</td>\n      <td>84.0</td>\n      <td>76.0</td>\n      <td>7.0</td>\n      <td>...</td>\n      <td>180.0</td>\n      <td>71.0</td>\n      <td>4.0</td>\n      <td>2.0</td>\n      <td>2.0</td>\n      <td>26.0</td>\n      <td>60.0</td>\n      <td>12.0</td>\n      <td>24.0</td>\n      <td>82.0</td>\n    </tr>\n    <tr>\n      <th>7</th>\n      <td>81</td>\n      <td>False</td>\n      <td>7</td>\n      <td>37.0</td>\n      <td>115.0</td>\n      <td>3.0</td>\n      <td>2.0</td>\n      <td>140.0</td>\n      <td>55.0</td>\n      <td>13.0</td>\n      <td>...</td>\n      <td>206.0</td>\n      <td>80.0</td>\n      <td>8.0</td>\n      <td>3.0</td>\n      <td>6.0</td>\n      <td>27.0</td>\n      <td>84.0</td>\n      <td>11.0</td>\n      <td>51.0</td>\n      <td>83.0</td>\n    </tr>\n    <tr>\n      <th>8</th>\n      <td>105</td>\n      <td>True</td>\n      <td>8</td>\n      <td>30.0</td>\n      <td>86.0</td>\n      <td>2.0</td>\n      <td>1.0</td>\n      <td>81.0</td>\n      <td>38.0</td>\n      <td>7.0</td>\n      <td>...</td>\n      <td>149.0</td>\n      <td>48.0</td>\n      <td>0.0</td>\n      <td>0.0</td>\n      <td>1.0</td>\n      <td>14.0</td>\n      <td>39.0</td>\n      <td>11.0</td>\n      <td>23.0</td>\n      <td>63.0</td>\n    </tr>\n    <tr>\n      <th>9</th>\n      <td>138</td>\n      <td>True</td>\n      <td>9</td>\n      <td>33.0</td>\n      <td>68.0</td>\n      <td>1.0</td>\n      <td>0.0</td>\n      <td>126.0</td>\n      <td>94.0</td>\n      <td>3.0</td>\n      <td>...</td>\n      <td>109.0</td>\n      <td>101.0</td>\n      <td>5.0</td>\n      <td>0.0</td>\n      <td>1.0</td>\n      <td>37.0</td>\n      <td>59.0</td>\n      <td>16.0</td>\n      <td>36.0</td>\n      <td>22.0</td>\n    </tr>\n  </tbody>\n</table>\n<p>10 rows × 71 columns</p>\n</div>"
     },
     "metadata": {}
    },
    {
     "output_type": "display_data",
     "data": {
      "text/plain": "'Predictions on the test set'"
     },
     "metadata": {}
    },
    {
     "output_type": "display_data",
     "data": {
      "text/plain": "   couple_id  is_depressed_group  predicted\n8        105                   1          0\n1         27                   1          0\n5         29                   0          0\n0        182                   0          1\n7         81                   0          0",
      "text/html": "<div>\n<style scoped>\n    .dataframe tbody tr th:only-of-type {\n        vertical-align: middle;\n    }\n\n    .dataframe tbody tr th {\n        vertical-align: top;\n    }\n\n    .dataframe thead th {\n        text-align: right;\n    }\n</style>\n<table border=\"1\" class=\"dataframe\">\n  <thead>\n    <tr style=\"text-align: right;\">\n      <th></th>\n      <th>couple_id</th>\n      <th>is_depressed_group</th>\n      <th>predicted</th>\n    </tr>\n  </thead>\n  <tbody>\n    <tr>\n      <th>8</th>\n      <td>105</td>\n      <td>1</td>\n      <td>0</td>\n    </tr>\n    <tr>\n      <th>1</th>\n      <td>27</td>\n      <td>1</td>\n      <td>0</td>\n    </tr>\n    <tr>\n      <th>5</th>\n      <td>29</td>\n      <td>0</td>\n      <td>0</td>\n    </tr>\n    <tr>\n      <th>0</th>\n      <td>182</td>\n      <td>0</td>\n      <td>1</td>\n    </tr>\n    <tr>\n      <th>7</th>\n      <td>81</td>\n      <td>0</td>\n      <td>0</td>\n    </tr>\n  </tbody>\n</table>\n</div>"
     },
     "metadata": {}
    },
    {
     "output_type": "display_data",
     "data": {
      "text/plain": "'Cross-valiation'"
     },
     "metadata": {}
    },
    {
     "output_type": "display_data",
     "data": {
      "text/plain": "   couple_id  is_depressed_group  is_depressed_group  predicted\n0        182               False                   0          1\n1         27                True                   1          0\n2         60                True                   1          0\n3         47                True                   1          1\n4         58               False                   0          1\n5         29               False                   0          0\n6         87               False                   0          1\n7         81               False                   0          0\n8        105                True                   1          0\n9        138                True                   1          0",
      "text/html": "<div>\n<style scoped>\n    .dataframe tbody tr th:only-of-type {\n        vertical-align: middle;\n    }\n\n    .dataframe tbody tr th {\n        vertical-align: top;\n    }\n\n    .dataframe thead th {\n        text-align: right;\n    }\n</style>\n<table border=\"1\" class=\"dataframe\">\n  <thead>\n    <tr style=\"text-align: right;\">\n      <th></th>\n      <th>couple_id</th>\n      <th>is_depressed_group</th>\n      <th>is_depressed_group</th>\n      <th>predicted</th>\n    </tr>\n  </thead>\n  <tbody>\n    <tr>\n      <th>0</th>\n      <td>182</td>\n      <td>False</td>\n      <td>0</td>\n      <td>1</td>\n    </tr>\n    <tr>\n      <th>1</th>\n      <td>27</td>\n      <td>True</td>\n      <td>1</td>\n      <td>0</td>\n    </tr>\n    <tr>\n      <th>2</th>\n      <td>60</td>\n      <td>True</td>\n      <td>1</td>\n      <td>0</td>\n    </tr>\n    <tr>\n      <th>3</th>\n      <td>47</td>\n      <td>True</td>\n      <td>1</td>\n      <td>1</td>\n    </tr>\n    <tr>\n      <th>4</th>\n      <td>58</td>\n      <td>False</td>\n      <td>0</td>\n      <td>1</td>\n    </tr>\n    <tr>\n      <th>5</th>\n      <td>29</td>\n      <td>False</td>\n      <td>0</td>\n      <td>0</td>\n    </tr>\n    <tr>\n      <th>6</th>\n      <td>87</td>\n      <td>False</td>\n      <td>0</td>\n      <td>1</td>\n    </tr>\n    <tr>\n      <th>7</th>\n      <td>81</td>\n      <td>False</td>\n      <td>0</td>\n      <td>0</td>\n    </tr>\n    <tr>\n      <th>8</th>\n      <td>105</td>\n      <td>True</td>\n      <td>1</td>\n      <td>0</td>\n    </tr>\n    <tr>\n      <th>9</th>\n      <td>138</td>\n      <td>True</td>\n      <td>1</td>\n      <td>0</td>\n    </tr>\n  </tbody>\n</table>\n</div>"
     },
     "metadata": {}
    },
    {
     "output_type": "display_data",
     "data": {
      "text/plain": "'Accuracy on test set: 0.4'"
     },
     "metadata": {}
    },
    {
     "output_type": "display_data",
     "data": {
      "text/plain": "'Accuracy with cross-valiation: [0.  0.  1.  0.  0.5] | mean = 0.3'"
     },
     "metadata": {}
    },
    {
     "output_type": "stream",
     "name": "stdout",
     "text": [
      "Executing NaiveBayes\n"
     ]
    },
    {
     "output_type": "display_data",
     "data": {
      "text/plain": "   couple_id  is_depressed_group  predicted_x  predicted_y\n0        182               False            1            1\n1         27                True            1            0\n2         60                True            0            0\n3         47                True            1            1\n4         58               False            0            1\n5         29               False            0            0\n6         87               False            1            1\n7         81               False            0            0\n8        105                True            0            0\n9        138                True            1            0",
      "text/html": "<div>\n<style scoped>\n    .dataframe tbody tr th:only-of-type {\n        vertical-align: middle;\n    }\n\n    .dataframe tbody tr th {\n        vertical-align: top;\n    }\n\n    .dataframe thead th {\n        text-align: right;\n    }\n</style>\n<table border=\"1\" class=\"dataframe\">\n  <thead>\n    <tr style=\"text-align: right;\">\n      <th></th>\n      <th>couple_id</th>\n      <th>is_depressed_group</th>\n      <th>predicted_x</th>\n      <th>predicted_y</th>\n    </tr>\n  </thead>\n  <tbody>\n    <tr>\n      <th>0</th>\n      <td>182</td>\n      <td>False</td>\n      <td>1</td>\n      <td>1</td>\n    </tr>\n    <tr>\n      <th>1</th>\n      <td>27</td>\n      <td>True</td>\n      <td>1</td>\n      <td>0</td>\n    </tr>\n    <tr>\n      <th>2</th>\n      <td>60</td>\n      <td>True</td>\n      <td>0</td>\n      <td>0</td>\n    </tr>\n    <tr>\n      <th>3</th>\n      <td>47</td>\n      <td>True</td>\n      <td>1</td>\n      <td>1</td>\n    </tr>\n    <tr>\n      <th>4</th>\n      <td>58</td>\n      <td>False</td>\n      <td>0</td>\n      <td>1</td>\n    </tr>\n    <tr>\n      <th>5</th>\n      <td>29</td>\n      <td>False</td>\n      <td>0</td>\n      <td>0</td>\n    </tr>\n    <tr>\n      <th>6</th>\n      <td>87</td>\n      <td>False</td>\n      <td>1</td>\n      <td>1</td>\n    </tr>\n    <tr>\n      <th>7</th>\n      <td>81</td>\n      <td>False</td>\n      <td>0</td>\n      <td>0</td>\n    </tr>\n    <tr>\n      <th>8</th>\n      <td>105</td>\n      <td>True</td>\n      <td>0</td>\n      <td>0</td>\n    </tr>\n    <tr>\n      <th>9</th>\n      <td>138</td>\n      <td>True</td>\n      <td>1</td>\n      <td>0</td>\n    </tr>\n  </tbody>\n</table>\n</div>"
     },
     "metadata": {}
    },
    {
     "output_type": "display_data",
     "data": {
      "text/plain": "'Predictions on the test set'"
     },
     "metadata": {}
    },
    {
     "output_type": "display_data",
     "data": {
      "text/plain": "   couple_id  is_depressed_group  predicted\n8        105                   1          1\n1         27                   1          1\n5         29                   0          1\n0        182                   0          1\n7         81                   0          1",
      "text/html": "<div>\n<style scoped>\n    .dataframe tbody tr th:only-of-type {\n        vertical-align: middle;\n    }\n\n    .dataframe tbody tr th {\n        vertical-align: top;\n    }\n\n    .dataframe thead th {\n        text-align: right;\n    }\n</style>\n<table border=\"1\" class=\"dataframe\">\n  <thead>\n    <tr style=\"text-align: right;\">\n      <th></th>\n      <th>couple_id</th>\n      <th>is_depressed_group</th>\n      <th>predicted</th>\n    </tr>\n  </thead>\n  <tbody>\n    <tr>\n      <th>8</th>\n      <td>105</td>\n      <td>1</td>\n      <td>1</td>\n    </tr>\n    <tr>\n      <th>1</th>\n      <td>27</td>\n      <td>1</td>\n      <td>1</td>\n    </tr>\n    <tr>\n      <th>5</th>\n      <td>29</td>\n      <td>0</td>\n      <td>1</td>\n    </tr>\n    <tr>\n      <th>0</th>\n      <td>182</td>\n      <td>0</td>\n      <td>1</td>\n    </tr>\n    <tr>\n      <th>7</th>\n      <td>81</td>\n      <td>0</td>\n      <td>1</td>\n    </tr>\n  </tbody>\n</table>\n</div>"
     },
     "metadata": {}
    },
    {
     "output_type": "display_data",
     "data": {
      "text/plain": "'Cross-valiation'"
     },
     "metadata": {}
    },
    {
     "output_type": "display_data",
     "data": {
      "text/plain": "   couple_id  is_depressed_group  is_depressed_group  predicted\n0        182               False                   0          0\n1         27                True                   1          1\n2         60                True                   1          0\n3         47                True                   1          0\n4         58               False                   0          0\n5         29               False                   0          0\n6         87               False                   0          0\n7         81               False                   0          0\n8        105                True                   1          0\n9        138                True                   1          1",
      "text/html": "<div>\n<style scoped>\n    .dataframe tbody tr th:only-of-type {\n        vertical-align: middle;\n    }\n\n    .dataframe tbody tr th {\n        vertical-align: top;\n    }\n\n    .dataframe thead th {\n        text-align: right;\n    }\n</style>\n<table border=\"1\" class=\"dataframe\">\n  <thead>\n    <tr style=\"text-align: right;\">\n      <th></th>\n      <th>couple_id</th>\n      <th>is_depressed_group</th>\n      <th>is_depressed_group</th>\n      <th>predicted</th>\n    </tr>\n  </thead>\n  <tbody>\n    <tr>\n      <th>0</th>\n      <td>182</td>\n      <td>False</td>\n      <td>0</td>\n      <td>0</td>\n    </tr>\n    <tr>\n      <th>1</th>\n      <td>27</td>\n      <td>True</td>\n      <td>1</td>\n      <td>1</td>\n    </tr>\n    <tr>\n      <th>2</th>\n      <td>60</td>\n      <td>True</td>\n      <td>1</td>\n      <td>0</td>\n    </tr>\n    <tr>\n      <th>3</th>\n      <td>47</td>\n      <td>True</td>\n      <td>1</td>\n      <td>0</td>\n    </tr>\n    <tr>\n      <th>4</th>\n      <td>58</td>\n      <td>False</td>\n      <td>0</td>\n      <td>0</td>\n    </tr>\n    <tr>\n      <th>5</th>\n      <td>29</td>\n      <td>False</td>\n      <td>0</td>\n      <td>0</td>\n    </tr>\n    <tr>\n      <th>6</th>\n      <td>87</td>\n      <td>False</td>\n      <td>0</td>\n      <td>0</td>\n    </tr>\n    <tr>\n      <th>7</th>\n      <td>81</td>\n      <td>False</td>\n      <td>0</td>\n      <td>0</td>\n    </tr>\n    <tr>\n      <th>8</th>\n      <td>105</td>\n      <td>True</td>\n      <td>1</td>\n      <td>0</td>\n    </tr>\n    <tr>\n      <th>9</th>\n      <td>138</td>\n      <td>True</td>\n      <td>1</td>\n      <td>1</td>\n    </tr>\n  </tbody>\n</table>\n</div>"
     },
     "metadata": {}
    },
    {
     "output_type": "display_data",
     "data": {
      "text/plain": "'Accuracy on test set: 0.4'"
     },
     "metadata": {}
    },
    {
     "output_type": "display_data",
     "data": {
      "text/plain": "'Accuracy with cross-valiation: [1.  0.5 0.5 0.5 1. ] | mean = 0.7'"
     },
     "metadata": {}
    },
    {
     "output_type": "stream",
     "name": "stdout",
     "text": [
      "=== Finished pipeline execution ===\n"
     ]
    },
    {
     "output_type": "execute_result",
     "data": {
      "text/plain": [
       " 0.000000  \n",
       " 6  0.116709  0.147832  0.108929  0.326786  0.051292  \n",
       " 7  0.077820  0.140077  0.155641  0.249025  0.000000  \n",
       " 8  0.215067  0.143378  0.071689  0.047793  0.031506  \n",
       " 9  0.059748  0.179245  0.059748  0.149371  0.078776  ,\n",
       " tfidf_document_f(feature):    couple_id        ja      auch      wenn      also    werden     schon  \\\n",
       " 0         27  0.290161  0.152717  0.198532  0.033454  0.066909  0.000000   \n",
       " 1         29  0.159569  0.087763  0.039892  0.096128  0.043694  0.094673   \n",
       " 2         47  0.387110  0.294204  0.123875  0.118722  0.033920  0.061246   \n",
       " 3         58  0.138962  0.238220  0.059555  0.021744  0.021744  0.000000   \n",
       " 4         60  0.169254  0.199122  0.139386  0.032715  0.109050  0.249407   \n",
       " 5         81  0.123322  0.147986  0.098657  0.000000  0.009005  0.021679   \n",
       " 6         87  0.536416  0.150867  0.100578  0.018361  0.036721  0.066304   \n",
       " 7        105  0.188466  0.175902  0.050258  0.027524  0.082572  0.000000   \n",
       " 8        138  0.470462  0.190187  0.060059  0.043855  0.000000  0.118778   \n",
       " 9        182  0.234025  0.197074  0.073903  0.013491  0.026982  0.032479   \n",
       " \n",
       "         wir       und     haben        du      sehr  \n",
       " 0  0.152717  0.244347  0.030543  0.198532  0.018336  \n",
       " 1  0.023935  0.223397  0.135634  0.223397  0.028739  \n",
       " 2  0.170329  0.232266  0.046453  0.139360  0.037183  \n",
       " 3  0.158814  0.277924  0.158814  0.337479  0.214518  \n",
       " 4  0.079649  0.179210  0.089605  0.308640  0.011954  \n",
       " 5  0.238422  0.254865  0.254865  0.180872  0.000000  \n",
       " 6  0.067052  0.083815  0.134104  0.385549  0.040254  \n",
       " 7  0.150773  0.125644  0.175902  0.364368  0.000000  \n",
       " 8  0.090088  0.180177  0.020020  0.070069  0.072111  \n",
       " 9  0.110854  0.197074  0.135488  0.209391  0.014789  ,\n",
       " liwc_document_m(feature):    document_id  couple_id  Achieve  Affect  Anger  Anx  Article  Assent  Body  \\\n",
       " 0            0        182     10.0    26.0    0.0  1.0     40.0    25.0   2.0   \n",
       " 1            1         27     21.0    53.0    0.0  2.0     24.0    17.0   1.0   \n",
       " 2            2         60      9.0    17.0    0.0  1.0     34.0    19.0   2.0   \n",
       " 3            3         47     11.0    39.0    1.0  2.0     35.0    21.0   2.0   \n",
       " 4            4         58     27.0    69.0    3.0  3.0     70.0    12.0   2.0   \n",
       " 5            5         29      5.0    18.0    0.0  0.0     17.0    22.0   0.0   \n",
       " 6            6         87     24.0    54.0    0.0  2.0     68.0    42.0   6.0   \n",
       " 7            7         81     17.0    56.0    1.0  2.0     61.0    21.0   5.0   \n",
       " 8            8        105     10.0    30.0    0.0  1.0     38.0    21.0   3.0   \n",
       " 9            9        138     19.0    34.0    1.0  0.0     59.0    38.0   2.0   \n",
       " \n",
       "    Cause  ...  Social  Space  Sports  Swear   TV  Tentat  Time   Up    We  \\\n",
       " 0   19.0  ...    49.0   28.0     1.0    0.0  1.0     5.0  11.0  2.0   5.0   \n",
       " 1   12.0  ...    69.0   22.0     0.0    0.0  0.0     8.0  13.0  3.0  16.0   \n",
       " 2    8.0  ...    30.0   20.0     1.0    0.0  0.0     3.0  18.0  2.0   6.0   \n",
       " 3    8.0  ...    41.0   29.0     2.0    1.0  0.0     9.0  26.0  5.0   9.0   \n",
       " 4   37.0  ...    76.0   42.0     5.0    1.0  0.0     7.0  50.0  9.0  20.0   \n",
       " 5    2.0  ...    20.0   11.0     0.0    0.0  0.0     3.0   3.0  0.0   4.0   \n",
       " 6   22.0  ...   126.0   53.0     3.0    1.0  2.0    23.0  44.0  9.0  18.0   \n",
       " 7   29.0  ...    93.0   49.0     2.0    1.0  2.0    10.0  35.0  4.0  16.0   \n",
       " 8   18.0  ...    57.0   24.0     0.0    0.0  1.0     6.0  23.0  6.0   6.0   \n",
       " 9   26.0  ...    47.0   56.0     2.0    0.0  1.0    25.0  29.0  8.0  20.0   \n",
       " \n",
       "     You  \n",
       " 0  17.0  \n",
       " 1  30.0  \n",
       " 2  12.0  \n",
       " 3  15.0  \n",
       " 4  28.0  \n",
       " 5  10.0  \n",
       " 6  54.0  \n",
       " 7  44.0  \n",
       " 8  26.0  \n",
       " 9   7.0  \n",
       " \n",
       " [10 rows x 70 columns],\n",
       " liwc_document_f(feature):    document_id  couple_id  Achieve  Affect  Anger  Anx  Article  Assent  Body  \\\n",
       " 0            0        182     18.0    52.0    7.0  5.0     34.0    19.0   2.0   \n",
       " 1            1         27     13.0    67.0    0.0  1.0     29.0    19.0   0.0   \n",
       " 2            2         60     33.0    54.0    0.0  4.0     60.0    22.0   5.0   \n",
       " 3            3         47     19.0    45.0    1.0  1.0     19.0    25.0   1.0   \n",
       " 4            4         58      7.0    30.0    1.0  2.0     21.0     7.0   2.0   \n",
       " 5            5         29     21.0    54.0    5.0  1.0    103.0    22.0   3.0   \n",
       " 6            6         87      7.0    25.0    0.0  0.0     16.0    34.0   1.0   \n",
       " 7            7         81     20.0    59.0    2.0  0.0     79.0    34.0   8.0   \n",
       " 8            8        105     20.0    56.0    2.0  0.0     43.0    17.0   4.0   \n",
       " 9            9        138     14.0    34.0    0.0  0.0     67.0    56.0   1.0   \n",
       " \n",
       "    Cause  ...  Social  Space  Sports  Swear   TV  Tentat  Time   Up    We  \\\n",
       " 0   13.0  ...    71.0   39.0     2.0    0.0  0.0    15.0  24.0  3.0  12.0   \n",
       " 1    9.0  ...    65.0   19.0     0.0    0.0  1.0     9.0   9.0  1.0  11.0   \n",
       " 2   15.0  ...   103.0   45.0     5.0    1.0  1.0     4.0  50.0  5.0  15.0   \n",
       " 3   15.0  ...    60.0   26.0     0.0    1.0  1.0     7.0  20.0  3.0  15.0   \n",
       " 4   18.0  ...    48.0   17.0     0.0    0.0  1.0     6.0  23.0  2.0  11.0   \n",
       " 5   24.0  ...   102.0   54.0     1.0    3.0  1.0     9.0  65.0  4.0   7.0   \n",
       " 6    7.0  ...    54.0   18.0     1.0    1.0  0.0     3.0  16.0  3.0   6.0   \n",
       " 7   10.0  ...   113.0   31.0     6.0    2.0  4.0    17.0  49.0  7.0  35.0   \n",
       " 8    9.0  ...    92.0   24.0     0.0    0.0  0.0     8.0  16.0  5.0  17.0   \n",
       " 9   14.0  ...    62.0   45.0     3.0    0.0  0.0    12.0  30.0  8.0  16.0   \n",
       " \n",
       "     You  \n",
       " 0  31.0  \n",
       " 1  28.0  \n",
       " 2  59.0  \n",
       " 3  18.0  \n",
       " 4  22.0  \n",
       " 5  38.0  \n",
       " 6  28.0  \n",
       " 7  39.0  \n",
       " 8  37.0  \n",
       " 9  15.0  \n",
       " \n",
       " [10 rows x 68 columns],\n",
       " liwc_document_mf(feature):    document_id  couple_id  Achieve  Affect  Anger  Anx  Article  Assent  Body  \\\n",
       " 0            0        182     28.0    78.0    7.0  6.0     74.0    44.0   4.0   \n",
       " 1            1         27     34.0   120.0    0.0  3.0     53.0    36.0   1.0   \n",
       " 2            2         60     42.0    71.0    0.0  5.0     94.0    41.0   7.0   \n",
       " 3            3         47     30.0    84.0    2.0  3.0     54.0    46.0   3.0   \n",
       " 4            4         58     34.0    99.0    4.0  5.0     91.0    19.0   4.0   \n",
       " 5            5         29     26.0    72.0    5.0  1.0    120.0    44.0   3.0   \n",
       " 6            6         87     31.0    79.0    0.0  2.0     84.0    76.0   7.0   \n",
       " 7            7         81     37.0   115.0    3.0  2.0    140.0    55.0  13.0   \n",
       " 8            8        105     30.0    86.0    2.0  1.0     81.0    38.0   7.0   \n",
       " 9            9        138     33.0    68.0    1.0  0.0    126.0    94.0   3.0   \n",
       " \n",
       "    Cause  ...  Social  Space  Sports  Swear   TV  Tentat  Time    Up    We  \\\n",
       " 0   32.0  ...   120.0   67.0     3.0    0.0  1.0    20.0  35.0   5.0  17.0   \n",
       " 1   21.0  ...   134.0   41.0     0.0    0.0  1.0    17.0  22.0   4.0  27.0   \n",
       " 2   23.0  ...   133.0   65.0     6.0    1.0  1.0     7.0  68.0   7.0  21.0   \n",
       " 3   23.0  ...   101.0   55.0     2.0    2.0  1.0    16.0  46.0   8.0  24.0   \n",
       " 4   55.0  ...   124.0   59.0     5.0    1.0  1.0    13.0  73.0  11.0  31.0   \n",
       " 5   26.0  ...   122.0   65.0     1.0    3.0  1.0    12.0  68.0   4.0  11.0   \n",
       " 6   29.0  ...   180.0   71.0     4.0    2.0  2.0    26.0  60.0  12.0  24.0   \n",
       " 7   39.0  ...   206.0   80.0     8.0    3.0  6.0    27.0  84.0  11.0  51.0   \n",
       " 8   27.0  ...   149.0   48.0     0.0    0.0  1.0    14.0  39.0  11.0  23.0   \n",
       " 9   40.0  ...   109.0  101.0     5.0    0.0  1.0    37.0  59.0  16.0  36.0   \n",
       " \n",
       "     You  \n",
       " 0  48.0  \n",
       " 1  58.0  \n",
       " 2  71.0  \n",
       " 3  33.0  \n",
       " 4  50.0  \n",
       " 5  48.0  \n",
       " 6  82.0  \n",
       " 7  83.0  \n",
       " 8  63.0  \n",
       " 9  22.0  \n",
       " \n",
       " [10 rows x 70 columns],\n",
       " liwc_paragraph_m(feature):    document_id  couple_id   Achieve    Affect     Anger       Anx   Article  \\\n",
       " 0            0        182  0.263158  0.684211  0.000000  0.026316  1.052632   \n",
       " 1            1         27  0.875000  2.208333  0.000000  0.083333  1.000000   \n",
       " 2            2         60  0.200000  0.377778  0.000000  0.022222  0.755556   \n",
       " 3            3         47  0.323529  1.147059  0.029412  0.058824  1.029412   \n",
       " 4            4         58  1.038462  2.653846  0.115385  0.115385  2.692308   \n",
       " 5            5         29  0.227273  0.818182  0.000000  0.000000  0.772727   \n",
       " 6            6         87  0.470588  1.058824  0.000000  0.039216  1.333333   \n",
       " 7            7         81  0.314815  1.037037  0.018519  0.037037  1.129630   \n",
       " 8            8        105  0.232558  0.697674  0.000000  0.023256  0.883721   \n",
       " 9            9        138  0.422222  0.755556  0.022222  0.000000  1.311111   \n",
       " \n",
       "      Assent      Body     Cause  ...    Social     Space    Sports     Swear  \\\n",
       " 0  0.657895  0.052632  0.500000  ...  1.289474  0.736842  0.026316  0.000000   \n",
       " 1  0.708333  0.041667  0.500000  ...  2.875000  0.916667  0.000000  0.000000   \n",
       " 2  0.422222  0.044444  0.177778  ...  0.666667  0.444444  0.022222  0.000000   \n",
       " 3  0.617647  0.058824  0.235294  ...  1.205882  0.852941  0.058824  0.029412   \n",
       " 4  0.461538  0.076923  1.423077  ...  2.923077  1.615385  0.192308  0.038462   \n",
       " 5  1.000000  0.000000  0.090909  ...  0.909091  0.500000  0.000000  0.000000   \n",
       " 6  0.823529  0.117647  0.431373  ...  2.470588  1.039216  0.058824  0.019608   \n",
       " 7  0.388889  0.092593  0.537037  ...  1.722222  0.907407  0.037037  0.018519   \n",
       " 8  0.488372  0.069767  0.418605  ...  1.325581  0.558140  0.000000  0.000000   \n",
       " 9  0.844444  0.044444  0.577778  ...  1.044444  1.244444  0.044444  0.000000   \n",
       " \n",
       "          TV    Tentat      Time        Up        We       You  \n",
       " 0  0.026316  0.131579  0.289474  0.052632  0.131579  0.447368  \n",
       " 1  0.000000  0.333333  0.541667  0.125000  0.666667  1.250000  \n",
       " 2  0.000000  0.066667  0.400000  0.044444  0.133333  0.266667  \n",
       " 3  0.000000  0.264706  0.764706  0.147059  0.264706  0.441176  \n",
       " 4  0.000000  0.269231  1.923077  0.346154  0.769231  1.076923  \n",
       " 5  0.000000  0.136364  0.136364  0.000000  0.181818  0.454545  \n",
       " 6  0.039216  0.450980  0.862745  0.176471  0.352941  1.058824  \n",
       " 7  0.037037  0.185185  0.648148  0.074074  0.296296  0.814815  \n",
       " 8  0.023256  0.139535  0.534884  0.139535  0.139535  0.604651  \n",
       " 9  0.022222  0.555556  0.644444  0.177778  0.444444  0.155556  \n",
       " \n",
       " [10 rows x 70 columns],\n",
       " liwc_paragraph_f(feature):    document_id  couple_id   Achieve    Affect     Anger       Anx   Article  \\\n",
       " 0            0        182  0.486486  1.405405  0.189189  0.135135  0.918919   \n",
       " 1            1         27  0.541667  2.791667  0.000000  0.041667  1.208333   \n",
       " 2            2         60  0.702128  1.148936  0.000000  0.085106  1.276596   \n",
       " 3            3         47  0.633333  1.500000  0.033333  0.033333  0.633333   \n",
       " 4            4         58  0.259259  1.111111  0.037037  0.074074  0.777778   \n",
       " 5            5         29  0.954545  2.454545  0.227273  0.045455  4.681818   \n",
       " 6            6         87  0.152174  0.543478  0.000000  0.000000  0.347826   \n",
       " 7            7         81  0.357143  1.053571  0.035714  0.000000  1.410714   \n",
       " 8            8        105  0.500000  1.400000  0.050000  0.000000  1.075000   \n",
       " 9            9        138  0.318182  0.772727  0.000000  0.000000  1.522727   \n",
       " \n",
       "      Assent      Body     Cause  ...    Social     Space    Sports     Swear  \\\n",
       " 0  0.513514  0.054054  0.351351  ...  1.918919  1.054054  0.054054  0.000000   \n",
       " 1  0.791667  0.000000  0.375000  ...  2.708333  0.791667  0.000000  0.000000   \n",
       " 2  0.468085  0.106383  0.319149  ...  2.191489  0.957447  0.106383  0.021277   \n",
       " 3  0.833333  0.033333  0.500000  ...  2.000000  0.866667  0.000000  0.033333   \n",
       " 4  0.259259  0.074074  0.666667  ...  1.777778  0.629630  0.000000  0.000000   \n",
       " 5  1.000000  0.136364  1.090909  ...  4.636364  2.454545  0.045455  0.136364   \n",
       " 6  0.739130  0.021739  0.152174  ...  1.173913  0.391304  0.021739  0.021739   \n",
       " 7  0.607143  0.142857  0.178571  ...  2.017857  0.553571  0.107143  0.035714   \n",
       " 8  0.425000  0.100000  0.225000  ...  2.300000  0.600000  0.000000  0.000000   \n",
       " 9  1.272727  0.022727  0.318182  ...  1.409091  1.022727  0.068182  0.000000   \n",
       " \n",
       "          TV    Tentat      Time        Up        We       You  \n",
       " 0  0.000000  0.405405  0.648649  0.081081  0.324324  0.837838  \n",
       " 1  0.041667  0.375000  0.375000  0.041667  0.458333  1.166667  \n",
       " 2  0.021277  0.085106  1.063830  0.106383  0.319149  1.255319  \n",
       " 3  0.033333  0.233333  0.666667  0.100000  0.500000  0.600000  \n",
       " 4  0.037037  0.222222  0.851852  0.074074  0.407407  0.814815  \n",
       " 5  0.045455  0.409091  2.954545  0.181818  0.318182  1.727273  \n",
       " 6  0.000000  0.065217  0.347826  0.065217  0.130435  0.608696  \n",
       " 7  0.071429  0.303571  0.875000  0.125000  0.625000  0.696429  \n",
       " 8  0.000000  0.200000  0.400000  0.125000  0.425000  0.925000  \n",
       " 9  0.000000  0.272727  0.681818  0.181818  0.363636  0.340909  \n",
       " \n",
       " [10 rows x 68 columns],\n",
       " liwc_sentence_m(feature):    document_id  couple_id   Achieve    Affect     Anger       Anx   Article  \\\n",
       " 0            0        182  0.129870  0.337662  0.000000  0.012987  0.519481   \n",
       " 1            1         27  0.437500  1.104167  0.000000  0.041667  0.500000   \n",
       " 2            2         60  0.169811  0.320755  0.000000  0.018868  0.641509   \n",
       " 3            3         47  0.200000  0.709091  0.018182  0.036364  0.636364   \n",
       " 4            4         58  0.519231  1.326923  0.057692  0.057692  1.346154   \n",
       " 5            5         29  0.172414  0.620690  0.000000  0.000000  0.586207   \n",
       " 6            6         87  0.311688  0.701299  0.000000  0.025974  0.883117   \n",
       " 7            7         81  0.229730  0.756757  0.013514  0.027027  0.824324   \n",
       " 8            8        105  0.153846  0.461538  0.000000  0.015385  0.584615   \n",
       " 9            9        138  0.327586  0.586207  0.017241  0.000000  1.017241   \n",
       " \n",
       "      Assent      Body     Cause  ...    Social     Space    Sports     Swear  \\\n",
       " 0  0.324675  0.025974  0.246753  ...  0.636364  0.363636  0.012987  0.000000   \n",
       " 1  0.354167  0.020833  0.250000  ...  1.437500  0.458333  0.000000  0.000000   \n",
       " 2  0.358491  0.037736  0.150943  ...  0.566038  0.377358  0.018868  0.000000   \n",
       " 3  0.381818  0.036364  0.145455  ...  0.745455  0.527273  0.036364  0.018182   \n",
       " 4  0.230769  0.038462  0.711538  ...  1.461538  0.807692  0.096154  0.019231   \n",
       " 5  0.758621  0.000000  0.068966  ...  0.689655  0.379310  0.000000  0.000000   \n",
       " 6  0.545455  0.077922  0.285714  ...  1.636364  0.688312  0.038961  0.012987   \n",
       " 7  0.283784  0.067568  0.391892  ...  1.256757  0.662162  0.027027  0.013514   \n",
       " 8  0.323077  0.046154  0.276923  ...  0.876923  0.369231  0.000000  0.000000   \n",
       " 9  0.655172  0.034483  0.448276  ...  0.810345  0.965517  0.034483  0.000000   \n",
       " \n",
       "          TV    Tentat      Time        Up        We       You  \n",
       " 0  0.012987  0.064935  0.142857  0.025974  0.064935  0.220779  \n",
       " 1  0.000000  0.166667  0.270833  0.062500  0.333333  0.625000  \n",
       " 2  0.000000  0.056604  0.339623  0.037736  0.113208  0.226415  \n",
       " 3  0.000000  0.163636  0.472727  0.090909  0.163636  0.272727  \n",
       " 4  0.000000  0.134615  0.961538  0.173077  0.384615  0.538462  \n",
       " 5  0.000000  0.103448  0.103448  0.000000  0.137931  0.344828  \n",
       " 6  0.025974  0.298701  0.571429  0.116883  0.233766  0.701299  \n",
       " 7  0.027027  0.135135  0.472973  0.054054  0.216216  0.594595  \n",
       " 8  0.015385  0.092308  0.353846  0.092308  0.092308  0.400000  \n",
       " 9  0.017241  0.431034  0.500000  0.137931  0.344828  0.120690  \n",
       " \n",
       " [10 rows x 70 columns],\n",
       " liwc_sentence_f(feature):    document_id  couple_id   Achieve    Affect     Anger       Anx   Article  \\\n",
       " 0            0        182  0.382979  1.106383  0.148936  0.106383  0.723404   \n",
       " 1            1         27  0.240741  1.240741  0.000000  0.018519  0.537037   \n",
       " 2            2         60  0.423077  0.692308  0.000000  0.051282  0.769231   \n",
       " 3            3         47  0.500000  1.184211  0.026316  0.026316  0.500000   \n",
       " 4            4         58  0.218750  0.937500  0.031250  0.062500  0.656250   \n",
       " 5            5         29  0.403846  1.038462  0.096154  0.019231  1.980769   \n",
       " 6            6         87  0.127273  0.454545  0.000000  0.000000  0.290909   \n",
       " 7            7         81  0.232558  0.686047  0.023256  0.000000  0.918605   \n",
       " 8            8        105  0.327869  0.918033  0.032787  0.000000  0.704918   \n",
       " 9            9        138  0.229508  0.557377  0.000000  0.000000  1.098361   \n",
       " \n",
       "      Assent      Body     Cause  ...    Social     Space    Sports     Swear  \\\n",
       " 0  0.404255  0.042553  0.276596  ...  1.510638  0.829787  0.042553  0.000000   \n",
       " 1  0.351852  0.000000  0.166667  ...  1.203704  0.351852  0.000000  0.000000   \n",
       " 2  0.282051  0.064103  0.192308  ...  1.320513  0.576923  0.064103  0.012821   \n",
       " 3  0.657895  0.026316  0.394737  ...  1.578947  0.684211  0.000000  0.026316   \n",
       " 4  0.218750  0.062500  0.562500  ...  1.500000  0.531250  0.000000  0.000000   \n",
       " 5  0.423077  0.057692  0.461538  ...  1.961538  1.038462  0.019231  0.057692   \n",
       " 6  0.618182  0.018182  0.127273  ...  0.981818  0.327273  0.018182  0.018182   \n",
       " 7  0.395349  0.093023  0.116279  ...  1.313953  0.360465  0.069767  0.023256   \n",
       " 8  0.278689  0.065574  0.147541  ...  1.508197  0.393443  0.000000  0.000000   \n",
       " 9  0.918033  0.016393  0.229508  ...  1.016393  0.737705  0.049180  0.000000   \n",
       " \n",
       "          TV    Tentat      Time        Up        We       You  \n",
       " 0  0.000000  0.319149  0.510638  0.063830  0.255319  0.659574  \n",
       " 1  0.018519  0.166667  0.166667  0.018519  0.203704  0.518519  \n",
       " 2  0.012821  0.051282  0.641026  0.064103  0.192308  0.756410  \n",
       " 3  0.026316  0.184211  0.526316  0.078947  0.394737  0.473684  \n",
       " 4  0.031250  0.187500  0.718750  0.062500  0.343750  0.687500  \n",
       " 5  0.019231  0.173077  1.250000  0.076923  0.134615  0.730769  \n",
       " 6  0.000000  0.054545  0.290909  0.054545  0.109091  0.509091  \n",
       " 7  0.046512  0.197674  0.569767  0.081395  0.406977  0.453488  \n",
       " 8  0.000000  0.131148  0.262295  0.081967  0.278689  0.606557  \n",
       " 9  0.000000  0.196721  0.491803  0.131148  0.262295  0.245902  \n",
       " \n",
       " [10 rows x 68 columns],\n",
       " classification_naive_bayes_tfidf(classifier):    couple_id  is_depressed_group  is_depressed_group  predicted\n",
       " 0        182               False                   0          1\n",
       " 1         27                True                   1          1\n",
       " 2         60                True                   1          0\n",
       " 3         47                True                   1          1\n",
       " 4         58               False                   0          0\n",
       " 5         29               False                   0          0\n",
       " 6         87               False                   0          1\n",
       " 7         81               False                   0          0\n",
       " 8        105                True                   1          0\n",
       " 9        138                True                   1          1,\n",
       " classification_naive_bayes_liwc(classifier):    couple_id  is_depressed_group  is_depressed_group  predicted\n",
       " 0        182               False                   0          1\n",
       " 1         27                True                   1          0\n",
       " 2         60                True                   1          0\n",
       " 3         47                True                   1          1\n",
       " 4         58               False                   0          1\n",
       " 5         29               False                   0          0\n",
       " 6         87               False                   0          1\n",
       " 7         81               False                   0          0\n",
       " 8        105                True                   1          0\n",
       " 9        138                True                   1          0,\n",
       " classification_naive_bayes_voting(classifier):    couple_id  is_depressed_group  is_depressed_group  predicted\n",
       " 0        182               False                   0          0\n",
       " 1         27                True                   1          1\n",
       " 2         60                True                   1          0\n",
       " 3         47                True                   1          0\n",
       " 4         58               False                   0          0\n",
       " 5         29               False                   0          0\n",
       " 6         87               False                   0          0\n",
       " 7         81               False                   0          0\n",
       " 8        105                True                   1          0\n",
       " 9        138                True                   1          1}"
      ]
     },
     "metadata": {},
     "execution_count": 35
    }
   ],
   "source": [
    "from src.sigmund.preprocessing.words import Tokenizer, Stemmer, Lemmatizer\n",
    "from src.sigmund.features.tfidf import FeatureTFIDF\n",
    "from src.pipelinelib.pipeline import Pipeline\n",
    "from src.sigmund.classification.naive_bayes import NaiveBayes\n",
    "from src.sigmund.classification.merger import FeatureMerger\n",
    "from src.sigmund.classification.linear_discriminant_analysis import LinearDiscriminantAnalysisClassifier\n",
    "from src.sigmund.features.liwc import Liwc\n",
    "from src.sigmund.features.vocabulary_size import VocabularySize\n",
    "from src.sigmund.classification.pca import PCAReduction\n",
    "from src.sigmund.extensions import *\n",
    "\n",
    "pipeline = Pipeline(queryable=queryable)\n",
    "pipeline.add_component(Tokenizer())\n",
    "pipeline.add_component(Stemmer())\n",
    "pipeline.add_component(Lemmatizer())\n",
    "pipeline.add_component(FeatureTFIDF(white_list=[\n",
    "    'ja', 'auch', 'wenn', 'also', 'werden', 'schon', 'wir', # high in depressed group\n",
    "    'und', 'haben', 'du', 'sehr'])), #'so', 'wirkl  ich', 'ich', 'gerne', 'weil']))\n",
    "#pipeline.add_component(FeatureTFIDF())\n",
    "pipeline.add_component(Liwc())\n",
    "#pipeline.add_component(FeatureMerger()) #[TFIDF_DOCUMENT]))\n",
    "\n",
    "pipeline.add_component(NaiveBayes(inputs=[TFIDF_DOCUMENT_MF], output=CLASSIFICATION_NAIVE_BAYES_TFIDF, voting=False))\n",
    "\n",
    "pipeline.add_component(NaiveBayes(inputs=[LIWC_DOCUMENT_MF], output=CLASSIFICATION_NAIVE_BAYES_LIWC, voting=False))\n",
    "\n",
    "pipeline.add_component(NaiveBayes(inputs=[CLASSIFICATION_NAIVE_BAYES_TFIDF, CLASSIFICATION_NAIVE_BAYES_LIWC], output=CLASSIFICATION_NAIVE_BAYES_VOTING, voting=True))\n",
    "\n",
    "\n",
    "pipeline.execute(visualise=True)"
   ]
  }
 ]
}