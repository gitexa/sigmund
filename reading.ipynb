{
 "cells": [
  {
   "cell_type": "code",
   "execution_count": 1,
   "metadata": {},
   "outputs": [],
   "source": [
    "%load_ext autoreload\n",
    "%autoreload 2"
   ]
  },
  {
   "cell_type": "code",
   "execution_count": 2,
   "metadata": {},
   "outputs": [],
   "source": [
    "import os\n",
    "from IPython.display import display \n",
    "\n",
    "import spacy"
   ]
  },
  {
   "cell_type": "code",
   "execution_count": 3,
   "metadata": {},
   "outputs": [],
   "source": [
    "folder = os.path.join(os.getcwd(), \"data\", \"texts\")\n",
    "files = [os.path.join(root, f) for root, _, files in os.walk(folder) for f in files if f.endswith(\".docx\")]\n",
    "        "
   ]
  },
  {
   "cell_type": "code",
   "execution_count": 5,
   "metadata": {
    "tags": []
   },
   "outputs": [],
   "source": [
    "from src.pipelinelib.querying import Parser, Queryable\n",
    "\n",
    "nlp = spacy.load(\"de_core_news_sm\", disable=[\"ner\", \"parser\"])\n",
    "parser = Parser(nlp=nlp, metadata_path=\"./data/transcripts/Kopie von Transkriptionspaare_Daten.xls\")\n",
    "\n",
    "parser.read_from_files(files)"
   ]
  },
  {
   "cell_type": "code",
   "execution_count": 6,
   "metadata": {},
   "outputs": [
    {
     "data": {
      "text/html": [
       "<div>\n",
       "<style scoped>\n",
       "    .dataframe tbody tr th:only-of-type {\n",
       "        vertical-align: middle;\n",
       "    }\n",
       "\n",
       "    .dataframe tbody tr th {\n",
       "        vertical-align: top;\n",
       "    }\n",
       "\n",
       "    .dataframe thead th {\n",
       "        text-align: right;\n",
       "    }\n",
       "</style>\n",
       "<table border=\"1\" class=\"dataframe\">\n",
       "  <thead>\n",
       "    <tr style=\"text-align: right;\">\n",
       "      <th></th>\n",
       "      <th>document_id</th>\n",
       "      <th>paragraph_id</th>\n",
       "      <th>sentence_id</th>\n",
       "      <th>couple_id</th>\n",
       "      <th>speaker</th>\n",
       "      <th>gender</th>\n",
       "      <th>is_depressed_group</th>\n",
       "      <th>depressed_person</th>\n",
       "      <th>text</th>\n",
       "    </tr>\n",
       "  </thead>\n",
       "  <tbody>\n",
       "  </tbody>\n",
       "</table>\n",
       "</div>"
      ],
      "text/plain": [
       "Empty DataFrame\n",
       "Columns: [document_id, paragraph_id, sentence_id, couple_id, speaker, gender, is_depressed_group, depressed_person, text]\n",
       "Index: []"
      ]
     },
     "metadata": {},
     "output_type": "display_data"
    }
   ],
   "source": [
    "display(parser.frame)"
   ]
  },
  {
   "cell_type": "code",
   "execution_count": 8,
   "metadata": {},
   "outputs": [],
   "source": [
    "from src.pipelinelib.querying import Parser, Queryable\n",
    "from src.pipelinelib.text_body import TextBody\n",
    "\n",
    "queryable = Queryable.from_parser(parser)"
   ]
  },
  {
   "cell_type": "code",
   "execution_count": 9,
   "metadata": {},
   "outputs": [
    {
     "name": "stdout",
     "output_type": "stream",
     "text": [
      "=== Queryable is executing on Document level, query = '' ===\n"
     ]
    },
    {
     "data": {
      "text/html": [
       "<div>\n",
       "<style scoped>\n",
       "    .dataframe tbody tr th:only-of-type {\n",
       "        vertical-align: middle;\n",
       "    }\n",
       "\n",
       "    .dataframe tbody tr th {\n",
       "        vertical-align: top;\n",
       "    }\n",
       "\n",
       "    .dataframe thead th {\n",
       "        text-align: right;\n",
       "    }\n",
       "</style>\n",
       "<table border=\"1\" class=\"dataframe\">\n",
       "  <thead>\n",
       "    <tr style=\"text-align: right;\">\n",
       "      <th></th>\n",
       "      <th>document_id</th>\n",
       "      <th>couple_id</th>\n",
       "      <th>is_depressed_group</th>\n",
       "      <th>depressed_person</th>\n",
       "      <th>text</th>\n",
       "    </tr>\n",
       "  </thead>\n",
       "  <tbody>\n",
       "  </tbody>\n",
       "</table>\n",
       "</div>"
      ],
      "text/plain": [
       "Empty DataFrame\n",
       "Columns: [document_id, couple_id, is_depressed_group, depressed_person, text]\n",
       "Index: []"
      ]
     },
     "metadata": {},
     "output_type": "display_data"
    }
   ],
   "source": [
    "document_df = queryable.execute(level=TextBody.DOCUMENT)\n",
    "display(document_df)"
   ]
  },
  {
   "cell_type": "code",
   "execution_count": 40,
   "metadata": {},
   "outputs": [
    {
     "name": "stdout",
     "output_type": "stream",
     "text": [
      "=== Queryable is executing on Paragraph, query = '' ===\n"
     ]
    },
    {
     "data": {
      "text/html": [
       "<div>\n",
       "<style scoped>\n",
       "    .dataframe tbody tr th:only-of-type {\n",
       "        vertical-align: middle;\n",
       "    }\n",
       "\n",
       "    .dataframe tbody tr th {\n",
       "        vertical-align: top;\n",
       "    }\n",
       "\n",
       "    .dataframe thead th {\n",
       "        text-align: right;\n",
       "    }\n",
       "</style>\n",
       "<table border=\"1\" class=\"dataframe\">\n",
       "  <thead>\n",
       "    <tr style=\"text-align: right;\">\n",
       "      <th></th>\n",
       "      <th>document_id</th>\n",
       "      <th>paragraph_id</th>\n",
       "      <th>couple_id</th>\n",
       "      <th>speaker</th>\n",
       "      <th>gender</th>\n",
       "      <th>is_depressed_group</th>\n",
       "      <th>depressed_person</th>\n",
       "      <th>text</th>\n",
       "    </tr>\n",
       "  </thead>\n",
       "  <tbody>\n",
       "    <tr>\n",
       "      <th>0</th>\n",
       "      <td>0</td>\n",
       "      <td>0</td>\n",
       "      <td>27</td>\n",
       "      <td>A</td>\n",
       "      <td>M</td>\n",
       "      <td>True</td>\n",
       "      <td>W</td>\n",
       "      <td>Positive Gefühle.</td>\n",
       "    </tr>\n",
       "    <tr>\n",
       "      <th>1</th>\n",
       "      <td>0</td>\n",
       "      <td>1</td>\n",
       "      <td>27</td>\n",
       "      <td>B</td>\n",
       "      <td>W</td>\n",
       "      <td>True</td>\n",
       "      <td>W</td>\n",
       "      <td>Ja, positive Gefühle können bei mir auslösen w...</td>\n",
       "    </tr>\n",
       "    <tr>\n",
       "      <th>2</th>\n",
       "      <td>0</td>\n",
       "      <td>2</td>\n",
       "      <td>27</td>\n",
       "      <td>A</td>\n",
       "      <td>M</td>\n",
       "      <td>True</td>\n",
       "      <td>W</td>\n",
       "      <td>Zuwendung, das ist ja, Zuwendung, wir beide, ...</td>\n",
       "    </tr>\n",
       "    <tr>\n",
       "      <th>3</th>\n",
       "      <td>0</td>\n",
       "      <td>3</td>\n",
       "      <td>27</td>\n",
       "      <td>B</td>\n",
       "      <td>W</td>\n",
       "      <td>True</td>\n",
       "      <td>W</td>\n",
       "      <td>Wir lieben beide Kinder, [A:. Ja] und die lieb...</td>\n",
       "    </tr>\n",
       "    <tr>\n",
       "      <th>4</th>\n",
       "      <td>0</td>\n",
       "      <td>4</td>\n",
       "      <td>27</td>\n",
       "      <td>A</td>\n",
       "      <td>M</td>\n",
       "      <td>True</td>\n",
       "      <td>W</td>\n",
       "      <td>Es tut gut, und mir tut´s auch gut sie zu beha...</td>\n",
       "    </tr>\n",
       "    <tr>\n",
       "      <th>...</th>\n",
       "      <td>...</td>\n",
       "      <td>...</td>\n",
       "      <td>...</td>\n",
       "      <td>...</td>\n",
       "      <td>...</td>\n",
       "      <td>...</td>\n",
       "      <td>...</td>\n",
       "      <td>...</td>\n",
       "    </tr>\n",
       "    <tr>\n",
       "      <th>752</th>\n",
       "      <td>9</td>\n",
       "      <td>103</td>\n",
       "      <td>87</td>\n",
       "      <td>B</td>\n",
       "      <td>W</td>\n",
       "      <td>False</td>\n",
       "      <td>None</td>\n",
       "      <td>Ja, sich nur über positives zu unterhalten.</td>\n",
       "    </tr>\n",
       "    <tr>\n",
       "      <th>753</th>\n",
       "      <td>9</td>\n",
       "      <td>104</td>\n",
       "      <td>87</td>\n",
       "      <td>A</td>\n",
       "      <td>M</td>\n",
       "      <td>False</td>\n",
       "      <td>None</td>\n",
       "      <td>Ja, stimmt.. Negative Sachen wirft man sich of...</td>\n",
       "    </tr>\n",
       "    <tr>\n",
       "      <th>754</th>\n",
       "      <td>9</td>\n",
       "      <td>106</td>\n",
       "      <td>87</td>\n",
       "      <td>A</td>\n",
       "      <td>M</td>\n",
       "      <td>False</td>\n",
       "      <td>None</td>\n",
       "      <td>Du bist witzig, du kannst witzig sein.. Ich ma...</td>\n",
       "    </tr>\n",
       "    <tr>\n",
       "      <th>755</th>\n",
       "      <td>9</td>\n",
       "      <td>107</td>\n",
       "      <td>87</td>\n",
       "      <td>B</td>\n",
       "      <td>W</td>\n",
       "      <td>False</td>\n",
       "      <td>None</td>\n",
       "      <td>Danke.</td>\n",
       "    </tr>\n",
       "    <tr>\n",
       "      <th>756</th>\n",
       "      <td>9</td>\n",
       "      <td>108</td>\n",
       "      <td>87</td>\n",
       "      <td>A</td>\n",
       "      <td>M</td>\n",
       "      <td>False</td>\n",
       "      <td>None</td>\n",
       "      <td>Ja… Ich find´s gut, dass du ein Instrument spi...</td>\n",
       "    </tr>\n",
       "  </tbody>\n",
       "</table>\n",
       "<p>757 rows × 8 columns</p>\n",
       "</div>"
      ],
      "text/plain": [
       "     document_id  paragraph_id  couple_id speaker gender  is_depressed_group  \\\n",
       "0              0             0         27       A      M                True   \n",
       "1              0             1         27       B      W                True   \n",
       "2              0             2         27       A      M                True   \n",
       "3              0             3         27       B      W                True   \n",
       "4              0             4         27       A      M                True   \n",
       "..           ...           ...        ...     ...    ...                 ...   \n",
       "752            9           103         87       B      W               False   \n",
       "753            9           104         87       A      M               False   \n",
       "754            9           106         87       A      M               False   \n",
       "755            9           107         87       B      W               False   \n",
       "756            9           108         87       A      M               False   \n",
       "\n",
       "    depressed_person                                               text  \n",
       "0                  W                                  Positive Gefühle.  \n",
       "1                  W  Ja, positive Gefühle können bei mir auslösen w...  \n",
       "2                  W   Zuwendung, das ist ja, Zuwendung, wir beide, ...  \n",
       "3                  W  Wir lieben beide Kinder, [A:. Ja] und die lieb...  \n",
       "4                  W  Es tut gut, und mir tut´s auch gut sie zu beha...  \n",
       "..               ...                                                ...  \n",
       "752             None        Ja, sich nur über positives zu unterhalten.  \n",
       "753             None  Ja, stimmt.. Negative Sachen wirft man sich of...  \n",
       "754             None  Du bist witzig, du kannst witzig sein.. Ich ma...  \n",
       "755             None                                             Danke.  \n",
       "756             None  Ja… Ich find´s gut, dass du ein Instrument spi...  \n",
       "\n",
       "[757 rows x 8 columns]"
      ]
     },
     "metadata": {},
     "output_type": "display_data"
    }
   ],
   "source": [
    "paragraph_df = queryable.execute(level=TextBody.PARAGRAPH)\n",
    "display(paragraph_df)"
   ]
  },
  {
   "cell_type": "code",
   "execution_count": 30,
   "metadata": {},
   "outputs": [
    {
     "name": "stdout",
     "output_type": "stream",
     "text": [
      "=== Queryable is executing on Sentence level, query = '' ===\n"
     ]
    },
    {
     "data": {
      "text/html": [
       "<div>\n",
       "<style scoped>\n",
       "    .dataframe tbody tr th:only-of-type {\n",
       "        vertical-align: middle;\n",
       "    }\n",
       "\n",
       "    .dataframe tbody tr th {\n",
       "        vertical-align: top;\n",
       "    }\n",
       "\n",
       "    .dataframe thead th {\n",
       "        text-align: right;\n",
       "    }\n",
       "</style>\n",
       "<table border=\"1\" class=\"dataframe\">\n",
       "  <thead>\n",
       "    <tr style=\"text-align: right;\">\n",
       "      <th></th>\n",
       "      <th>document_id</th>\n",
       "      <th>paragraph_id</th>\n",
       "      <th>sentence_id</th>\n",
       "      <th>couple_id</th>\n",
       "      <th>speaker</th>\n",
       "      <th>gender</th>\n",
       "      <th>is_depressed_group</th>\n",
       "      <th>depressed_person</th>\n",
       "      <th>text</th>\n",
       "    </tr>\n",
       "  </thead>\n",
       "  <tbody>\n",
       "  </tbody>\n",
       "</table>\n",
       "</div>"
      ],
      "text/plain": [
       "Empty DataFrame\n",
       "Columns: [document_id, paragraph_id, sentence_id, couple_id, speaker, gender, is_depressed_group, depressed_person, text]\n",
       "Index: []"
      ]
     },
     "metadata": {},
     "output_type": "display_data"
    },
    {
     "name": "stdout",
     "output_type": "stream",
     "text": [
      "=== Queryable is executing on Sentence level, query = '' ===\n"
     ]
    },
    {
     "data": {
      "text/html": [
       "<div>\n",
       "<style scoped>\n",
       "    .dataframe tbody tr th:only-of-type {\n",
       "        vertical-align: middle;\n",
       "    }\n",
       "\n",
       "    .dataframe tbody tr th {\n",
       "        vertical-align: top;\n",
       "    }\n",
       "\n",
       "    .dataframe thead th {\n",
       "        text-align: right;\n",
       "    }\n",
       "</style>\n",
       "<table border=\"1\" class=\"dataframe\">\n",
       "  <thead>\n",
       "    <tr style=\"text-align: right;\">\n",
       "      <th></th>\n",
       "      <th>document_id</th>\n",
       "      <th>paragraph_id</th>\n",
       "      <th>sentence_id</th>\n",
       "      <th>couple_id</th>\n",
       "      <th>speaker</th>\n",
       "      <th>gender</th>\n",
       "      <th>is_depressed_group</th>\n",
       "      <th>depressed_person</th>\n",
       "      <th>text</th>\n",
       "    </tr>\n",
       "  </thead>\n",
       "  <tbody>\n",
       "  </tbody>\n",
       "</table>\n",
       "</div>"
      ],
      "text/plain": [
       "Empty DataFrame\n",
       "Columns: [document_id, paragraph_id, sentence_id, couple_id, speaker, gender, is_depressed_group, depressed_person, text]\n",
       "Index: []"
      ]
     },
     "execution_count": 30,
     "metadata": {},
     "output_type": "execute_result"
    }
   ],
   "source": [
    "sentence_df = queryable.execute(level=TextBody.SENTENCE)\n",
    "display(sentence_df)\n",
    "\n",
    "queryable.execute(level=TextBody.SENTENCE)"
   ]
  },
  {
   "cell_type": "code",
   "execution_count": 29,
   "metadata": {},
   "outputs": [
    {
     "name": "stdout",
     "output_type": "stream",
     "text": [
      "=== Queryable is executing on Document level, query = '(couple_id == 27) and (is_depressed_group == False)' ===\n"
     ]
    },
    {
     "data": {
      "text/html": [
       "<div>\n",
       "<style scoped>\n",
       "    .dataframe tbody tr th:only-of-type {\n",
       "        vertical-align: middle;\n",
       "    }\n",
       "\n",
       "    .dataframe tbody tr th {\n",
       "        vertical-align: top;\n",
       "    }\n",
       "\n",
       "    .dataframe thead th {\n",
       "        text-align: right;\n",
       "    }\n",
       "</style>\n",
       "<table border=\"1\" class=\"dataframe\">\n",
       "  <thead>\n",
       "    <tr style=\"text-align: right;\">\n",
       "      <th></th>\n",
       "      <th>document_id</th>\n",
       "      <th>couple_id</th>\n",
       "      <th>is_depressed_group</th>\n",
       "      <th>depressed_person</th>\n",
       "      <th>text</th>\n",
       "    </tr>\n",
       "  </thead>\n",
       "  <tbody>\n",
       "  </tbody>\n",
       "</table>\n",
       "</div>"
      ],
      "text/plain": [
       "Empty DataFrame\n",
       "Columns: [document_id, couple_id, is_depressed_group, depressed_person, text]\n",
       "Index: []"
      ]
     },
     "metadata": {},
     "output_type": "display_data"
    }
   ],
   "source": [
    "pgs = queryable.by_couple_id(couple_id=27) \\\n",
    "    .is_depressed(d=False) \\\n",
    "    .execute(level=TextBody.DOCUMENT)\n",
    "display(pgs)"
   ]
  },
  {
   "cell_type": "code",
   "execution_count": null,
   "metadata": {},
   "outputs": [],
   "source": []
  }
 ],
 "metadata": {
  "kernelspec": {
   "display_name": "Python 3",
   "language": "python",
   "name": "python3"
  },
  "language_info": {
   "codemirror_mode": {
    "name": "ipython",
    "version": 3
   },
   "file_extension": ".py",
   "mimetype": "text/x-python",
   "name": "python",
   "nbconvert_exporter": "python",
   "pygments_lexer": "ipython3",
   "version": "3.9.1"
  }
 },
 "nbformat": 4,
 "nbformat_minor": 2
}
