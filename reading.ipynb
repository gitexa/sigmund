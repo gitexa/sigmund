{
 "metadata": {
  "language_info": {
   "codemirror_mode": {
    "name": "ipython",
    "version": 3
   },
   "file_extension": ".py",
   "mimetype": "text/x-python",
   "name": "python",
   "nbconvert_exporter": "python",
   "pygments_lexer": "ipython3",
   "version": "3.8.5-final"
  },
  "orig_nbformat": 2,
  "kernelspec": {
   "name": "python38564bitvenvvenv30852280aa994c9a85b4e785e689636a",
   "display_name": "Python 3.8.5 64-bit ('venv': venv)",
   "language": "python"
  }
 },
 "nbformat": 4,
 "nbformat_minor": 2,
 "cells": [
  {
   "cell_type": "code",
   "execution_count": 2,
   "metadata": {},
   "outputs": [],
   "source": [
    "%load_ext autoreload\n",
    "%autoreload 2"
   ]
  },
  {
   "cell_type": "code",
   "execution_count": 3,
   "metadata": {},
   "outputs": [],
   "source": [
    "import os\n",
    "from IPython.display import display \n",
    "\n",
    "import spacy"
   ]
  },
  {
   "cell_type": "code",
   "execution_count": 4,
   "metadata": {},
   "outputs": [],
   "source": [
    "folder = os.path.join(os.getcwd(), \"data\", \"texts\")\n",
    "files = [os.path.join(root, f) for root, _, files in os.walk(folder) for f in files if f.endswith(\".docx\")]\n",
    "        "
   ]
  },
  {
   "cell_type": "code",
   "execution_count": 12,
   "metadata": {
    "tags": []
   },
   "outputs": [
    {
     "output_type": "error",
     "ename": "ImportError",
     "evalue": "Missing optional dependency 'xlrd'. Install xlrd >= 1.0.0 for Excel support Use pip or conda to install xlrd.",
     "traceback": [
      "\u001b[0;31m---------------------------------------------------------------------------\u001b[0m",
      "\u001b[0;31mImportError\u001b[0m                               Traceback (most recent call last)",
      "\u001b[0;32m<ipython-input-12-5d8938599e6d>\u001b[0m in \u001b[0;36m<module>\u001b[0;34m\u001b[0m\n\u001b[1;32m      2\u001b[0m \u001b[0;34m\u001b[0m\u001b[0m\n\u001b[1;32m      3\u001b[0m \u001b[0mnlp\u001b[0m \u001b[0;34m=\u001b[0m \u001b[0mspacy\u001b[0m\u001b[0;34m.\u001b[0m\u001b[0mload\u001b[0m\u001b[0;34m(\u001b[0m\u001b[0;34m\"de_core_news_sm\"\u001b[0m\u001b[0;34m,\u001b[0m \u001b[0mdisable\u001b[0m\u001b[0;34m=\u001b[0m\u001b[0;34m[\u001b[0m\u001b[0;34m\"ner\"\u001b[0m\u001b[0;34m,\u001b[0m \u001b[0;34m\"parser\"\u001b[0m\u001b[0;34m]\u001b[0m\u001b[0;34m)\u001b[0m\u001b[0;34m\u001b[0m\u001b[0;34m\u001b[0m\u001b[0m\n\u001b[0;32m----> 4\u001b[0;31m \u001b[0mparser\u001b[0m \u001b[0;34m=\u001b[0m \u001b[0mParser\u001b[0m\u001b[0;34m(\u001b[0m\u001b[0mnlp\u001b[0m\u001b[0;34m=\u001b[0m\u001b[0mnlp\u001b[0m\u001b[0;34m,\u001b[0m \u001b[0mmetadata_path\u001b[0m\u001b[0;34m=\u001b[0m\u001b[0;34m\"./data/texts/Kopie von Transkriptionspaare_Daten.xls\"\u001b[0m\u001b[0;34m)\u001b[0m\u001b[0;34m\u001b[0m\u001b[0;34m\u001b[0m\u001b[0m\n\u001b[0m\u001b[1;32m      5\u001b[0m \u001b[0;34m\u001b[0m\u001b[0m\n\u001b[1;32m      6\u001b[0m \u001b[0mparser\u001b[0m\u001b[0;34m.\u001b[0m\u001b[0mread_from_files\u001b[0m\u001b[0;34m(\u001b[0m\u001b[0mfiles\u001b[0m\u001b[0;34m)\u001b[0m\u001b[0;34m\u001b[0m\u001b[0;34m\u001b[0m\u001b[0m\n",
      "\u001b[0;32m~/Projects/sigmund/src/pipelinelib/querying.py\u001b[0m in \u001b[0;36m__init__\u001b[0;34m(self, nlp, metadata_path)\u001b[0m\n\u001b[1;32m     37\u001b[0m \u001b[0;34m\u001b[0m\u001b[0m\n\u001b[1;32m     38\u001b[0m         \u001b[0;31m# Loads transcription metadata of institute\u001b[0m\u001b[0;34m\u001b[0m\u001b[0;34m\u001b[0m\u001b[0;34m\u001b[0m\u001b[0m\n\u001b[0;32m---> 39\u001b[0;31m         \u001b[0mself\u001b[0m\u001b[0;34m.\u001b[0m\u001b[0mmetadata\u001b[0m \u001b[0;34m=\u001b[0m \u001b[0mpd\u001b[0m\u001b[0;34m.\u001b[0m\u001b[0mread_excel\u001b[0m\u001b[0;34m(\u001b[0m\u001b[0mmetadata_path\u001b[0m\u001b[0;34m)\u001b[0m\u001b[0;34m\u001b[0m\u001b[0;34m\u001b[0m\u001b[0m\n\u001b[0m\u001b[1;32m     40\u001b[0m \u001b[0;34m\u001b[0m\u001b[0m\n\u001b[1;32m     41\u001b[0m         self.schema = {\n",
      "\u001b[0;32m~/Projects/sigmund/venv/lib/python3.8/site-packages/pandas/util/_decorators.py\u001b[0m in \u001b[0;36mwrapper\u001b[0;34m(*args, **kwargs)\u001b[0m\n\u001b[1;32m    294\u001b[0m                 )\n\u001b[1;32m    295\u001b[0m                 \u001b[0mwarnings\u001b[0m\u001b[0;34m.\u001b[0m\u001b[0mwarn\u001b[0m\u001b[0;34m(\u001b[0m\u001b[0mmsg\u001b[0m\u001b[0;34m,\u001b[0m \u001b[0mFutureWarning\u001b[0m\u001b[0;34m,\u001b[0m \u001b[0mstacklevel\u001b[0m\u001b[0;34m=\u001b[0m\u001b[0mstacklevel\u001b[0m\u001b[0;34m)\u001b[0m\u001b[0;34m\u001b[0m\u001b[0;34m\u001b[0m\u001b[0m\n\u001b[0;32m--> 296\u001b[0;31m             \u001b[0;32mreturn\u001b[0m \u001b[0mfunc\u001b[0m\u001b[0;34m(\u001b[0m\u001b[0;34m*\u001b[0m\u001b[0margs\u001b[0m\u001b[0;34m,\u001b[0m \u001b[0;34m**\u001b[0m\u001b[0mkwargs\u001b[0m\u001b[0;34m)\u001b[0m\u001b[0;34m\u001b[0m\u001b[0;34m\u001b[0m\u001b[0m\n\u001b[0m\u001b[1;32m    297\u001b[0m \u001b[0;34m\u001b[0m\u001b[0m\n\u001b[1;32m    298\u001b[0m         \u001b[0;32mreturn\u001b[0m \u001b[0mwrapper\u001b[0m\u001b[0;34m\u001b[0m\u001b[0;34m\u001b[0m\u001b[0m\n",
      "\u001b[0;32m~/Projects/sigmund/venv/lib/python3.8/site-packages/pandas/io/excel/_base.py\u001b[0m in \u001b[0;36mread_excel\u001b[0;34m(io, sheet_name, header, names, index_col, usecols, squeeze, dtype, engine, converters, true_values, false_values, skiprows, nrows, na_values, keep_default_na, na_filter, verbose, parse_dates, date_parser, thousands, comment, skipfooter, convert_float, mangle_dupe_cols)\u001b[0m\n\u001b[1;32m    302\u001b[0m \u001b[0;34m\u001b[0m\u001b[0m\n\u001b[1;32m    303\u001b[0m     \u001b[0;32mif\u001b[0m \u001b[0;32mnot\u001b[0m \u001b[0misinstance\u001b[0m\u001b[0;34m(\u001b[0m\u001b[0mio\u001b[0m\u001b[0;34m,\u001b[0m \u001b[0mExcelFile\u001b[0m\u001b[0;34m)\u001b[0m\u001b[0;34m:\u001b[0m\u001b[0;34m\u001b[0m\u001b[0;34m\u001b[0m\u001b[0m\n\u001b[0;32m--> 304\u001b[0;31m         \u001b[0mio\u001b[0m \u001b[0;34m=\u001b[0m \u001b[0mExcelFile\u001b[0m\u001b[0;34m(\u001b[0m\u001b[0mio\u001b[0m\u001b[0;34m,\u001b[0m \u001b[0mengine\u001b[0m\u001b[0;34m=\u001b[0m\u001b[0mengine\u001b[0m\u001b[0;34m)\u001b[0m\u001b[0;34m\u001b[0m\u001b[0;34m\u001b[0m\u001b[0m\n\u001b[0m\u001b[1;32m    305\u001b[0m     \u001b[0;32melif\u001b[0m \u001b[0mengine\u001b[0m \u001b[0;32mand\u001b[0m \u001b[0mengine\u001b[0m \u001b[0;34m!=\u001b[0m \u001b[0mio\u001b[0m\u001b[0;34m.\u001b[0m\u001b[0mengine\u001b[0m\u001b[0;34m:\u001b[0m\u001b[0;34m\u001b[0m\u001b[0;34m\u001b[0m\u001b[0m\n\u001b[1;32m    306\u001b[0m         raise ValueError(\n",
      "\u001b[0;32m~/Projects/sigmund/venv/lib/python3.8/site-packages/pandas/io/excel/_base.py\u001b[0m in \u001b[0;36m__init__\u001b[0;34m(self, path_or_buffer, engine)\u001b[0m\n\u001b[1;32m    865\u001b[0m         \u001b[0mself\u001b[0m\u001b[0;34m.\u001b[0m\u001b[0m_io\u001b[0m \u001b[0;34m=\u001b[0m \u001b[0mstringify_path\u001b[0m\u001b[0;34m(\u001b[0m\u001b[0mpath_or_buffer\u001b[0m\u001b[0;34m)\u001b[0m\u001b[0;34m\u001b[0m\u001b[0;34m\u001b[0m\u001b[0m\n\u001b[1;32m    866\u001b[0m \u001b[0;34m\u001b[0m\u001b[0m\n\u001b[0;32m--> 867\u001b[0;31m         \u001b[0mself\u001b[0m\u001b[0;34m.\u001b[0m\u001b[0m_reader\u001b[0m \u001b[0;34m=\u001b[0m \u001b[0mself\u001b[0m\u001b[0;34m.\u001b[0m\u001b[0m_engines\u001b[0m\u001b[0;34m[\u001b[0m\u001b[0mengine\u001b[0m\u001b[0;34m]\u001b[0m\u001b[0;34m(\u001b[0m\u001b[0mself\u001b[0m\u001b[0;34m.\u001b[0m\u001b[0m_io\u001b[0m\u001b[0;34m)\u001b[0m\u001b[0;34m\u001b[0m\u001b[0;34m\u001b[0m\u001b[0m\n\u001b[0m\u001b[1;32m    868\u001b[0m \u001b[0;34m\u001b[0m\u001b[0m\n\u001b[1;32m    869\u001b[0m     \u001b[0;32mdef\u001b[0m \u001b[0m__fspath__\u001b[0m\u001b[0;34m(\u001b[0m\u001b[0mself\u001b[0m\u001b[0;34m)\u001b[0m\u001b[0;34m:\u001b[0m\u001b[0;34m\u001b[0m\u001b[0;34m\u001b[0m\u001b[0m\n",
      "\u001b[0;32m~/Projects/sigmund/venv/lib/python3.8/site-packages/pandas/io/excel/_xlrd.py\u001b[0m in \u001b[0;36m__init__\u001b[0;34m(self, filepath_or_buffer)\u001b[0m\n\u001b[1;32m     19\u001b[0m         \"\"\"\n\u001b[1;32m     20\u001b[0m         \u001b[0merr_msg\u001b[0m \u001b[0;34m=\u001b[0m \u001b[0;34m\"Install xlrd >= 1.0.0 for Excel support\"\u001b[0m\u001b[0;34m\u001b[0m\u001b[0;34m\u001b[0m\u001b[0m\n\u001b[0;32m---> 21\u001b[0;31m         \u001b[0mimport_optional_dependency\u001b[0m\u001b[0;34m(\u001b[0m\u001b[0;34m\"xlrd\"\u001b[0m\u001b[0;34m,\u001b[0m \u001b[0mextra\u001b[0m\u001b[0;34m=\u001b[0m\u001b[0merr_msg\u001b[0m\u001b[0;34m)\u001b[0m\u001b[0;34m\u001b[0m\u001b[0;34m\u001b[0m\u001b[0m\n\u001b[0m\u001b[1;32m     22\u001b[0m         \u001b[0msuper\u001b[0m\u001b[0;34m(\u001b[0m\u001b[0;34m)\u001b[0m\u001b[0;34m.\u001b[0m\u001b[0m__init__\u001b[0m\u001b[0;34m(\u001b[0m\u001b[0mfilepath_or_buffer\u001b[0m\u001b[0;34m)\u001b[0m\u001b[0;34m\u001b[0m\u001b[0;34m\u001b[0m\u001b[0m\n\u001b[1;32m     23\u001b[0m \u001b[0;34m\u001b[0m\u001b[0m\n",
      "\u001b[0;32m~/Projects/sigmund/venv/lib/python3.8/site-packages/pandas/compat/_optional.py\u001b[0m in \u001b[0;36mimport_optional_dependency\u001b[0;34m(name, extra, raise_on_missing, on_version)\u001b[0m\n\u001b[1;32m    108\u001b[0m     \u001b[0;32mexcept\u001b[0m \u001b[0mImportError\u001b[0m\u001b[0;34m:\u001b[0m\u001b[0;34m\u001b[0m\u001b[0;34m\u001b[0m\u001b[0m\n\u001b[1;32m    109\u001b[0m         \u001b[0;32mif\u001b[0m \u001b[0mraise_on_missing\u001b[0m\u001b[0;34m:\u001b[0m\u001b[0;34m\u001b[0m\u001b[0;34m\u001b[0m\u001b[0m\n\u001b[0;32m--> 110\u001b[0;31m             \u001b[0;32mraise\u001b[0m \u001b[0mImportError\u001b[0m\u001b[0;34m(\u001b[0m\u001b[0mmsg\u001b[0m\u001b[0;34m)\u001b[0m \u001b[0;32mfrom\u001b[0m \u001b[0;32mNone\u001b[0m\u001b[0;34m\u001b[0m\u001b[0;34m\u001b[0m\u001b[0m\n\u001b[0m\u001b[1;32m    111\u001b[0m         \u001b[0;32melse\u001b[0m\u001b[0;34m:\u001b[0m\u001b[0;34m\u001b[0m\u001b[0;34m\u001b[0m\u001b[0m\n\u001b[1;32m    112\u001b[0m             \u001b[0;32mreturn\u001b[0m \u001b[0;32mNone\u001b[0m\u001b[0;34m\u001b[0m\u001b[0;34m\u001b[0m\u001b[0m\n",
      "\u001b[0;31mImportError\u001b[0m: Missing optional dependency 'xlrd'. Install xlrd >= 1.0.0 for Excel support Use pip or conda to install xlrd."
     ]
    }
   ],
   "source": [
    "from src.pipelinelib.querying import Parser, Queryable\n",
    "\n",
    "nlp = spacy.load(\"de_core_news_sm\", disable=[\"ner\", \"parser\"])\n",
    "parser = Parser(nlp=nlp, metadata_path=\"./data/texts/Kopie von Transkriptionspaare_Daten.xls\")\n",
    "\n",
    "parser.read_from_files(files)"
   ]
  },
  {
   "cell_type": "code",
   "execution_count": 37,
   "metadata": {},
   "outputs": [
    {
     "output_type": "display_data",
     "data": {
      "text/plain": "     document_id  paragraph_id  sentence_id  couple_id speaker gender  \\\n0              0             0            0         27       A      M   \n1              0             1            1         27       B      W   \n2              0             2            2         27       A      M   \n3              0             2            3         27       A      M   \n4              0             2            4         27       A      M   \n..           ...           ...          ...        ...     ...    ...   \n127            9           106          127         87       A      M   \n128            9           106          128         87       A      M   \n129            9           107          129         87       B      W   \n130            9           108          130         87       A      M   \n131            9           108          131         87       A      M   \n\n     is_depressed_group depressed_person  \\\n0                  True                W   \n1                  True                W   \n2                  True                W   \n3                  True                W   \n4                  True                W   \n..                  ...              ...   \n127               False             None   \n128               False             None   \n129               False             None   \n130               False             None   \n131               False             None   \n\n                                                  text  \n0                                    Positive Gefühle.  \n1    Ja, positive Gefühle können bei mir auslösen w...  \n2     Zuwendung, das ist ja, Zuwendung, wir beide, ...  \n3    Verteilung der Haushaltsaufgaben, das machen w...  \n4    Gleiche Vorstellung bei der Kindererziehung, i...  \n..                                                 ...  \n127                               Ich mag dein Lachen.  \n128                                    Hübsch bist du.  \n129                                             Danke.  \n130  Ja… Ich find´s gut, dass du ein Instrument spi...  \n131                                      Schon vorbei?  \n\n[1219 rows x 9 columns]",
      "text/html": "<div>\n<style scoped>\n    .dataframe tbody tr th:only-of-type {\n        vertical-align: middle;\n    }\n\n    .dataframe tbody tr th {\n        vertical-align: top;\n    }\n\n    .dataframe thead th {\n        text-align: right;\n    }\n</style>\n<table border=\"1\" class=\"dataframe\">\n  <thead>\n    <tr style=\"text-align: right;\">\n      <th></th>\n      <th>document_id</th>\n      <th>paragraph_id</th>\n      <th>sentence_id</th>\n      <th>couple_id</th>\n      <th>speaker</th>\n      <th>gender</th>\n      <th>is_depressed_group</th>\n      <th>depressed_person</th>\n      <th>text</th>\n    </tr>\n  </thead>\n  <tbody>\n    <tr>\n      <th>0</th>\n      <td>0</td>\n      <td>0</td>\n      <td>0</td>\n      <td>27</td>\n      <td>A</td>\n      <td>M</td>\n      <td>True</td>\n      <td>W</td>\n      <td>Positive Gefühle.</td>\n    </tr>\n    <tr>\n      <th>1</th>\n      <td>0</td>\n      <td>1</td>\n      <td>1</td>\n      <td>27</td>\n      <td>B</td>\n      <td>W</td>\n      <td>True</td>\n      <td>W</td>\n      <td>Ja, positive Gefühle können bei mir auslösen w...</td>\n    </tr>\n    <tr>\n      <th>2</th>\n      <td>0</td>\n      <td>2</td>\n      <td>2</td>\n      <td>27</td>\n      <td>A</td>\n      <td>M</td>\n      <td>True</td>\n      <td>W</td>\n      <td>Zuwendung, das ist ja, Zuwendung, wir beide, ...</td>\n    </tr>\n    <tr>\n      <th>3</th>\n      <td>0</td>\n      <td>2</td>\n      <td>3</td>\n      <td>27</td>\n      <td>A</td>\n      <td>M</td>\n      <td>True</td>\n      <td>W</td>\n      <td>Verteilung der Haushaltsaufgaben, das machen w...</td>\n    </tr>\n    <tr>\n      <th>4</th>\n      <td>0</td>\n      <td>2</td>\n      <td>4</td>\n      <td>27</td>\n      <td>A</td>\n      <td>M</td>\n      <td>True</td>\n      <td>W</td>\n      <td>Gleiche Vorstellung bei der Kindererziehung, i...</td>\n    </tr>\n    <tr>\n      <th>...</th>\n      <td>...</td>\n      <td>...</td>\n      <td>...</td>\n      <td>...</td>\n      <td>...</td>\n      <td>...</td>\n      <td>...</td>\n      <td>...</td>\n      <td>...</td>\n    </tr>\n    <tr>\n      <th>127</th>\n      <td>9</td>\n      <td>106</td>\n      <td>127</td>\n      <td>87</td>\n      <td>A</td>\n      <td>M</td>\n      <td>False</td>\n      <td>None</td>\n      <td>Ich mag dein Lachen.</td>\n    </tr>\n    <tr>\n      <th>128</th>\n      <td>9</td>\n      <td>106</td>\n      <td>128</td>\n      <td>87</td>\n      <td>A</td>\n      <td>M</td>\n      <td>False</td>\n      <td>None</td>\n      <td>Hübsch bist du.</td>\n    </tr>\n    <tr>\n      <th>129</th>\n      <td>9</td>\n      <td>107</td>\n      <td>129</td>\n      <td>87</td>\n      <td>B</td>\n      <td>W</td>\n      <td>False</td>\n      <td>None</td>\n      <td>Danke.</td>\n    </tr>\n    <tr>\n      <th>130</th>\n      <td>9</td>\n      <td>108</td>\n      <td>130</td>\n      <td>87</td>\n      <td>A</td>\n      <td>M</td>\n      <td>False</td>\n      <td>None</td>\n      <td>Ja… Ich find´s gut, dass du ein Instrument spi...</td>\n    </tr>\n    <tr>\n      <th>131</th>\n      <td>9</td>\n      <td>108</td>\n      <td>131</td>\n      <td>87</td>\n      <td>A</td>\n      <td>M</td>\n      <td>False</td>\n      <td>None</td>\n      <td>Schon vorbei?</td>\n    </tr>\n  </tbody>\n</table>\n<p>1219 rows × 9 columns</p>\n</div>"
     },
     "metadata": {}
    }
   ],
   "source": [
    "display(parser.frame)"
   ]
  },
  {
   "cell_type": "code",
   "execution_count": 10,
   "metadata": {},
   "outputs": [
    {
     "output_type": "error",
     "ename": "ModuleNotFoundError",
     "evalue": "No module named 'src.utils.querying'",
     "traceback": [
      "\u001b[0;31m---------------------------------------------------------------------------\u001b[0m",
      "\u001b[0;31mModuleNotFoundError\u001b[0m                       Traceback (most recent call last)",
      "\u001b[0;32m<ipython-input-10-04a2358e8cd2>\u001b[0m in \u001b[0;36m<module>\u001b[0;34m\u001b[0m\n\u001b[0;32m----> 1\u001b[0;31m \u001b[0;32mfrom\u001b[0m \u001b[0msrc\u001b[0m\u001b[0;34m.\u001b[0m\u001b[0mutils\u001b[0m\u001b[0;34m.\u001b[0m\u001b[0mquerying\u001b[0m \u001b[0;32mimport\u001b[0m \u001b[0mParser\u001b[0m\u001b[0;34m,\u001b[0m \u001b[0mQueryable\u001b[0m\u001b[0;34m\u001b[0m\u001b[0;34m\u001b[0m\u001b[0m\n\u001b[0m\u001b[1;32m      2\u001b[0m \u001b[0;32mfrom\u001b[0m \u001b[0msrc\u001b[0m\u001b[0;34m.\u001b[0m\u001b[0mpipelinelib\u001b[0m\u001b[0;34m.\u001b[0m\u001b[0mtext_body\u001b[0m \u001b[0;32mimport\u001b[0m \u001b[0mTextBody\u001b[0m\u001b[0;34m\u001b[0m\u001b[0;34m\u001b[0m\u001b[0m\n\u001b[1;32m      3\u001b[0m \u001b[0;34m\u001b[0m\u001b[0m\n\u001b[1;32m      4\u001b[0m \u001b[0mqueryable\u001b[0m \u001b[0;34m=\u001b[0m \u001b[0mQueryable\u001b[0m\u001b[0;34m.\u001b[0m\u001b[0mfrom_parser\u001b[0m\u001b[0;34m(\u001b[0m\u001b[0mparser\u001b[0m\u001b[0;34m)\u001b[0m\u001b[0;34m\u001b[0m\u001b[0;34m\u001b[0m\u001b[0m\n",
      "\u001b[0;31mModuleNotFoundError\u001b[0m: No module named 'src.utils.querying'"
     ]
    }
   ],
   "source": [
    "from src.utils.querying import Parser, Queryable\n",
    "from src.pipelinelib.text_body import TextBody\n",
    "\n",
    "queryable = Queryable.from_parser(parser)"
   ]
  },
  {
   "cell_type": "code",
   "execution_count": 39,
   "metadata": {},
   "outputs": [
    {
     "output_type": "stream",
     "name": "stdout",
     "text": [
      "=== Queryable is executing on Document, query = '' ===\n"
     ]
    },
    {
     "output_type": "display_data",
     "data": {
      "text/plain": "   document_id  couple_id  is_depressed_group depressed_person  \\\n0            0         27                True                W   \n1            1        182               False             None   \n2            2         81               False             None   \n3            3         47                True                W   \n4            4         58               False             None   \n5            5         29               False             None   \n6            6        105                True                W   \n7            7         60                True                W   \n8            8        138                True                W   \n9            9         87               False             None   \n\n                                                text  \n0  Positive Gefühle.. Ja, positive Gefühle können...  \n1  (unv.. 00:02). Hm?. Du solltest doch nicht nac...  \n2  Ich dachte wir reden darüber wie wir die erste...  \n3  Erzähl mir was.. Also wir müssen die Fragen je...  \n4  Soll ich anfangen?. Ich hab mir was überlegt.....  \n5  Gut, fangen wir mal an.. Ja, fang du mal an.. ...  \n6   Jetzt sollen wir uns unterhalten?. Genau.. Al...  \n7  Wenn´s positiv geht, dann wird es nicht laut, ...  \n8  (unv.. 2 s.). Am Ammersee.. Dann machen wir es...  \n9  Wie lang?. 10 Minuten. Okay, dann fang mal an....  ",
      "text/html": "<div>\n<style scoped>\n    .dataframe tbody tr th:only-of-type {\n        vertical-align: middle;\n    }\n\n    .dataframe tbody tr th {\n        vertical-align: top;\n    }\n\n    .dataframe thead th {\n        text-align: right;\n    }\n</style>\n<table border=\"1\" class=\"dataframe\">\n  <thead>\n    <tr style=\"text-align: right;\">\n      <th></th>\n      <th>document_id</th>\n      <th>couple_id</th>\n      <th>is_depressed_group</th>\n      <th>depressed_person</th>\n      <th>text</th>\n    </tr>\n  </thead>\n  <tbody>\n    <tr>\n      <th>0</th>\n      <td>0</td>\n      <td>27</td>\n      <td>True</td>\n      <td>W</td>\n      <td>Positive Gefühle.. Ja, positive Gefühle können...</td>\n    </tr>\n    <tr>\n      <th>1</th>\n      <td>1</td>\n      <td>182</td>\n      <td>False</td>\n      <td>None</td>\n      <td>(unv.. 00:02). Hm?. Du solltest doch nicht nac...</td>\n    </tr>\n    <tr>\n      <th>2</th>\n      <td>2</td>\n      <td>81</td>\n      <td>False</td>\n      <td>None</td>\n      <td>Ich dachte wir reden darüber wie wir die erste...</td>\n    </tr>\n    <tr>\n      <th>3</th>\n      <td>3</td>\n      <td>47</td>\n      <td>True</td>\n      <td>W</td>\n      <td>Erzähl mir was.. Also wir müssen die Fragen je...</td>\n    </tr>\n    <tr>\n      <th>4</th>\n      <td>4</td>\n      <td>58</td>\n      <td>False</td>\n      <td>None</td>\n      <td>Soll ich anfangen?. Ich hab mir was überlegt.....</td>\n    </tr>\n    <tr>\n      <th>5</th>\n      <td>5</td>\n      <td>29</td>\n      <td>False</td>\n      <td>None</td>\n      <td>Gut, fangen wir mal an.. Ja, fang du mal an.. ...</td>\n    </tr>\n    <tr>\n      <th>6</th>\n      <td>6</td>\n      <td>105</td>\n      <td>True</td>\n      <td>W</td>\n      <td>Jetzt sollen wir uns unterhalten?. Genau.. Al...</td>\n    </tr>\n    <tr>\n      <th>7</th>\n      <td>7</td>\n      <td>60</td>\n      <td>True</td>\n      <td>W</td>\n      <td>Wenn´s positiv geht, dann wird es nicht laut, ...</td>\n    </tr>\n    <tr>\n      <th>8</th>\n      <td>8</td>\n      <td>138</td>\n      <td>True</td>\n      <td>W</td>\n      <td>(unv.. 2 s.). Am Ammersee.. Dann machen wir es...</td>\n    </tr>\n    <tr>\n      <th>9</th>\n      <td>9</td>\n      <td>87</td>\n      <td>False</td>\n      <td>None</td>\n      <td>Wie lang?. 10 Minuten. Okay, dann fang mal an....</td>\n    </tr>\n  </tbody>\n</table>\n</div>"
     },
     "metadata": {}
    }
   ],
   "source": [
    "document_df = queryable.execute(level=TextBody.DOCUMENT)\n",
    "display(document_df)"
   ]
  },
  {
   "cell_type": "code",
   "execution_count": 40,
   "metadata": {},
   "outputs": [
    {
     "output_type": "stream",
     "name": "stdout",
     "text": [
      "=== Queryable is executing on Paragraph, query = '' ===\n"
     ]
    },
    {
     "output_type": "display_data",
     "data": {
      "text/plain": "     document_id  paragraph_id  couple_id speaker gender  is_depressed_group  \\\n0              0             0         27       A      M                True   \n1              0             1         27       B      W                True   \n2              0             2         27       A      M                True   \n3              0             3         27       B      W                True   \n4              0             4         27       A      M                True   \n..           ...           ...        ...     ...    ...                 ...   \n752            9           103         87       B      W               False   \n753            9           104         87       A      M               False   \n754            9           106         87       A      M               False   \n755            9           107         87       B      W               False   \n756            9           108         87       A      M               False   \n\n    depressed_person                                               text  \n0                  W                                  Positive Gefühle.  \n1                  W  Ja, positive Gefühle können bei mir auslösen w...  \n2                  W   Zuwendung, das ist ja, Zuwendung, wir beide, ...  \n3                  W  Wir lieben beide Kinder, [A:. Ja] und die lieb...  \n4                  W  Es tut gut, und mir tut´s auch gut sie zu beha...  \n..               ...                                                ...  \n752             None        Ja, sich nur über positives zu unterhalten.  \n753             None  Ja, stimmt.. Negative Sachen wirft man sich of...  \n754             None  Du bist witzig, du kannst witzig sein.. Ich ma...  \n755             None                                             Danke.  \n756             None  Ja… Ich find´s gut, dass du ein Instrument spi...  \n\n[757 rows x 8 columns]",
      "text/html": "<div>\n<style scoped>\n    .dataframe tbody tr th:only-of-type {\n        vertical-align: middle;\n    }\n\n    .dataframe tbody tr th {\n        vertical-align: top;\n    }\n\n    .dataframe thead th {\n        text-align: right;\n    }\n</style>\n<table border=\"1\" class=\"dataframe\">\n  <thead>\n    <tr style=\"text-align: right;\">\n      <th></th>\n      <th>document_id</th>\n      <th>paragraph_id</th>\n      <th>couple_id</th>\n      <th>speaker</th>\n      <th>gender</th>\n      <th>is_depressed_group</th>\n      <th>depressed_person</th>\n      <th>text</th>\n    </tr>\n  </thead>\n  <tbody>\n    <tr>\n      <th>0</th>\n      <td>0</td>\n      <td>0</td>\n      <td>27</td>\n      <td>A</td>\n      <td>M</td>\n      <td>True</td>\n      <td>W</td>\n      <td>Positive Gefühle.</td>\n    </tr>\n    <tr>\n      <th>1</th>\n      <td>0</td>\n      <td>1</td>\n      <td>27</td>\n      <td>B</td>\n      <td>W</td>\n      <td>True</td>\n      <td>W</td>\n      <td>Ja, positive Gefühle können bei mir auslösen w...</td>\n    </tr>\n    <tr>\n      <th>2</th>\n      <td>0</td>\n      <td>2</td>\n      <td>27</td>\n      <td>A</td>\n      <td>M</td>\n      <td>True</td>\n      <td>W</td>\n      <td>Zuwendung, das ist ja, Zuwendung, wir beide, ...</td>\n    </tr>\n    <tr>\n      <th>3</th>\n      <td>0</td>\n      <td>3</td>\n      <td>27</td>\n      <td>B</td>\n      <td>W</td>\n      <td>True</td>\n      <td>W</td>\n      <td>Wir lieben beide Kinder, [A:. Ja] und die lieb...</td>\n    </tr>\n    <tr>\n      <th>4</th>\n      <td>0</td>\n      <td>4</td>\n      <td>27</td>\n      <td>A</td>\n      <td>M</td>\n      <td>True</td>\n      <td>W</td>\n      <td>Es tut gut, und mir tut´s auch gut sie zu beha...</td>\n    </tr>\n    <tr>\n      <th>...</th>\n      <td>...</td>\n      <td>...</td>\n      <td>...</td>\n      <td>...</td>\n      <td>...</td>\n      <td>...</td>\n      <td>...</td>\n      <td>...</td>\n    </tr>\n    <tr>\n      <th>752</th>\n      <td>9</td>\n      <td>103</td>\n      <td>87</td>\n      <td>B</td>\n      <td>W</td>\n      <td>False</td>\n      <td>None</td>\n      <td>Ja, sich nur über positives zu unterhalten.</td>\n    </tr>\n    <tr>\n      <th>753</th>\n      <td>9</td>\n      <td>104</td>\n      <td>87</td>\n      <td>A</td>\n      <td>M</td>\n      <td>False</td>\n      <td>None</td>\n      <td>Ja, stimmt.. Negative Sachen wirft man sich of...</td>\n    </tr>\n    <tr>\n      <th>754</th>\n      <td>9</td>\n      <td>106</td>\n      <td>87</td>\n      <td>A</td>\n      <td>M</td>\n      <td>False</td>\n      <td>None</td>\n      <td>Du bist witzig, du kannst witzig sein.. Ich ma...</td>\n    </tr>\n    <tr>\n      <th>755</th>\n      <td>9</td>\n      <td>107</td>\n      <td>87</td>\n      <td>B</td>\n      <td>W</td>\n      <td>False</td>\n      <td>None</td>\n      <td>Danke.</td>\n    </tr>\n    <tr>\n      <th>756</th>\n      <td>9</td>\n      <td>108</td>\n      <td>87</td>\n      <td>A</td>\n      <td>M</td>\n      <td>False</td>\n      <td>None</td>\n      <td>Ja… Ich find´s gut, dass du ein Instrument spi...</td>\n    </tr>\n  </tbody>\n</table>\n<p>757 rows × 8 columns</p>\n</div>"
     },
     "metadata": {}
    }
   ],
   "source": [
    "paragraph_df = queryable.execute(level=TextBody.PARAGRAPH)\n",
    "display(paragraph_df)"
   ]
  },
  {
   "cell_type": "code",
   "execution_count": 41,
   "metadata": {},
   "outputs": [
    {
     "output_type": "stream",
     "name": "stdout",
     "text": [
      "=== Queryable is executing on Sentence, query = '' ===\n"
     ]
    },
    {
     "output_type": "display_data",
     "data": {
      "text/plain": "     document_id  paragraph_id  sentence_id  couple_id speaker gender  \\\n0              0             0            0         27       A      M   \n1              0             1            1         27       B      W   \n2              0             2            2         27       A      M   \n3              0             2            3         27       A      M   \n4              0             2            4         27       A      M   \n..           ...           ...          ...        ...     ...    ...   \n127            9           106          127         87       A      M   \n128            9           106          128         87       A      M   \n129            9           107          129         87       B      W   \n130            9           108          130         87       A      M   \n131            9           108          131         87       A      M   \n\n     is_depressed_group depressed_person  \\\n0                  True                W   \n1                  True                W   \n2                  True                W   \n3                  True                W   \n4                  True                W   \n..                  ...              ...   \n127               False             None   \n128               False             None   \n129               False             None   \n130               False             None   \n131               False             None   \n\n                                                  text  \n0                                    Positive Gefühle.  \n1    Ja, positive Gefühle können bei mir auslösen w...  \n2     Zuwendung, das ist ja, Zuwendung, wir beide, ...  \n3    Verteilung der Haushaltsaufgaben, das machen w...  \n4    Gleiche Vorstellung bei der Kindererziehung, i...  \n..                                                 ...  \n127                               Ich mag dein Lachen.  \n128                                    Hübsch bist du.  \n129                                             Danke.  \n130  Ja… Ich find´s gut, dass du ein Instrument spi...  \n131                                      Schon vorbei?  \n\n[1219 rows x 9 columns]",
      "text/html": "<div>\n<style scoped>\n    .dataframe tbody tr th:only-of-type {\n        vertical-align: middle;\n    }\n\n    .dataframe tbody tr th {\n        vertical-align: top;\n    }\n\n    .dataframe thead th {\n        text-align: right;\n    }\n</style>\n<table border=\"1\" class=\"dataframe\">\n  <thead>\n    <tr style=\"text-align: right;\">\n      <th></th>\n      <th>document_id</th>\n      <th>paragraph_id</th>\n      <th>sentence_id</th>\n      <th>couple_id</th>\n      <th>speaker</th>\n      <th>gender</th>\n      <th>is_depressed_group</th>\n      <th>depressed_person</th>\n      <th>text</th>\n    </tr>\n  </thead>\n  <tbody>\n    <tr>\n      <th>0</th>\n      <td>0</td>\n      <td>0</td>\n      <td>0</td>\n      <td>27</td>\n      <td>A</td>\n      <td>M</td>\n      <td>True</td>\n      <td>W</td>\n      <td>Positive Gefühle.</td>\n    </tr>\n    <tr>\n      <th>1</th>\n      <td>0</td>\n      <td>1</td>\n      <td>1</td>\n      <td>27</td>\n      <td>B</td>\n      <td>W</td>\n      <td>True</td>\n      <td>W</td>\n      <td>Ja, positive Gefühle können bei mir auslösen w...</td>\n    </tr>\n    <tr>\n      <th>2</th>\n      <td>0</td>\n      <td>2</td>\n      <td>2</td>\n      <td>27</td>\n      <td>A</td>\n      <td>M</td>\n      <td>True</td>\n      <td>W</td>\n      <td>Zuwendung, das ist ja, Zuwendung, wir beide, ...</td>\n    </tr>\n    <tr>\n      <th>3</th>\n      <td>0</td>\n      <td>2</td>\n      <td>3</td>\n      <td>27</td>\n      <td>A</td>\n      <td>M</td>\n      <td>True</td>\n      <td>W</td>\n      <td>Verteilung der Haushaltsaufgaben, das machen w...</td>\n    </tr>\n    <tr>\n      <th>4</th>\n      <td>0</td>\n      <td>2</td>\n      <td>4</td>\n      <td>27</td>\n      <td>A</td>\n      <td>M</td>\n      <td>True</td>\n      <td>W</td>\n      <td>Gleiche Vorstellung bei der Kindererziehung, i...</td>\n    </tr>\n    <tr>\n      <th>...</th>\n      <td>...</td>\n      <td>...</td>\n      <td>...</td>\n      <td>...</td>\n      <td>...</td>\n      <td>...</td>\n      <td>...</td>\n      <td>...</td>\n      <td>...</td>\n    </tr>\n    <tr>\n      <th>127</th>\n      <td>9</td>\n      <td>106</td>\n      <td>127</td>\n      <td>87</td>\n      <td>A</td>\n      <td>M</td>\n      <td>False</td>\n      <td>None</td>\n      <td>Ich mag dein Lachen.</td>\n    </tr>\n    <tr>\n      <th>128</th>\n      <td>9</td>\n      <td>106</td>\n      <td>128</td>\n      <td>87</td>\n      <td>A</td>\n      <td>M</td>\n      <td>False</td>\n      <td>None</td>\n      <td>Hübsch bist du.</td>\n    </tr>\n    <tr>\n      <th>129</th>\n      <td>9</td>\n      <td>107</td>\n      <td>129</td>\n      <td>87</td>\n      <td>B</td>\n      <td>W</td>\n      <td>False</td>\n      <td>None</td>\n      <td>Danke.</td>\n    </tr>\n    <tr>\n      <th>130</th>\n      <td>9</td>\n      <td>108</td>\n      <td>130</td>\n      <td>87</td>\n      <td>A</td>\n      <td>M</td>\n      <td>False</td>\n      <td>None</td>\n      <td>Ja… Ich find´s gut, dass du ein Instrument spi...</td>\n    </tr>\n    <tr>\n      <th>131</th>\n      <td>9</td>\n      <td>108</td>\n      <td>131</td>\n      <td>87</td>\n      <td>A</td>\n      <td>M</td>\n      <td>False</td>\n      <td>None</td>\n      <td>Schon vorbei?</td>\n    </tr>\n  </tbody>\n</table>\n<p>1219 rows × 9 columns</p>\n</div>"
     },
     "metadata": {}
    },
    {
     "output_type": "error",
     "ename": "TypeError",
     "evalue": "execute() missing 1 required positional argument: 'level'",
     "traceback": [
      "\u001b[0;31m---------------------------------------------------------------------------\u001b[0m",
      "\u001b[0;31mTypeError\u001b[0m                                 Traceback (most recent call last)",
      "\u001b[0;32m<ipython-input-41-bc44ac9c3176>\u001b[0m in \u001b[0;36m<module>\u001b[0;34m\u001b[0m\n\u001b[1;32m      2\u001b[0m \u001b[0mdisplay\u001b[0m\u001b[0;34m(\u001b[0m\u001b[0msentence_df\u001b[0m\u001b[0;34m)\u001b[0m\u001b[0;34m\u001b[0m\u001b[0;34m\u001b[0m\u001b[0m\n\u001b[1;32m      3\u001b[0m \u001b[0;34m\u001b[0m\u001b[0m\n\u001b[0;32m----> 4\u001b[0;31m \u001b[0mqueryable\u001b[0m\u001b[0;34m.\u001b[0m\u001b[0mexecute\u001b[0m\u001b[0;34m(\u001b[0m\u001b[0;34m)\u001b[0m\u001b[0;34m\u001b[0m\u001b[0;34m\u001b[0m\u001b[0m\n\u001b[0m",
      "\u001b[0;31mTypeError\u001b[0m: execute() missing 1 required positional argument: 'level'"
     ]
    }
   ],
   "source": [
    "sentence_df = queryable.execute(level=TextBody.SENTENCE)\n",
    "display(sentence_df)\n",
    "\n",
    "queryable.execute()"
   ]
  },
  {
   "cell_type": "code",
   "execution_count": 32,
   "metadata": {},
   "outputs": [
    {
     "output_type": "stream",
     "name": "stdout",
     "text": [
      "=== Queryable is executing on Document, query = '(couple_id == 27) and (is_depressed_group == False)' ===\n"
     ]
    },
    {
     "output_type": "display_data",
     "data": {
      "text/plain": "Empty DataFrame\nColumns: [document_id, couple_id, is_depressed_group, depressed_person, text]\nIndex: []",
      "text/html": "<div>\n<style scoped>\n    .dataframe tbody tr th:only-of-type {\n        vertical-align: middle;\n    }\n\n    .dataframe tbody tr th {\n        vertical-align: top;\n    }\n\n    .dataframe thead th {\n        text-align: right;\n    }\n</style>\n<table border=\"1\" class=\"dataframe\">\n  <thead>\n    <tr style=\"text-align: right;\">\n      <th></th>\n      <th>document_id</th>\n      <th>couple_id</th>\n      <th>is_depressed_group</th>\n      <th>depressed_person</th>\n      <th>text</th>\n    </tr>\n  </thead>\n  <tbody>\n  </tbody>\n</table>\n</div>"
     },
     "metadata": {}
    }
   ],
   "source": [
    "pgs = queryable.by_couple_id(couple_id=27) \\\n",
    "    .is_depressed(d=False) \\\n",
    "    .execute(level=TextBody.DOCUMENT)\n",
    "display(pgs)"
   ]
  },
  {
   "cell_type": "code",
   "execution_count": null,
   "metadata": {},
   "outputs": [],
   "source": []
  }
 ]
}